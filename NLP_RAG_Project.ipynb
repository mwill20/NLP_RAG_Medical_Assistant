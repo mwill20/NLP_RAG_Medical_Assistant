{
  "cells": [
    {
      "cell_type": "markdown",
      "metadata": {
        "id": "3CNz35ia6Bz3"
      },
      "source": [
        "## Problem Statement"
      ]
    },
    {
      "cell_type": "markdown",
      "metadata": {
        "id": "CkRbhMJH6Bz3"
      },
      "source": [
        "### Business Context"
      ]
    },
    {
      "cell_type": "markdown",
      "metadata": {
        "id": "3PBm5xaj6Bz3"
      },
      "source": [
        "The healthcare industry is rapidly evolving, with professionals facing increasing challenges in managing vast volumes of medical data while delivering accurate and timely diagnoses. The need for quick access to comprehensive, reliable, and up-to-date medical knowledge is critical for improving patient outcomes and ensuring informed decision-making in a fast-paced environment.\n",
        "\n",
        "Healthcare professionals often encounter information overload, struggling to sift through extensive research and data to create accurate diagnoses and treatment plans. This challenge is amplified by the need for efficiency, particularly in emergencies, where time-sensitive decisions are vital. Furthermore, access to trusted, current medical information from renowned manuals and research papers is essential for maintaining high standards of care.\n",
        "\n",
        "To address these challenges, healthcare centers can focus on integrating systems that streamline access to medical knowledge, provide tools to support quick decision-making, and enhance efficiency. Leveraging centralized knowledge platforms and ensuring healthcare providers have continuous access to reliable resources can significantly improve patient care and operational effectiveness."
      ]
    },
    {
      "cell_type": "markdown",
      "metadata": {
        "id": "1xDPsqvO6Bz5"
      },
      "source": [
        "**Common Questions to Answer**\n",
        "\n",
        "**1. Diagnostic Assistance**: \"What are the common symptoms and treatments for pulmonary embolism?\"\n",
        "\n",
        "**2. Drug Information**: \"Can you provide the trade names of medications used for treating hypertension?\"\n",
        "\n",
        "**3. Treatment Plans**: \"What are the first-line options and alternatives for managing rheumatoid arthritis?\"\n",
        "\n",
        "**4. Specialty Knowledge**: \"What are the diagnostic steps for suspected endocrine disorders?\"\n",
        "\n",
        "**5. Critical Care Protocols**: \"What is the protocol for managing sepsis in a critical care unit?\""
      ]
    },
    {
      "cell_type": "markdown",
      "metadata": {
        "id": "CARPKFwm6Bz4"
      },
      "source": [
        "### Objective"
      ]
    },
    {
      "cell_type": "markdown",
      "metadata": {
        "id": "dOElOEXq6Bz4"
      },
      "source": [
        "As an AI specialist, your task is to develop a RAG-based AI solution using renowned medical manuals to address healthcare challenges. The objective is to **understand** issues like information overload, **apply** AI techniques to streamline decision-making, **analyze** its impact on diagnostics and patient outcomes, **evaluate** its potential to standardize care practices, and **create** a functional prototype demonstrating its feasibility and effectiveness."
      ]
    },
    {
      "cell_type": "markdown",
      "metadata": {
        "id": "by9EvAnkSpZf"
      },
      "source": [
        "### Data Description"
      ]
    },
    {
      "cell_type": "markdown",
      "metadata": {
        "id": "Jw5LievCSru2"
      },
      "source": [
        "The **Merck Manuals** are medical references published by the American pharmaceutical company Merck & Co., that cover a wide range of medical topics, including disorders, tests, diagnoses, and drugs. The manuals have been published since 1899, when Merck & Co. was still a subsidiary of the German company Merck.\n",
        "\n",
        "The manual is provided as a PDF with over 4,000 pages divided into 23 sections."
      ]
    },
    {
      "cell_type": "markdown",
      "metadata": {
        "id": "lnwETBOE6Bz5"
      },
      "source": [
        "## Installing and Importing Necessary Libraries and Dependencies"
      ]
    },
    {
      "cell_type": "code",
      "execution_count": null,
      "metadata": {
        "colab": {
          "base_uri": "https://localhost:8080/",
          "height": 2482
        },
        "id": "q4GgLhZhUM4V",
        "outputId": "cc7db220-4a06-41f3-ea05-fdf6d7debc4b"
      },
      "outputs": [
        {
          "output_type": "stream",
          "name": "stdout",
          "text": [
            "\u001b[?25l     \u001b[90m━━━━━━━━━━━━━━━━━━━━━━━━━━━━━━━━━━━━━━━━\u001b[0m \u001b[32m0.0/1.8 MB\u001b[0m \u001b[31m?\u001b[0m eta \u001b[36m-:--:--\u001b[0m\r\u001b[2K     \u001b[91m━━\u001b[0m\u001b[90m╺\u001b[0m\u001b[90m━━━━━━━━━━━━━━━━━━━━━━━━━━━━━━━━━━━━━\u001b[0m \u001b[32m0.1/1.8 MB\u001b[0m \u001b[31m3.8 MB/s\u001b[0m eta \u001b[36m0:00:01\u001b[0m\r\u001b[2K     \u001b[91m━━━━━━━━━━━━━━━━━━━━━\u001b[0m\u001b[90m╺\u001b[0m\u001b[90m━━━━━━━━━━━━━━━━━━\u001b[0m \u001b[32m1.0/1.8 MB\u001b[0m \u001b[31m14.2 MB/s\u001b[0m eta \u001b[36m0:00:01\u001b[0m\r\u001b[2K     \u001b[90m━━━━━━━━━━━━━━━━━━━━━━━━━━━━━━━━━━━━━━━━\u001b[0m \u001b[32m1.8/1.8 MB\u001b[0m \u001b[31m22.5 MB/s\u001b[0m eta \u001b[36m0:00:00\u001b[0m\n",
            "\u001b[?25h  Installing build dependencies ... \u001b[?25l\u001b[?25hdone\n",
            "  Getting requirements to build wheel ... \u001b[?25l\u001b[?25hdone\n",
            "  Preparing metadata (pyproject.toml) ... \u001b[?25l\u001b[?25hdone\n",
            "\u001b[2K     \u001b[90m━━━━━━━━━━━━━━━━━━━━━━━━━━━━━━━━━━━━━━━\u001b[0m \u001b[32m62.1/62.1 kB\u001b[0m \u001b[31m296.0 MB/s\u001b[0m eta \u001b[36m0:00:00\u001b[0m\n",
            "\u001b[2K   \u001b[90m━━━━━━━━━━━━━━━━━━━━━━━━━━━━━━━━━━━━━━━━\u001b[0m \u001b[32m45.5/45.5 kB\u001b[0m \u001b[31m273.9 MB/s\u001b[0m eta \u001b[36m0:00:00\u001b[0m\n",
            "\u001b[2K   \u001b[90m━━━━━━━━━━━━━━━━━━━━━━━━━━━━━━━━━━━━━━━━\u001b[0m \u001b[32m16.9/16.9 MB\u001b[0m \u001b[31m231.2 MB/s\u001b[0m eta \u001b[36m0:00:00\u001b[0m\n",
            "\u001b[2K   \u001b[90m━━━━━━━━━━━━━━━━━━━━━━━━━━━━━━━━━━━━━━━━\u001b[0m \u001b[32m43.8/43.8 kB\u001b[0m \u001b[31m235.3 MB/s\u001b[0m eta \u001b[36m0:00:00\u001b[0m\n",
            "\u001b[?25h  Building wheel for llama-cpp-python (pyproject.toml) ... \u001b[?25l\u001b[?25hdone\n",
            "\u001b[31mERROR: pip's dependency resolver does not currently take into account all the packages that are installed. This behaviour is the source of the following dependency conflicts.\n",
            "scipy 1.12.0 requires numpy<1.29.0,>=1.22.4, but you have numpy 2.3.0 which is incompatible.\n",
            "langchain-community 0.0.13 requires numpy<2,>=1, but you have numpy 2.3.0 which is incompatible.\n",
            "langchain 0.1.1 requires numpy<2,>=1, but you have numpy 2.3.0 which is incompatible.\n",
            "google-colab 1.0.0 requires pandas==2.2.2, but you have pandas 1.5.3 which is incompatible.\n",
            "cupy-cuda12x 13.3.0 requires numpy<2.3,>=1.22, but you have numpy 2.3.0 which is incompatible.\n",
            "xarray 2025.3.1 requires pandas>=2.1, but you have pandas 1.5.3 which is incompatible.\n",
            "cudf-cu12 25.2.1 requires pandas<2.2.4dev0,>=2.0, but you have pandas 1.5.3 which is incompatible.\n",
            "gradio 5.31.0 requires huggingface-hub>=0.28.1, but you have huggingface-hub 0.23.2 which is incompatible.\n",
            "dask-expr 1.1.21 requires pandas>=2, but you have pandas 1.5.3 which is incompatible.\n",
            "mizani 0.13.5 requires pandas>=2.2.0, but you have pandas 1.5.3 which is incompatible.\n",
            "diffusers 0.33.1 requires huggingface-hub>=0.27.0, but you have huggingface-hub 0.23.2 which is incompatible.\n",
            "dask-cudf-cu12 25.2.2 requires pandas<2.2.4dev0,>=2.0, but you have pandas 1.5.3 which is incompatible.\n",
            "plotnine 0.14.5 requires pandas>=2.2.0, but you have pandas 1.5.3 which is incompatible.\n",
            "tensorflow 2.18.0 requires numpy<2.1.0,>=1.26.0, but you have numpy 2.3.0 which is incompatible.\n",
            "tsfresh 0.21.0 requires scipy>=1.14.0; python_version >= \"3.10\", but you have scipy 1.12.0 which is incompatible.\n",
            "peft 0.15.2 requires huggingface_hub>=0.25.0, but you have huggingface-hub 0.23.2 which is incompatible.\n",
            "db-dtypes 1.4.3 requires packaging>=24.2.0, but you have packaging 23.2 which is incompatible.\n",
            "numba 0.60.0 requires numpy<2.1,>=1.22, but you have numpy 2.3.0 which is incompatible.\u001b[0m\u001b[31m\n",
            "\u001b[0mRequirement already satisfied: huggingface_hub==0.23.2 in /usr/local/lib/python3.11/dist-packages (0.23.2)\n",
            "Requirement already satisfied: pandas==1.5.3 in /usr/local/lib/python3.11/dist-packages (1.5.3)\n",
            "Requirement already satisfied: tiktoken==0.6.0 in /usr/local/lib/python3.11/dist-packages (0.6.0)\n",
            "Requirement already satisfied: pymupdf==1.24.1 in /usr/local/lib/python3.11/dist-packages (1.24.1)\n",
            "Requirement already satisfied: langchain==0.1.1 in /usr/local/lib/python3.11/dist-packages (0.1.1)\n",
            "Requirement already satisfied: langchain-community==0.0.13 in /usr/local/lib/python3.11/dist-packages (0.0.13)\n",
            "Requirement already satisfied: sentence-transformers==2.7.0 in /usr/local/lib/python3.11/dist-packages (2.7.0)\n",
            "Collecting numpy==1.26.4\n",
            "  Using cached numpy-1.26.4-cp311-cp311-manylinux_2_17_x86_64.manylinux2014_x86_64.whl.metadata (61 kB)\n",
            "Requirement already satisfied: scipy==1.12.0 in /usr/local/lib/python3.11/dist-packages (1.12.0)\n",
            "Requirement already satisfied: transformers==4.40.0 in /usr/local/lib/python3.11/dist-packages (4.40.0)\n",
            "Requirement already satisfied: packaging==23.2 in /usr/local/lib/python3.11/dist-packages (23.2)\n",
            "Requirement already satisfied: langchain-core==0.1.23 in /usr/local/lib/python3.11/dist-packages (0.1.23)\n",
            "Requirement already satisfied: filelock in /usr/local/lib/python3.11/dist-packages (from huggingface_hub==0.23.2) (3.18.0)\n",
            "Requirement already satisfied: fsspec>=2023.5.0 in /usr/local/lib/python3.11/dist-packages (from huggingface_hub==0.23.2) (2025.3.2)\n",
            "Requirement already satisfied: pyyaml>=5.1 in /usr/local/lib/python3.11/dist-packages (from huggingface_hub==0.23.2) (6.0.2)\n",
            "Requirement already satisfied: requests in /usr/local/lib/python3.11/dist-packages (from huggingface_hub==0.23.2) (2.32.3)\n",
            "Requirement already satisfied: tqdm>=4.42.1 in /usr/local/lib/python3.11/dist-packages (from huggingface_hub==0.23.2) (4.67.1)\n",
            "Requirement already satisfied: typing-extensions>=3.7.4.3 in /usr/local/lib/python3.11/dist-packages (from huggingface_hub==0.23.2) (4.14.0)\n",
            "Requirement already satisfied: python-dateutil>=2.8.1 in /usr/local/lib/python3.11/dist-packages (from pandas==1.5.3) (2.9.0.post0)\n",
            "Requirement already satisfied: pytz>=2020.1 in /usr/local/lib/python3.11/dist-packages (from pandas==1.5.3) (2025.2)\n",
            "Requirement already satisfied: regex>=2022.1.18 in /usr/local/lib/python3.11/dist-packages (from tiktoken==0.6.0) (2024.11.6)\n",
            "Requirement already satisfied: PyMuPDFb==1.24.1 in /usr/local/lib/python3.11/dist-packages (from pymupdf==1.24.1) (1.24.1)\n",
            "Requirement already satisfied: SQLAlchemy<3,>=1.4 in /usr/local/lib/python3.11/dist-packages (from langchain==0.1.1) (2.0.41)\n",
            "Requirement already satisfied: aiohttp<4.0.0,>=3.8.3 in /usr/local/lib/python3.11/dist-packages (from langchain==0.1.1) (3.11.15)\n",
            "Requirement already satisfied: dataclasses-json<0.7,>=0.5.7 in /usr/local/lib/python3.11/dist-packages (from langchain==0.1.1) (0.6.7)\n",
            "Requirement already satisfied: jsonpatch<2.0,>=1.33 in /usr/local/lib/python3.11/dist-packages (from langchain==0.1.1) (1.33)\n",
            "Requirement already satisfied: langsmith<0.1.0,>=0.0.77 in /usr/local/lib/python3.11/dist-packages (from langchain==0.1.1) (0.0.87)\n",
            "Requirement already satisfied: pydantic<3,>=1 in /usr/local/lib/python3.11/dist-packages (from langchain==0.1.1) (2.11.7)\n",
            "Requirement already satisfied: tenacity<9.0.0,>=8.1.0 in /usr/local/lib/python3.11/dist-packages (from langchain==0.1.1) (8.5.0)\n",
            "Requirement already satisfied: torch>=1.11.0 in /usr/local/lib/python3.11/dist-packages (from sentence-transformers==2.7.0) (2.6.0+cu124)\n",
            "Requirement already satisfied: scikit-learn in /usr/local/lib/python3.11/dist-packages (from sentence-transformers==2.7.0) (1.6.1)\n",
            "Requirement already satisfied: Pillow in /usr/local/lib/python3.11/dist-packages (from sentence-transformers==2.7.0) (11.2.1)\n",
            "Requirement already satisfied: tokenizers<0.20,>=0.19 in /usr/local/lib/python3.11/dist-packages (from transformers==4.40.0) (0.19.1)\n",
            "Requirement already satisfied: safetensors>=0.4.1 in /usr/local/lib/python3.11/dist-packages (from transformers==4.40.0) (0.5.3)\n",
            "Requirement already satisfied: anyio<5,>=3 in /usr/local/lib/python3.11/dist-packages (from langchain-core==0.1.23) (4.9.0)\n",
            "Requirement already satisfied: aiohappyeyeballs>=2.3.0 in /usr/local/lib/python3.11/dist-packages (from aiohttp<4.0.0,>=3.8.3->langchain==0.1.1) (2.6.1)\n",
            "Requirement already satisfied: aiosignal>=1.1.2 in /usr/local/lib/python3.11/dist-packages (from aiohttp<4.0.0,>=3.8.3->langchain==0.1.1) (1.3.2)\n",
            "Requirement already satisfied: attrs>=17.3.0 in /usr/local/lib/python3.11/dist-packages (from aiohttp<4.0.0,>=3.8.3->langchain==0.1.1) (25.3.0)\n",
            "Requirement already satisfied: frozenlist>=1.1.1 in /usr/local/lib/python3.11/dist-packages (from aiohttp<4.0.0,>=3.8.3->langchain==0.1.1) (1.7.0)\n",
            "Requirement already satisfied: multidict<7.0,>=4.5 in /usr/local/lib/python3.11/dist-packages (from aiohttp<4.0.0,>=3.8.3->langchain==0.1.1) (6.4.4)\n",
            "Requirement already satisfied: propcache>=0.2.0 in /usr/local/lib/python3.11/dist-packages (from aiohttp<4.0.0,>=3.8.3->langchain==0.1.1) (0.3.2)\n",
            "Requirement already satisfied: yarl<2.0,>=1.17.0 in /usr/local/lib/python3.11/dist-packages (from aiohttp<4.0.0,>=3.8.3->langchain==0.1.1) (1.20.1)\n",
            "Requirement already satisfied: idna>=2.8 in /usr/local/lib/python3.11/dist-packages (from anyio<5,>=3->langchain-core==0.1.23) (3.10)\n",
            "Requirement already satisfied: sniffio>=1.1 in /usr/local/lib/python3.11/dist-packages (from anyio<5,>=3->langchain-core==0.1.23) (1.3.1)\n",
            "Requirement already satisfied: marshmallow<4.0.0,>=3.18.0 in /usr/local/lib/python3.11/dist-packages (from dataclasses-json<0.7,>=0.5.7->langchain==0.1.1) (3.26.1)\n",
            "Requirement already satisfied: typing-inspect<1,>=0.4.0 in /usr/local/lib/python3.11/dist-packages (from dataclasses-json<0.7,>=0.5.7->langchain==0.1.1) (0.9.0)\n",
            "Requirement already satisfied: jsonpointer>=1.9 in /usr/local/lib/python3.11/dist-packages (from jsonpatch<2.0,>=1.33->langchain==0.1.1) (3.0.0)\n",
            "Requirement already satisfied: annotated-types>=0.6.0 in /usr/local/lib/python3.11/dist-packages (from pydantic<3,>=1->langchain==0.1.1) (0.7.0)\n",
            "Requirement already satisfied: pydantic-core==2.33.2 in /usr/local/lib/python3.11/dist-packages (from pydantic<3,>=1->langchain==0.1.1) (2.33.2)\n",
            "Requirement already satisfied: typing-inspection>=0.4.0 in /usr/local/lib/python3.11/dist-packages (from pydantic<3,>=1->langchain==0.1.1) (0.4.1)\n",
            "Requirement already satisfied: six>=1.5 in /usr/local/lib/python3.11/dist-packages (from python-dateutil>=2.8.1->pandas==1.5.3) (1.17.0)\n",
            "Requirement already satisfied: charset-normalizer<4,>=2 in /usr/local/lib/python3.11/dist-packages (from requests->huggingface_hub==0.23.2) (3.4.2)\n",
            "Requirement already satisfied: urllib3<3,>=1.21.1 in /usr/local/lib/python3.11/dist-packages (from requests->huggingface_hub==0.23.2) (2.4.0)\n",
            "Requirement already satisfied: certifi>=2017.4.17 in /usr/local/lib/python3.11/dist-packages (from requests->huggingface_hub==0.23.2) (2025.6.15)\n",
            "Requirement already satisfied: greenlet>=1 in /usr/local/lib/python3.11/dist-packages (from SQLAlchemy<3,>=1.4->langchain==0.1.1) (3.2.3)\n",
            "Requirement already satisfied: networkx in /usr/local/lib/python3.11/dist-packages (from torch>=1.11.0->sentence-transformers==2.7.0) (3.5)\n",
            "Requirement already satisfied: jinja2 in /usr/local/lib/python3.11/dist-packages (from torch>=1.11.0->sentence-transformers==2.7.0) (3.1.6)\n",
            "Requirement already satisfied: nvidia-cuda-nvrtc-cu12==12.4.127 in /usr/local/lib/python3.11/dist-packages (from torch>=1.11.0->sentence-transformers==2.7.0) (12.4.127)\n",
            "Requirement already satisfied: nvidia-cuda-runtime-cu12==12.4.127 in /usr/local/lib/python3.11/dist-packages (from torch>=1.11.0->sentence-transformers==2.7.0) (12.4.127)\n",
            "Requirement already satisfied: nvidia-cuda-cupti-cu12==12.4.127 in /usr/local/lib/python3.11/dist-packages (from torch>=1.11.0->sentence-transformers==2.7.0) (12.4.127)\n",
            "Requirement already satisfied: nvidia-cudnn-cu12==9.1.0.70 in /usr/local/lib/python3.11/dist-packages (from torch>=1.11.0->sentence-transformers==2.7.0) (9.1.0.70)\n",
            "Requirement already satisfied: nvidia-cublas-cu12==12.4.5.8 in /usr/local/lib/python3.11/dist-packages (from torch>=1.11.0->sentence-transformers==2.7.0) (12.4.5.8)\n",
            "Requirement already satisfied: nvidia-cufft-cu12==11.2.1.3 in /usr/local/lib/python3.11/dist-packages (from torch>=1.11.0->sentence-transformers==2.7.0) (11.2.1.3)\n",
            "Requirement already satisfied: nvidia-curand-cu12==10.3.5.147 in /usr/local/lib/python3.11/dist-packages (from torch>=1.11.0->sentence-transformers==2.7.0) (10.3.5.147)\n",
            "Requirement already satisfied: nvidia-cusolver-cu12==11.6.1.9 in /usr/local/lib/python3.11/dist-packages (from torch>=1.11.0->sentence-transformers==2.7.0) (11.6.1.9)\n",
            "Requirement already satisfied: nvidia-cusparse-cu12==12.3.1.170 in /usr/local/lib/python3.11/dist-packages (from torch>=1.11.0->sentence-transformers==2.7.0) (12.3.1.170)\n",
            "Requirement already satisfied: nvidia-cusparselt-cu12==0.6.2 in /usr/local/lib/python3.11/dist-packages (from torch>=1.11.0->sentence-transformers==2.7.0) (0.6.2)\n",
            "Requirement already satisfied: nvidia-nccl-cu12==2.21.5 in /usr/local/lib/python3.11/dist-packages (from torch>=1.11.0->sentence-transformers==2.7.0) (2.21.5)\n",
            "Requirement already satisfied: nvidia-nvtx-cu12==12.4.127 in /usr/local/lib/python3.11/dist-packages (from torch>=1.11.0->sentence-transformers==2.7.0) (12.4.127)\n",
            "Requirement already satisfied: nvidia-nvjitlink-cu12==12.4.127 in /usr/local/lib/python3.11/dist-packages (from torch>=1.11.0->sentence-transformers==2.7.0) (12.4.127)\n",
            "Requirement already satisfied: triton==3.2.0 in /usr/local/lib/python3.11/dist-packages (from torch>=1.11.0->sentence-transformers==2.7.0) (3.2.0)\n",
            "Requirement already satisfied: sympy==1.13.1 in /usr/local/lib/python3.11/dist-packages (from torch>=1.11.0->sentence-transformers==2.7.0) (1.13.1)\n",
            "Requirement already satisfied: mpmath<1.4,>=1.1.0 in /usr/local/lib/python3.11/dist-packages (from sympy==1.13.1->torch>=1.11.0->sentence-transformers==2.7.0) (1.3.0)\n",
            "Requirement already satisfied: joblib>=1.2.0 in /usr/local/lib/python3.11/dist-packages (from scikit-learn->sentence-transformers==2.7.0) (1.5.1)\n",
            "Requirement already satisfied: threadpoolctl>=3.1.0 in /usr/local/lib/python3.11/dist-packages (from scikit-learn->sentence-transformers==2.7.0) (3.6.0)\n",
            "Requirement already satisfied: mypy-extensions>=0.3.0 in /usr/local/lib/python3.11/dist-packages (from typing-inspect<1,>=0.4.0->dataclasses-json<0.7,>=0.5.7->langchain==0.1.1) (1.1.0)\n",
            "Requirement already satisfied: MarkupSafe>=2.0 in /usr/local/lib/python3.11/dist-packages (from jinja2->torch>=1.11.0->sentence-transformers==2.7.0) (3.0.2)\n",
            "Using cached numpy-1.26.4-cp311-cp311-manylinux_2_17_x86_64.manylinux2014_x86_64.whl (18.3 MB)\n",
            "Installing collected packages: numpy\n",
            "  Attempting uninstall: numpy\n",
            "    Found existing installation: numpy 2.3.0\n",
            "    Uninstalling numpy-2.3.0:\n",
            "      Successfully uninstalled numpy-2.3.0\n",
            "\u001b[31mERROR: pip's dependency resolver does not currently take into account all the packages that are installed. This behaviour is the source of the following dependency conflicts.\n",
            "google-colab 1.0.0 requires pandas==2.2.2, but you have pandas 1.5.3 which is incompatible.\n",
            "xarray 2025.3.1 requires pandas>=2.1, but you have pandas 1.5.3 which is incompatible.\n",
            "cudf-cu12 25.2.1 requires pandas<2.2.4dev0,>=2.0, but you have pandas 1.5.3 which is incompatible.\n",
            "gradio 5.31.0 requires huggingface-hub>=0.28.1, but you have huggingface-hub 0.23.2 which is incompatible.\n",
            "dask-expr 1.1.21 requires pandas>=2, but you have pandas 1.5.3 which is incompatible.\n",
            "mizani 0.13.5 requires pandas>=2.2.0, but you have pandas 1.5.3 which is incompatible.\n",
            "diffusers 0.33.1 requires huggingface-hub>=0.27.0, but you have huggingface-hub 0.23.2 which is incompatible.\n",
            "dask-cudf-cu12 25.2.2 requires pandas<2.2.4dev0,>=2.0, but you have pandas 1.5.3 which is incompatible.\n",
            "plotnine 0.14.5 requires pandas>=2.2.0, but you have pandas 1.5.3 which is incompatible.\n",
            "tsfresh 0.21.0 requires scipy>=1.14.0; python_version >= \"3.10\", but you have scipy 1.12.0 which is incompatible.\n",
            "peft 0.15.2 requires huggingface_hub>=0.25.0, but you have huggingface-hub 0.23.2 which is incompatible.\n",
            "db-dtypes 1.4.3 requires packaging>=24.2.0, but you have packaging 23.2 which is incompatible.\n",
            "thinc 8.3.6 requires numpy<3.0.0,>=2.0.0, but you have numpy 1.26.4 which is incompatible.\u001b[0m\u001b[31m\n",
            "\u001b[0mSuccessfully installed numpy-1.26.4\n"
          ]
        },
        {
          "output_type": "display_data",
          "data": {
            "application/vnd.colab-display-data+json": {
              "pip_warning": {
                "packages": [
                  "numpy"
                ]
              },
              "id": "b1cfab14fa83476eaaac1f7eb638b2bb"
            }
          },
          "metadata": {}
        }
      ],
      "source": [
        "# Installation for GPU llama-cpp-python\n",
        "!CMAKE_ARGS=\"-DLLAMA_CUBLAS=on\" FORCE_CMAKE=1 pip install llama-cpp-python==0.1.85 --force-reinstall --no-cache-dir -q\n",
        "\n",
        "# Installation for CPU llama-cpp-python\n",
        "# Uncomment and run the following code in case GPU is not being used\n",
        "# !CMAKE_ARGS=\"-DLLAMA_CUBLAS=off\" FORCE_CMAKE=1 pip install llama-cpp-python==0.1.85 --force-reinstall --no-cache-dir -q\n",
        "\n",
        "# For installing the libraries & downloading models from HF Hub\n",
        "# Explicitly specifying versions to avoid conflicts\n",
        "!pip install \\\n",
        "    huggingface_hub==0.23.2 \\\n",
        "    pandas==1.5.3 \\\n",
        "    tiktoken==0.6.0 \\\n",
        "    pymupdf==1.24.1 \\\n",
        "    langchain==0.1.1 \\\n",
        "    langchain-community==0.0.13 \\\n",
        "    sentence-transformers==2.7.0 \\\n",
        "    numpy==1.26.4 \\\n",
        "    scipy==1.12.0 \\\n",
        "    transformers==4.40.0 \\\n",
        "    packaging==23.2 \\\n",
        "    langchain-core==0.1.23"
      ]
    },
    {
      "cell_type": "code",
      "source": [
        "# Suppress warning messages to keep the notebook output clean.\n",
        "import warnings\n",
        "warnings.filterwarnings('ignore')\n",
        "\n",
        "# Libraries for data processing\n",
        "import json, os\n",
        "import pandas as pd\n",
        "import tiktoken # Token counting\n",
        "\n",
        "# Libraries from the LangChain framework for building the RAG pipeline\n",
        "from langchain.text_splitter import RecursiveCharacterTextSplitter  # To split long texts into smaller chunks\n",
        "from langchain_community.document_loaders import PyMuPDFLoader      # To load data from PDF files\n",
        "from langchain_community.embeddings.sentence_transformer import SentenceTransformerEmbeddings # To create numerical representations (embeddings) of text\n",
        "from langchain_community.vectorstores import Chroma                   # The vector database to store and retrieve embeddings\n",
        "\n",
        "# Libraries for downloading and interacting with the LLM\n",
        "from huggingface_hub import hf_hub_download  # To download the model file from Hugging Face\n",
        "from llama_cpp import Llama                  # The LlamaCPP class to load and run the model"
      ],
      "metadata": {
        "id": "e7JYkZP2mgJD"
      },
      "execution_count": null,
      "outputs": []
    },
    {
      "cell_type": "markdown",
      "metadata": {
        "id": "TtZWqj0wFTS1"
      },
      "source": [
        "## Question Answering using LLM"
      ]
    },
    {
      "cell_type": "markdown",
      "source": [
        "First, we'll see how the model answers questions without prompt engineering or RAG retreiving directly from the Merck Manuals.\n",
        "\n",
        "This will give us a baseline."
      ],
      "metadata": {
        "id": "JSEL_VeLjsAy"
      }
    },
    {
      "cell_type": "markdown",
      "metadata": {
        "id": "Uq1lhM4WFTS2"
      },
      "source": [
        "#### Downloading and Loading the model"
      ]
    },
    {
      "cell_type": "code",
      "source": [
        "# Define the model ID and filename from Hugging Face Hub\n",
        "# We are using Mistral-7B-Instruct, a powerful model for instruction following.\n",
        "model_id = \"TheBloke/Mistral-7B-Instruct-v0.2-GGUF\"\n",
        "# Corrected filename based on the repository content\n",
        "model_file = \"mistral-7b-instruct-v0.2.Q5_K_M.gguf\" # Using Q5_K_M as it is available and a good balance of quality and performance\n",
        "\n",
        "print(f\"Downloading model: {model_file} from {model_id}...\")\n",
        "\n",
        "# Import the userdata module to access Colab secrets\n",
        "from google.colab import userdata\n",
        "\n",
        "# Get the Hugging Face token from Colab secrets\n",
        "# Make sure you have added a secret named 'HF_TOKEN' in the Colab Secrets Manager\n",
        "hf_token = userdata.get('HF_TOKEN')\n",
        "\n",
        "# Download the model from the Hugging Face Hub, using the token for authentication\n",
        "model_path = hf_hub_download(\n",
        "    repo_id=model_id,\n",
        "    filename=model_file,\n",
        "    token=hf_token # Pass the Hugging Face token here\n",
        ")\n",
        "print(\"Model download complete.\")\n",
        "\n",
        "# Load the downloaded model into Llama-cpp-python\n",
        "print(\"Loading model into memory...\")\n",
        "llm = Llama(\n",
        "    model_path=model_path,\n",
        "    n_gpu_layers=0, # Set to 0 for CPU-only. Set to -1 to offload all possible layers to GPU.\n",
        "    n_batch=512,    # Batch size for processing prompts (can be adjusted based on VRAM).\n",
        "    n_ctx=4096,     # The maximum context size for the model, increased to 4096\n",
        "    verbose=True   # Changed to True to potentially work around the fileno error.\n",
        ")\n",
        "print(\"Model loaded successfully.\")"
      ],
      "metadata": {
        "id": "dA3XQMWmQLJp",
        "colab": {
          "base_uri": "https://localhost:8080/"
        },
        "outputId": "2444b2bf-7183-41d2-ae8c-df95cd4b8a4b"
      },
      "execution_count": null,
      "outputs": [
        {
          "output_type": "stream",
          "name": "stdout",
          "text": [
            "Downloading model: mistral-7b-instruct-v0.2.Q5_K_M.gguf from TheBloke/Mistral-7B-Instruct-v0.2-GGUF...\n",
            "Model download complete.\n",
            "Loading model into memory...\n",
            "Model loaded successfully.\n"
          ]
        },
        {
          "output_type": "stream",
          "name": "stderr",
          "text": [
            "AVX = 1 | AVX2 = 1 | AVX512 = 0 | AVX512_VBMI = 0 | AVX512_VNNI = 0 | FMA = 1 | NEON = 0 | ARM_FMA = 0 | F16C = 1 | FP16_VA = 0 | WASM_SIMD = 0 | BLAS = 1 | SSE3 = 1 | SSSE3 = 1 | VSX = 0 | \n"
          ]
        }
      ]
    },
    {
      "cell_type": "markdown",
      "metadata": {
        "id": "EzzkvIXvFTS4"
      },
      "source": [
        "#### Response"
      ]
    },
    {
      "cell_type": "code",
      "source": [
        "# Define a function to generate a response from the LLM\n",
        "def response(query, max_tokens=128, temperature=0, top_p=0.95, top_k=50):\n",
        "    \"\"\"\n",
        "    Generates a response from the base LLM.\n",
        "    \"\"\"\n",
        "    model_output = llm(\n",
        "        prompt=query,                # User input/Query\n",
        "        max_tokens=max_tokens,       # Output max token length\n",
        "        temperature=temperature,     # Controls output randomness\n",
        "        top_p=top_p,                 # Filters token probability pool\n",
        "        top_k=top_k,                 # Likely tokens considered\n",
        "        echo=False                   # We don't want the model to repeat our prompt in its answer\n",
        "    )\n",
        "\n",
        "    # Only return the generated text from the model's output\n",
        "    return model_output['choices'][0]['text'].strip()\n"
      ],
      "metadata": {
        "id": "hG_IaZj0QLw4"
      },
      "execution_count": null,
      "outputs": []
    },
    {
      "cell_type": "markdown",
      "metadata": {
        "id": "K8YgK91SFjVY"
      },
      "source": [
        "### Query 1: What is the protocol for managing sepsis in a critical care unit?"
      ]
    },
    {
      "cell_type": "code",
      "source": [
        "user_input1 = \"What is the protocol for managing sepsis in a critical care unit?\"\n",
        "print(response(user_input1))"
      ],
      "metadata": {
        "id": "-JLIVmpPQH0f",
        "colab": {
          "base_uri": "https://localhost:8080/"
        },
        "outputId": "7e65deb7-2d53-4b73-b9bd-95a317353107"
      },
      "execution_count": null,
      "outputs": [
        {
          "output_type": "stream",
          "name": "stdout",
          "text": [
            "Sepsis is a life-threatening condition that can arise from an infection, and it requires prompt recognition and aggressive management in a critical care unit. The following are general steps for managing sepsis in a critical care unit:\n",
            "\n",
            "1. Early recognition: Recognize the signs and symptoms of sepsis early and initiate treatment as soon as possible. Sepsis can present with various clinical features, including fever or hypothermia, tachycardia or bradycardia, altered mental status, respiratory distress, and lactic acidosis.\n",
            "2. Resusc\n"
          ]
        }
      ]
    },
    {
      "cell_type": "markdown",
      "source": [
        "Observations:\n",
        "\n",
        "The base model provides a general, plausible-sounding answer about sepsis management. However, it lacks specific details, dosages, or alternative treatments that would likely be found in a medical manual. The answer is based on the model's generalized training, not a definitive source."
      ],
      "metadata": {
        "id": "dHr2d40UJL4q"
      }
    },
    {
      "cell_type": "markdown",
      "metadata": {
        "id": "J6yxICeVFjVc"
      },
      "source": [
        "### Query 2: What are the common symptoms for appendicitis, and can it be cured via medicine? If not, what surgical procedure should be followed to treat it?"
      ]
    },
    {
      "cell_type": "code",
      "source": [
        "user_input2 = \"What are the common symptoms for appendicitis, and can it be cured via medicine? If not, what surgical procedure should be followed to treat it?\"\n",
        "print(response(user_input2))"
      ],
      "metadata": {
        "id": "BdiHRgEqQIP9",
        "colab": {
          "base_uri": "https://localhost:8080/"
        },
        "outputId": "0ecb3d30-fe77-4574-af9a-ab7ff3791a3b"
      },
      "execution_count": null,
      "outputs": [
        {
          "output_type": "stream",
          "name": "stderr",
          "text": [
            "Llama.generate: prefix-match hit\n"
          ]
        },
        {
          "output_type": "stream",
          "name": "stdout",
          "text": [
            "Appendicitis is a medical condition characterized by inflammation of the appendix, a small pouch that extends from the large intestine. The following are common symptoms of appendicitis:\n",
            "\n",
            "1. Abdominal pain: The pain is typically located in the lower right side of the abdomen and may start as a mild discomfort that gradually worsens over time. It may be constant or come and go, and it may be accompanied by cramping or bloating.\n",
            "2. Loss of appetite: People with appendicitis often lose their appetite due to the pain and discomfort in\n"
          ]
        }
      ]
    },
    {
      "cell_type": "markdown",
      "source": [
        "Observations:\n",
        "\n",
        "The model correctly identifies common symptoms like abdominal pain, loss of appetite and states that an appendectomy is the standard treatment. This information is common knowledge and likely well-represented in the model's training data. The answer is generally accurate but not verifiable.\n"
      ],
      "metadata": {
        "id": "kFGYqwKTJRUg"
      }
    },
    {
      "cell_type": "markdown",
      "metadata": {
        "id": "oflaoOGiFjVd"
      },
      "source": [
        "### Query 3: What are the effective treatments or solutions for addressing sudden patchy hair loss, commonly seen as localized bald spots on the scalp, and what could be the possible causes behind it?"
      ]
    },
    {
      "cell_type": "code",
      "source": [
        "user_input3 = \"What are the effective treatments or solutions for addressing sudden patchy hair loss, commonly seen as localized bald spots on the scalp, and what could be the possible causes behind it?\"\n",
        "print(response(user_input3))"
      ],
      "metadata": {
        "id": "N-mx9yboQIt-",
        "colab": {
          "base_uri": "https://localhost:8080/"
        },
        "outputId": "914391c4-862b-48dd-c208-231a9482d39d"
      },
      "execution_count": null,
      "outputs": [
        {
          "output_type": "stream",
          "name": "stderr",
          "text": [
            "Llama.generate: prefix-match hit\n"
          ]
        },
        {
          "output_type": "stream",
          "name": "stdout",
          "text": [
            "Sudden patchy hair loss, also known as alopecia areata, is a common autoimmune disorder that affects the hair follicles. It can result in round or oval bald patches on the scalp, but it can also occur on other parts of the body such as the beard area, eyebrows, and eyelashes.\n",
            "\n",
            "The exact cause of alopecia areata is not known, but it's believed to be related to a combination of genetic and environmental factors that trigger an immune response against the hair follicles. Some possible triggers include stress, viral in\n"
          ]
        }
      ]
    },
    {
      "cell_type": "markdown",
      "source": [
        "Observations:\n",
        "\n",
        "The model correctly identifies the condition as alopecia areata and correctly states that the exact cause is unknown but believed to be autoimmune.\n",
        "\n",
        "This appears to be a good general overview but lacks the depth a healthcare professional would need, such as different classes of treatments or success rates."
      ],
      "metadata": {
        "id": "SrVouP0gJSmw"
      }
    },
    {
      "cell_type": "markdown",
      "metadata": {
        "id": "WUUqY4FbFjVe"
      },
      "source": [
        "### Query 4:  What treatments are recommended for a person who has sustained a physical injury to brain tissue, resulting in temporary or permanent impairment of brain function?"
      ]
    },
    {
      "cell_type": "code",
      "source": [
        "user_input4 = \"What treatments are recommended for a person who has sustained a physical injury to brain tissue, resulting in temporary or permanent impairment of brain function?\"\n",
        "print(response(user_input4))"
      ],
      "metadata": {
        "id": "TEsVMaKaQJzh",
        "colab": {
          "base_uri": "https://localhost:8080/"
        },
        "outputId": "f1af1bbf-7825-45b7-9759-4770a37d6a03"
      },
      "execution_count": null,
      "outputs": [
        {
          "output_type": "stream",
          "name": "stderr",
          "text": [
            "Llama.generate: prefix-match hit\n"
          ]
        },
        {
          "output_type": "stream",
          "name": "stdout",
          "text": [
            "There is no one-size-fits-all answer to this question as the specific treatment recommendations for a person with a brain injury depend on various factors such as the severity and location of the injury, the age and overall health of the individual, and the extent of the resulting impairments. However, I can provide an overview of some common treatments and interventions that may be recommended for individuals with brain injuries.\n",
            "\n",
            "1. Acute care: In the immediate aftermath of a brain injury, the focus is on providing acute care to stabilize the patient's condition and prevent further damage. This may\n"
          ]
        }
      ]
    },
    {
      "cell_type": "markdown",
      "source": [
        "Observations:\n",
        "\n",
        "The answer notes that treatment depends on the specific injury and gives a broad overview of acute care.\n",
        "\n",
        "The information is high-level and not specific enough for clinical decision-making, as it gets cut off by the token limit before providing substantial detail."
      ],
      "metadata": {
        "id": "dkW-lHytJUrq"
      }
    },
    {
      "cell_type": "markdown",
      "metadata": {
        "id": "5laPFTHrFjVf"
      },
      "source": [
        "### Query 5: What are the necessary precautions and treatment steps for a person who has fractured their leg during a hiking trip, and what should be considered for their care and recovery?"
      ]
    },
    {
      "cell_type": "code",
      "source": [
        "user_input5 = \"What are the necessary precautions and treatment steps for a person who has fractured their leg during a hiking trip, and what should be considered for their care and recovery?\"\n",
        "print(response(user_input5))"
      ],
      "metadata": {
        "id": "VfrlmrP5QKJz",
        "colab": {
          "base_uri": "https://localhost:8080/"
        },
        "outputId": "32026108-f60e-4894-b72f-9dd791f995c5"
      },
      "execution_count": null,
      "outputs": [
        {
          "output_type": "stream",
          "name": "stderr",
          "text": [
            "Llama.generate: prefix-match hit\n"
          ]
        },
        {
          "output_type": "stream",
          "name": "stdout",
          "text": [
            "First and foremost, if you suspect that someone has fractured their leg while hiking, it's essential to ensure their safety and prevent further injury. Here are some necessary precautions:\n",
            "\n",
            "1. Keep the person calm and still: Encourage them to remain as still as possible to minimize pain and prevent worsening the injury.\n",
            "2. Assess the situation: Check for any signs of severe bleeding, open wounds, or other injuries. If you suspect that the fracture is open (compound), do not attempt to move the person without medical assistance.\n",
            "3. Immobilize the\n"
          ]
        }
      ]
    },
    {
      "cell_type": "markdown",
      "source": [
        "Observations:\n",
        "\n",
        "The model gives sound, practical advice that aligns with general first-aid principles, such as assessing the situation, calling for help, and immobilizing the person. Demonstrating the model's strong foundation of common knowledge."
      ],
      "metadata": {
        "id": "BcrlA3c9JVow"
      }
    },
    {
      "cell_type": "markdown",
      "source": [
        "### **Comments on Basic Q&A Baseline LLM:**\n",
        "\n",
        "* **Strengths:** The base LLM has a broad knowledge base and can provide generally accurate, high-level answers to common medical questions. It is fast and requires no additional data preparation.\n",
        "\n",
        "* **Limitations:** The answers are not verifiable and lack specific details from an authoritative source. There is risk of \"hallucination\" (inventing facts) for more niche topics, and the information cannot be trusted for clinical use.\n",
        "\n"
      ],
      "metadata": {
        "id": "ZnDVTMQNOV5b"
      }
    },
    {
      "cell_type": "markdown",
      "metadata": {
        "id": "g5myZ5dOOefc"
      },
      "source": [
        "## Question Answering using LLM with Prompt Engineering"
      ]
    },
    {
      "cell_type": "markdown",
      "source": [
        "* Often, we can get better answers from an LLM by giving it more context or instructions in the prompt itself by defining a \"system prompt\" that tells the model how to behave or what role to adopt.\n",
        "\n",
        "* Next we will define a **system prompt** to optimize the AI to act like a helpful medical assistant (defined by our problem statement and objectives)."
      ],
      "metadata": {
        "id": "Hm2slN4xSfn2"
      }
    },
    {
      "cell_type": "code",
      "source": [
        "# Define a system prompt to guide the LLM's response\n",
        "# Using capital letters can help emphasize key instructions for the LLM.\n",
        "system_prompt = \"\"\"You are an AI medical assistant TASKED to provide ACCURATE and TIMELY medical information to healthcare professionals. Do not invent information if you don't know the answer.\"\"\"\n",
        "\n",
        "def response_with_system_prompt(system_prompt, user_query, max_tokens=128, temperature=0, top_p=0.95, top_k=50):\n",
        "    \"\"\"\n",
        "    Generates a response from the loaded LLM using a system prompt.\n",
        "    \"\"\"\n",
        "    # Mistral Instruct models expect a specific format for prompts with a system message.\n",
        "    # The format is: <s>[INST] {system_prompt} [/INST]</s>[INST] {user_query} [/INST]\n",
        "    # <s> and </s> mark the beginning and end of a sequence.\n",
        "    # [INST] and [/INST] are instruction tokens that wrap user input.\n",
        "    prompt = f\"<s>[INST] {system_prompt} [/INST]</s>[INST] {user_query} [/INST]\"\n",
        "\n",
        "    model_output = llm(\n",
        "        prompt=prompt,\n",
        "        max_tokens=max_tokens,\n",
        "        temperature=temperature,\n",
        "        top_p=top_p,\n",
        "        top_k=top_k,\n",
        "        echo=False\n",
        "    )\n",
        "    # The return statement navigates the structured output of the LLM.\n",
        "    # ['choices']: Accesses the list of possible responses.\n",
        "    # [0]: Selects the first and most probable response.\n",
        "    # ['text']: Extracts the text content from the chosen response object.\n",
        "    return model_output['choices'][0]['text'].strip()"
      ],
      "metadata": {
        "id": "f-DphB5gKBGT"
      },
      "execution_count": null,
      "outputs": []
    },
    {
      "cell_type": "markdown",
      "source": [
        "Now we'll ask the same five questions, but this time, the LLM will have our system_prompt to guide its tone and style.  \n",
        "\n",
        "We'll also play with some parameters to see how they affect the output.\n",
        "\n",
        "  Parameters:  \n",
        "  * **temperature**,\n",
        "  * **max_tokens**,\n",
        "  * **top_k**,\n",
        "  * **top_p**\n",
        "\n"
      ],
      "metadata": {
        "id": "rooEjMeUNpYR"
      }
    },
    {
      "cell_type": "markdown",
      "metadata": {
        "id": "9Jg3r_LWOeff"
      },
      "source": [
        "### Query 1: What is the protocol for managing sepsis in a critical care unit?"
      ]
    },
    {
      "cell_type": "markdown",
      "source": [
        "### Retry the queries with prompt engineering and parameter tuning.\n",
        "\n",
        "Combination 1 (Baseline with System Prompt):\n",
        "\n",
        "* temperature=0.1 (slight variability but still heavily steered toward the factual)\n",
        "* max_tokens=250\n",
        "* top_k=40\n",
        "* top_p=0.9"
      ],
      "metadata": {
        "id": "efceKq2vXFOG"
      }
    },
    {
      "cell_type": "code",
      "source": [
        "user_input_1 = \"What is the protocol for managing sepsis in a critical care unit?\"\n",
        "answer_1_pe_c1 = response_with_system_prompt(system_prompt, user_input_1, max_tokens=250, temperature=0.1, top_k=40, top_p=0.9)\n",
        "print(f\"Query 1 (PE Combo 1): {user_input_1}\")\n",
        "print(f\"Answer 1 (PE Combo 1):\\n{answer_1_pe_c1}\")"
      ],
      "metadata": {
        "id": "YqM4VMw5ROhX",
        "colab": {
          "base_uri": "https://localhost:8080/"
        },
        "outputId": "695283a9-5152-4eb9-beb6-09f13c3db4ab"
      },
      "execution_count": null,
      "outputs": [
        {
          "output_type": "stream",
          "name": "stderr",
          "text": [
            "Llama.generate: prefix-match hit\n"
          ]
        },
        {
          "output_type": "stream",
          "name": "stdout",
          "text": [
            "Query 1 (PE Combo 1): What is the protocol for managing sepsis in a critical care unit?\n",
            "Answer 1 (PE Combo 1):\n",
            "Sepsis is a life-threatening condition caused by the body's response to an infection, and managing it in a critical care unit requires prompt recognition and aggressive treatment. Here are some general steps for managing sepsis in a critical care unit:\n",
            "\n",
            "1. Early Recognition: Identify sepsis early based on clinical suspicion, laboratory findings, and severity of illness using tools like the Sequential Organ Failure Assessment (SOFA) score or Quick Sequential Organ Failure Assessment (qSOFA) score.\n",
            "2. Resuscitation: Begin resuscitation as soon as possible with intravenous fluids to maintain adequate blood pressure and organ perfusion. Consider administering oxygen to maintain adequate oxygenation.\n",
            "3. Antibiotics: Administer broad-spectrum antibiotics based on the suspected source of infection and local microbiology data.\n",
            "4. Source Control: Identify and address the source of infection, such as removing a catheter or draining an abscess.\n",
            "5. Vasopressors: If sepsis is causing hypotension that is not responding to fluid resuscitation, administer vasopressors to maintain adequate\n"
          ]
        }
      ]
    },
    {
      "cell_type": "markdown",
      "source": [
        "Observations:\n",
        "\n",
        "By providing a system prompt, the model's response is significantly improved. The answer is now well-organized into a clear, numbered list, which is highly appropriate for a question about a \"protocol.\"\n",
        "\n",
        "It correctly identifies key pillars of sepsis management, such as early recognition, fluid resuscitation (\"early goal-directed therapy\"), antibiotics, and source control.\n",
        "\n",
        "The tone is more direct and professional, aligning with the requested 'AI medical assistant' persona.\n",
        "\n",
        "However, it's crucial to note that this information is still drawn from the model's general training data and is not yet grounded in our specific medical manual.\n",
        "\n",
        "\n",
        "\n",
        "\n"
      ],
      "metadata": {
        "id": "imf1GQA1X12F"
      }
    },
    {
      "cell_type": "markdown",
      "metadata": {
        "id": "iYpyw4HjOeff"
      },
      "source": [
        "### Query 2: What are the common symptoms for appendicitis, and can it be cured via medicine? If not, what surgical procedure should be followed to treat it?"
      ]
    },
    {
      "cell_type": "markdown",
      "source": [
        "Combination 2 (More Creative/Varied):\n",
        "\n",
        "* temperature=0.7\n",
        "* max_tokens=300\n",
        "* top_k=70\n",
        "* top_p=0.95"
      ],
      "metadata": {
        "id": "EUOfd8E9YBKg"
      }
    },
    {
      "cell_type": "code",
      "source": [
        "user_input_2 = \"What are the common symptoms for appendicitis, and can it be cured via medicine? If not, what surgical procedure should be followed to treat it?\"\n",
        "answer_2_pe_c2 = response_with_system_prompt(system_prompt, user_input_2, max_tokens=300, temperature=0.7, top_k=70, top_p=0.95)\n",
        "print(f\"\\nQuery 2 (PE Combo 2): {user_input_2}\")\n",
        "print(f\"Answer 2 (PE Combo 2):\\n{answer_2_pe_c2}\")"
      ],
      "metadata": {
        "id": "GXl09pFfRPBr",
        "colab": {
          "base_uri": "https://localhost:8080/"
        },
        "outputId": "8f2f840a-4ac7-49c8-dec7-cdcf9802e5b1"
      },
      "execution_count": null,
      "outputs": [
        {
          "output_type": "stream",
          "name": "stderr",
          "text": [
            "Llama.generate: prefix-match hit\n"
          ]
        },
        {
          "output_type": "stream",
          "name": "stdout",
          "text": [
            "\n",
            "Query 2 (PE Combo 2): What are the common symptoms for appendicitis, and can it be cured via medicine? If not, what surgical procedure should be followed to treat it?\n",
            "Answer 2 (PE Combo 2):\n",
            "The common symptoms of appendicitis include:\n",
            "\n",
            "1. Sudden pain in the lower right abdomen that starts near the navel and moves downwards\n",
            "2. Loss of appetite\n",
            "3. Nausea and vomiting\n",
            "4. Fever, which may be low-grade at first but can rise as high as 101°F (38.3°C) or more\n",
            "5. Inability to pass gas or have a bowel movement\n",
            "6. Feeling sick or uneasy\n",
            "7. Diarrhea or constipation\n",
            "8. Swelling, redness, and tenderness in the abdomen\n",
            "9. Abdominal pain that worsens when coughing, sneezing, or walking\n",
            "10. Loss of energy and general malaise\n",
            "\n",
            "Appendicitis cannot be cured with medicine alone. If left untreated, the appendix can burst, leading to a severe infection called peritonitis. Surgery is the only effective treatment for appendicitis. The standard surgical procedure used to remove the appendix is called an appendectomy. It can be performed as an open surgery or laparoscopically (keyhole surgery). In both procedures, the surgeon makes a small incision in the abdomen and removes the appendix. After surgery, patients are usually required to stay in the hospital for a few days for observation and recovery.\n"
          ]
        }
      ]
    },
    {
      "cell_type": "markdown",
      "source": [
        "Observations:\n",
        "\n",
        "With a higher temperature (0.7), the answer is more verbose and uses slightly different phrasing compared to a zero-temperature response. The core information remains the same, but the model's \"creativity\" in expression is higher. This is generally not desirable for factual medical Q&A where consistency is paramount."
      ],
      "metadata": {
        "id": "zReeElQAC2bh"
      }
    },
    {
      "cell_type": "markdown",
      "metadata": {
        "id": "dRp92JQZOeff"
      },
      "source": [
        "### Query 3: What are the effective treatments or solutions for addressing sudden patchy hair loss, commonly seen as localized bald spots on the scalp, and what could be the possible causes behind it?"
      ]
    },
    {
      "cell_type": "markdown",
      "source": [
        "Combination 3 (Very Focused & Deterministic):\n",
        "\n",
        "* temperature=0.0\n",
        "* max_tokens=200 (shorter, more concise)\n",
        "* top_k=30\n",
        "* top_p=0.85"
      ],
      "metadata": {
        "id": "9KZl1rkOYjtn"
      }
    },
    {
      "cell_type": "code",
      "source": [
        "user_input_3 = \"What are the effective treatments or solutions for addressing sudden patchy hair loss, commonly seen as localized bald spots on the scalp, and what could be the possible causes behind it?\"\n",
        "answer_3_pe_c3 = response_with_system_prompt(system_prompt, user_input_3, max_tokens=200, temperature=0.0, top_k=30, top_p=0.85)\n",
        "print(f\"\\nQuery 3 (PE Combo 3): {user_input_3}\")\n",
        "print(f\"Answer 3 (PE Combo 3):\\n{answer_3_pe_c3}\")"
      ],
      "metadata": {
        "id": "JOgATEpMRPve",
        "colab": {
          "base_uri": "https://localhost:8080/"
        },
        "outputId": "52fcd319-5518-4bc8-ddb7-244cab4db77e"
      },
      "execution_count": null,
      "outputs": [
        {
          "output_type": "stream",
          "name": "stderr",
          "text": [
            "Llama.generate: prefix-match hit\n"
          ]
        },
        {
          "output_type": "stream",
          "name": "stdout",
          "text": [
            "\n",
            "Query 3 (PE Combo 3): What are the effective treatments or solutions for addressing sudden patchy hair loss, commonly seen as localized bald spots on the scalp, and what could be the possible causes behind it?\n",
            "Answer 3 (PE Combo 3):\n",
            "Sudden patchy hair loss, also known as alopecia areata, is an autoimmune disorder that results in the loss of hair from specific areas of the scalp or other parts of the body. The exact cause of alopecia areata is not known, but it's believed to be related to a problem with the immune system.\n",
            "\n",
            "There are several treatments for addressing sudden patchy hair loss:\n",
            "\n",
            "1. Corticosteroids: These medications can be applied directly to the affected area or taken orally to reduce inflammation and suppress the immune response that causes hair loss. Topical corticosteroids include foams, gels, lotions, and solutions, while oral corticosteroids are available in various forms such as tablets, capsules, and liquids.\n",
            "2. Immunotherapies: These treatments aim to modify the immune system's response to promote hair regrowth. Minoxidil,\n"
          ]
        }
      ]
    },
    {
      "cell_type": "markdown",
      "source": [
        "Observations:\n",
        "\n",
        "The combination of temperature=0.0 and a lower max_tokens limit results in a highly focused and deterministic answer. The output is concise and directly addresses the query without extra conversational elements, making it ideal for quick information retrieval.\n"
      ],
      "metadata": {
        "id": "by1k6O-tY0Qy"
      }
    },
    {
      "cell_type": "markdown",
      "metadata": {
        "id": "AA45zwyUOefg"
      },
      "source": [
        "### Query 4:  What treatments are recommended for a person who has sustained a physical injury to brain tissue, resulting in temporary or permanent impairment of brain function?"
      ]
    },
    {
      "cell_type": "markdown",
      "source": [
        "Combination 4 (Balanced):\n",
        "\n",
        "* temperature=0.3\n",
        "* max_tokens=350 (allowing for more detail)\n",
        "* top_k=50\n",
        "* top_p=0.95"
      ],
      "metadata": {
        "id": "2zQjSMMxY5zI"
      }
    },
    {
      "cell_type": "code",
      "source": [
        "user_input_4 = \"What treatments are recommended for a person who has sustained a physical injury to brain tissue, resulting in temporary or permanent impairment of brain function?\"\n",
        "answer_4_pe_c4 = response_with_system_prompt(system_prompt, user_input_4, max_tokens=350, temperature=0.3, top_k=50, top_p=0.95)\n",
        "print(f\"\\nQuery 4 (PE Combo 4): {user_input_4}\")\n",
        "print(f\"Answer 4 (PE Combo 4):\\n{answer_4_pe_c4}\")"
      ],
      "metadata": {
        "id": "VA7G8FOnRQZY",
        "colab": {
          "base_uri": "https://localhost:8080/"
        },
        "outputId": "e4025b02-49c8-404f-9c3e-9f36bb80f788"
      },
      "execution_count": null,
      "outputs": [
        {
          "output_type": "stream",
          "name": "stderr",
          "text": [
            "Llama.generate: prefix-match hit\n"
          ]
        },
        {
          "output_type": "stream",
          "name": "stdout",
          "text": [
            "\n",
            "Query 4 (PE Combo 4): What treatments are recommended for a person who has sustained a physical injury to brain tissue, resulting in temporary or permanent impairment of brain function?\n",
            "Answer 4 (PE Combo 4):\n",
            "For a person with a brain injury, the specific treatment recommendations depend on the severity and location of the injury. Here are some common interventions:\n",
            "\n",
            "1. Emergency care: For severe brain injuries, immediate medical attention is necessary to prevent further damage or complications. This may include surgery for hematomas or skull fractures, airway management, and medication to control intracranial pressure.\n",
            "2. Rehabilitation: Rehabilitation programs can help individuals regain lost skills and improve overall function. This may include physical therapy, occupational therapy, speech therapy, and cognitive rehabilitation.\n",
            "3. Medications: Depending on the symptoms, various medications may be prescribed to manage conditions such as seizures, pain, depression, or difficulty with attention and memory.\n",
            "4. Nutritional support: Brain injuries can make it difficult for individuals to eat properly, so nutritional support may be necessary through a feeding tube or diet modifications.\n",
            "5. Assistive devices: Devices such as wheelchairs, walkers, or communication aids can help individuals with brain injuries function more independently.\n",
            "6. Surgery: In some cases, surgery may be necessary to remove blood clots, repair skull fractures, or relieve pressure on the brain.\n",
            "7. Lifestyle modifications: Making lifestyle changes such as getting enough rest, avoiding alcohol and drugs, and engaging in regular physical activity can help improve brain function and overall health.\n",
            "8. Support groups: Joining a support group can provide emotional and social support for individuals with brain injuries and their families.\n",
            "9. Psychological counseling: Counseling can help individuals cope with the emotional challenges of living with\n"
          ]
        }
      ]
    },
    {
      "cell_type": "markdown",
      "source": [
        "Observations:\n",
        "\n",
        "The model correctly prefaces its answer by stating it cannot give specific recommendations, which aligns with the \"do not invent information\" rule in our system prompt.\n",
        "\n",
        "The balanced parameters allow for a detailed but still factual overview of treatment categories, such as emergency care, rehabilitation, and surgery"
      ],
      "metadata": {
        "id": "Ioi-ZVePDSgn"
      }
    },
    {
      "cell_type": "markdown",
      "metadata": {
        "id": "TYXxiSuBOefg"
      },
      "source": [
        "### Query 5: What are the necessary precautions and treatment steps for a person who has fractured their leg during a hiking trip, and what should be considered for their care and recovery?"
      ]
    },
    {
      "cell_type": "markdown",
      "source": [
        "Combination 5 (Slightly More Restrictive Sampling):\n",
        "\n",
        "* temperature=0.2\n",
        "* max_tokens=270\n",
        "* top_k=35\n",
        "* top_p=0.92"
      ],
      "metadata": {
        "id": "6B_Vw4U_ZHrW"
      }
    },
    {
      "cell_type": "code",
      "source": [
        "user_input_5 = \"What are the necessary precautions and treatment steps for a person who has fractured their leg during a hiking trip, and what should be considered for their care and recovery?\"\n",
        "answer_5_pe_c5 = response_with_system_prompt(system_prompt, user_input_5, max_tokens=270, temperature=0.2, top_k=35, top_p=0.92)\n",
        "print(f\"\\nQuery 5 (PE Combo 5): {user_input_5}\")\n",
        "print(f\"Answer 5 (PE Combo 5):\\n{answer_5_pe_c5}\")"
      ],
      "metadata": {
        "id": "mE2GMQk8RQ_p",
        "colab": {
          "base_uri": "https://localhost:8080/"
        },
        "outputId": "4fbd853e-2cef-4086-99d2-29e9b1502e7c"
      },
      "execution_count": null,
      "outputs": [
        {
          "output_type": "stream",
          "name": "stderr",
          "text": [
            "Llama.generate: prefix-match hit\n"
          ]
        },
        {
          "output_type": "stream",
          "name": "stdout",
          "text": [
            "\n",
            "Query 5 (PE Combo 5): What are the necessary precautions and treatment steps for a person who has fractured their leg during a hiking trip, and what should be considered for their care and recovery?\n",
            "Answer 5 (PE Combo 5):\n",
            "A fractured leg is a serious injury that requires prompt medical attention. Here are some general precautions and treatment steps for a person with a fractured leg:\n",
            "\n",
            "1. Immobilize the injured leg: Use a splint, sling, or cast to keep the bone in place and prevent any further movement. This will help reduce pain and swelling and prevent complications such as nerve damage or improper healing.\n",
            "2. Control bleeding: Apply direct pressure to the injury site with a clean cloth to control any bleeding. Elevate the leg above heart level if possible to reduce swelling and promote blood flow.\n",
            "3. Pain management: Use over-the-counter pain medications, such as acetaminophen or ibuprofen, as directed by a healthcare professional. Prescription pain medication may be necessary in some cases.\n",
            "4. Rest and avoid weight bearing: The person should avoid putting weight on the injured leg to allow it to heal properly. They may need to use crutches or a walker for mobility.\n",
            "5. Follow-up care: The person should follow up with their healthcare provider regularly to monitor the healing process and ensure proper alignment of the bone. X-rays may be taken periodically to check for progress.\n",
            "6. Rehabilitation: Once the bone\n"
          ]
        }
      ]
    },
    {
      "cell_type": "markdown",
      "source": [
        "Observations:\n",
        "\n",
        "The restrictive sampling parameters (top_k, top_p) combined with a low temperature produce a very stable and high-quality seeming response. The steps appear logical, well-organized, and read like a reliable first-aid guide covering immobilization, bleeding control, pain management, and follow-up care which sound correct but are still genral unverifiable medical advice and not specific or grounded to any preferred data."
      ],
      "metadata": {
        "id": "akXmaL7EZvKz"
      }
    },
    {
      "cell_type": "markdown",
      "source": [
        "### **Comments on Prompt Engineering:**\n",
        "\n",
        "Prompt engineering gives us significant control over the model's tone, style, and adherence to rules. By providing a clear persona and constraints via a system prompt, we can elicit more professional and reliable responses, even without changing the model's underlying knowledge.\n",
        "\n",
        "However, it does not solve the core problem of verifiability."
      ],
      "metadata": {
        "id": "evLaFUm-30qH"
      }
    },
    {
      "cell_type": "markdown",
      "source": [
        "## Data Preparation for RAG"
      ],
      "metadata": {
        "id": "t_O1PGdNO2M9"
      }
    },
    {
      "cell_type": "markdown",
      "source": [
        "To make our Merck Manuals PDF useful for the RAG system, we need to:\n",
        "\n",
        "1. **Load the Data:** Read the content of the PDF.\n",
        "2. **Chunk the Data:** Break down the number of pages into smaller, digestible pieces.\n",
        "3. **Embed the Chunks:** Convert these text chunks into numerical representations (embeddings).\n",
        "4. **Store in a Vector Database:** Put these embeddings into a special database that allows for efficient similarity searches."
      ],
      "metadata": {
        "id": "BcHf54t6au21"
      }
    },
    {
      "cell_type": "markdown",
      "metadata": {
        "id": "uTpWESc53dL9"
      },
      "source": [
        "### Loading the Data"
      ]
    },
    {
      "cell_type": "code",
      "source": [
        "from google.colab import files\n",
        "\n",
        "uploaded = files.upload()\n",
        "\n",
        "for fn in uploaded.keys():\n",
        "  print('User uploaded file \"{name}\" with length {length} bytes'.format(\n",
        "      name=fn, length=len(uploaded[fn])))\n",
        "\n",
        "# The uploaded file is 'medical_diagnosis_manual.pdf\n",
        "merck_pdf_path = 'medical_diagnosis_manual.pdf'\n",
        "\n",
        "pdf_loader = PyMuPDFLoader(merck_pdf_path) # Reads the PDF and extracts text content along with metadata (like page number).\n",
        "manual = pdf_loader.load() # Loads all pages into a list of Document objects"
      ],
      "metadata": {
        "colab": {
          "base_uri": "https://localhost:8080/",
          "height": 94
        },
        "id": "yAZg0BcIpFNL",
        "outputId": "dacaacf9-f75e-4544-901a-7a79d76f2ae4"
      },
      "execution_count": null,
      "outputs": [
        {
          "output_type": "display_data",
          "data": {
            "text/plain": [
              "<IPython.core.display.HTML object>"
            ],
            "text/html": [
              "\n",
              "     <input type=\"file\" id=\"files-29ee6e6b-e3dc-4cfb-a12a-9b12a17a4076\" name=\"files[]\" multiple disabled\n",
              "        style=\"border:none\" />\n",
              "     <output id=\"result-29ee6e6b-e3dc-4cfb-a12a-9b12a17a4076\">\n",
              "      Upload widget is only available when the cell has been executed in the\n",
              "      current browser session. Please rerun this cell to enable.\n",
              "      </output>\n",
              "      <script>// Copyright 2017 Google LLC\n",
              "//\n",
              "// Licensed under the Apache License, Version 2.0 (the \"License\");\n",
              "// you may not use this file except in compliance with the License.\n",
              "// You may obtain a copy of the License at\n",
              "//\n",
              "//      http://www.apache.org/licenses/LICENSE-2.0\n",
              "//\n",
              "// Unless required by applicable law or agreed to in writing, software\n",
              "// distributed under the License is distributed on an \"AS IS\" BASIS,\n",
              "// WITHOUT WARRANTIES OR CONDITIONS OF ANY KIND, either express or implied.\n",
              "// See the License for the specific language governing permissions and\n",
              "// limitations under the License.\n",
              "\n",
              "/**\n",
              " * @fileoverview Helpers for google.colab Python module.\n",
              " */\n",
              "(function(scope) {\n",
              "function span(text, styleAttributes = {}) {\n",
              "  const element = document.createElement('span');\n",
              "  element.textContent = text;\n",
              "  for (const key of Object.keys(styleAttributes)) {\n",
              "    element.style[key] = styleAttributes[key];\n",
              "  }\n",
              "  return element;\n",
              "}\n",
              "\n",
              "// Max number of bytes which will be uploaded at a time.\n",
              "const MAX_PAYLOAD_SIZE = 100 * 1024;\n",
              "\n",
              "function _uploadFiles(inputId, outputId) {\n",
              "  const steps = uploadFilesStep(inputId, outputId);\n",
              "  const outputElement = document.getElementById(outputId);\n",
              "  // Cache steps on the outputElement to make it available for the next call\n",
              "  // to uploadFilesContinue from Python.\n",
              "  outputElement.steps = steps;\n",
              "\n",
              "  return _uploadFilesContinue(outputId);\n",
              "}\n",
              "\n",
              "// This is roughly an async generator (not supported in the browser yet),\n",
              "// where there are multiple asynchronous steps and the Python side is going\n",
              "// to poll for completion of each step.\n",
              "// This uses a Promise to block the python side on completion of each step,\n",
              "// then passes the result of the previous step as the input to the next step.\n",
              "function _uploadFilesContinue(outputId) {\n",
              "  const outputElement = document.getElementById(outputId);\n",
              "  const steps = outputElement.steps;\n",
              "\n",
              "  const next = steps.next(outputElement.lastPromiseValue);\n",
              "  return Promise.resolve(next.value.promise).then((value) => {\n",
              "    // Cache the last promise value to make it available to the next\n",
              "    // step of the generator.\n",
              "    outputElement.lastPromiseValue = value;\n",
              "    return next.value.response;\n",
              "  });\n",
              "}\n",
              "\n",
              "/**\n",
              " * Generator function which is called between each async step of the upload\n",
              " * process.\n",
              " * @param {string} inputId Element ID of the input file picker element.\n",
              " * @param {string} outputId Element ID of the output display.\n",
              " * @return {!Iterable<!Object>} Iterable of next steps.\n",
              " */\n",
              "function* uploadFilesStep(inputId, outputId) {\n",
              "  const inputElement = document.getElementById(inputId);\n",
              "  inputElement.disabled = false;\n",
              "\n",
              "  const outputElement = document.getElementById(outputId);\n",
              "  outputElement.innerHTML = '';\n",
              "\n",
              "  const pickedPromise = new Promise((resolve) => {\n",
              "    inputElement.addEventListener('change', (e) => {\n",
              "      resolve(e.target.files);\n",
              "    });\n",
              "  });\n",
              "\n",
              "  const cancel = document.createElement('button');\n",
              "  inputElement.parentElement.appendChild(cancel);\n",
              "  cancel.textContent = 'Cancel upload';\n",
              "  const cancelPromise = new Promise((resolve) => {\n",
              "    cancel.onclick = () => {\n",
              "      resolve(null);\n",
              "    };\n",
              "  });\n",
              "\n",
              "  // Wait for the user to pick the files.\n",
              "  const files = yield {\n",
              "    promise: Promise.race([pickedPromise, cancelPromise]),\n",
              "    response: {\n",
              "      action: 'starting',\n",
              "    }\n",
              "  };\n",
              "\n",
              "  cancel.remove();\n",
              "\n",
              "  // Disable the input element since further picks are not allowed.\n",
              "  inputElement.disabled = true;\n",
              "\n",
              "  if (!files) {\n",
              "    return {\n",
              "      response: {\n",
              "        action: 'complete',\n",
              "      }\n",
              "    };\n",
              "  }\n",
              "\n",
              "  for (const file of files) {\n",
              "    const li = document.createElement('li');\n",
              "    li.append(span(file.name, {fontWeight: 'bold'}));\n",
              "    li.append(span(\n",
              "        `(${file.type || 'n/a'}) - ${file.size} bytes, ` +\n",
              "        `last modified: ${\n",
              "            file.lastModifiedDate ? file.lastModifiedDate.toLocaleDateString() :\n",
              "                                    'n/a'} - `));\n",
              "    const percent = span('0% done');\n",
              "    li.appendChild(percent);\n",
              "\n",
              "    outputElement.appendChild(li);\n",
              "\n",
              "    const fileDataPromise = new Promise((resolve) => {\n",
              "      const reader = new FileReader();\n",
              "      reader.onload = (e) => {\n",
              "        resolve(e.target.result);\n",
              "      };\n",
              "      reader.readAsArrayBuffer(file);\n",
              "    });\n",
              "    // Wait for the data to be ready.\n",
              "    let fileData = yield {\n",
              "      promise: fileDataPromise,\n",
              "      response: {\n",
              "        action: 'continue',\n",
              "      }\n",
              "    };\n",
              "\n",
              "    // Use a chunked sending to avoid message size limits. See b/62115660.\n",
              "    let position = 0;\n",
              "    do {\n",
              "      const length = Math.min(fileData.byteLength - position, MAX_PAYLOAD_SIZE);\n",
              "      const chunk = new Uint8Array(fileData, position, length);\n",
              "      position += length;\n",
              "\n",
              "      const base64 = btoa(String.fromCharCode.apply(null, chunk));\n",
              "      yield {\n",
              "        response: {\n",
              "          action: 'append',\n",
              "          file: file.name,\n",
              "          data: base64,\n",
              "        },\n",
              "      };\n",
              "\n",
              "      let percentDone = fileData.byteLength === 0 ?\n",
              "          100 :\n",
              "          Math.round((position / fileData.byteLength) * 100);\n",
              "      percent.textContent = `${percentDone}% done`;\n",
              "\n",
              "    } while (position < fileData.byteLength);\n",
              "  }\n",
              "\n",
              "  // All done.\n",
              "  yield {\n",
              "    response: {\n",
              "      action: 'complete',\n",
              "    }\n",
              "  };\n",
              "}\n",
              "\n",
              "scope.google = scope.google || {};\n",
              "scope.google.colab = scope.google.colab || {};\n",
              "scope.google.colab._files = {\n",
              "  _uploadFiles,\n",
              "  _uploadFilesContinue,\n",
              "};\n",
              "})(self);\n",
              "</script> "
            ]
          },
          "metadata": {}
        },
        {
          "output_type": "stream",
          "name": "stdout",
          "text": [
            "Saving medical_diagnosis_manual.pdf to medical_diagnosis_manual.pdf\n",
            "User uploaded file \"medical_diagnosis_manual.pdf\" with length 20151775 bytes\n"
          ]
        }
      ]
    },
    {
      "cell_type": "markdown",
      "source": [
        "Alternate Load"
      ],
      "metadata": {
        "id": "JbCaLuGoqKfz"
      }
    },
    {
      "cell_type": "code",
      "source": [
        "# from google.colab import drive\n",
        "# drive.mount('/content/drive')\n",
        "\n",
        "# merck_pdf_path = '/content/sample_data/medical_diagnosis_manual.pdf'\n",
        "\n",
        "# pdf_loader = PyMuPDFLoader(merck_pdf_path) # Reads the PDF and extracts text content along with metadata (like page number).\n",
        "# manual = pdf_loader.load() # Loads all pages into a list of Document objects"
      ],
      "metadata": {
        "id": "ybj2cEnzRSXq"
      },
      "execution_count": null,
      "outputs": []
    },
    {
      "cell_type": "markdown",
      "metadata": {
        "id": "ffj0ca3eZT4u"
      },
      "source": [
        "### Data Overview"
      ]
    },
    {
      "cell_type": "markdown",
      "metadata": {
        "id": "f9weTDzMxRRS"
      },
      "source": [
        "#### Checking the first 5 pages"
      ]
    },
    {
      "cell_type": "code",
      "source": [
        "for i in range(min(5, len(manual))): # Ensure we don't go out of bounds if PDF has < 5 pages\n",
        "    print(f\"\\n--- Page {i+1} (metadata: {manual[i].metadata}) ---\")\n",
        "    print(manual[i].page_content[:500],end=\"\\n\") # Print first 500 characters of the page"
      ],
      "metadata": {
        "id": "MSEiL--bRTZT",
        "colab": {
          "base_uri": "https://localhost:8080/"
        },
        "outputId": "136908a5-6675-4c6b-9a30-dd7984b4434c"
      },
      "execution_count": null,
      "outputs": [
        {
          "output_type": "stream",
          "name": "stdout",
          "text": [
            "\n",
            "--- Page 1 (metadata: {'source': 'medical_diagnosis_manual.pdf', 'file_path': 'medical_diagnosis_manual.pdf', 'page': 0, 'total_pages': 4114, 'format': 'PDF 1.7', 'title': 'The Merck Manual of Diagnosis & Therapy, 19th Edition', 'author': '', 'subject': '', 'keywords': '', 'creator': 'Atop CHM to PDF Converter', 'producer': 'pdf-lib (https://github.com/Hopding/pdf-lib)', 'creationDate': 'D:20120615054440Z', 'modDate': 'D:20250525161424Z', 'trapped': ''}) ---\n",
            "mwill.itmission@gmail.com\n",
            "SMJEDP569T\n",
            "ant for personal use by mwill.itmission@g\n",
            "shing the contents in part or full is liable \n",
            "\n",
            "\n",
            "--- Page 2 (metadata: {'source': 'medical_diagnosis_manual.pdf', 'file_path': 'medical_diagnosis_manual.pdf', 'page': 1, 'total_pages': 4114, 'format': 'PDF 1.7', 'title': 'The Merck Manual of Diagnosis & Therapy, 19th Edition', 'author': '', 'subject': '', 'keywords': '', 'creator': 'Atop CHM to PDF Converter', 'producer': 'pdf-lib (https://github.com/Hopding/pdf-lib)', 'creationDate': 'D:20120615054440Z', 'modDate': 'D:20250525161424Z', 'trapped': ''}) ---\n",
            "mwill.itmission@gmail.com\n",
            "SMJEDP569T\n",
            "This file is meant for personal use by mwill.itmission@gmail.com only.\n",
            "Sharing or publishing the contents in part or full is liable for legal action.\n",
            "\n",
            "\n",
            "--- Page 3 (metadata: {'source': 'medical_diagnosis_manual.pdf', 'file_path': 'medical_diagnosis_manual.pdf', 'page': 2, 'total_pages': 4114, 'format': 'PDF 1.7', 'title': 'The Merck Manual of Diagnosis & Therapy, 19th Edition', 'author': '', 'subject': '', 'keywords': '', 'creator': 'Atop CHM to PDF Converter', 'producer': 'pdf-lib (https://github.com/Hopding/pdf-lib)', 'creationDate': 'D:20120615054440Z', 'modDate': 'D:20250525161424Z', 'trapped': ''}) ---\n",
            "Table of Contents\n",
            "1\n",
            "Front  \n",
            "  ................................................................................................................................................................................................................\n",
            "1\n",
            "Cover  \n",
            "  .......................................................................................................................................................................................................\n",
            "2\n",
            "Front Matter  \n",
            "  ..............................\n",
            "\n",
            "--- Page 4 (metadata: {'source': 'medical_diagnosis_manual.pdf', 'file_path': 'medical_diagnosis_manual.pdf', 'page': 3, 'total_pages': 4114, 'format': 'PDF 1.7', 'title': 'The Merck Manual of Diagnosis & Therapy, 19th Edition', 'author': '', 'subject': '', 'keywords': '', 'creator': 'Atop CHM to PDF Converter', 'producer': 'pdf-lib (https://github.com/Hopding/pdf-lib)', 'creationDate': 'D:20120615054440Z', 'modDate': 'D:20250525161424Z', 'trapped': ''}) ---\n",
            "491\n",
            "Chapter 44. Foot & Ankle Disorders  \n",
            "  .....................................................................................................................................\n",
            "502\n",
            "Chapter 45. Tumors of Bones & Joints  \n",
            "  ...............................................................................................................................\n",
            "510\n",
            "5 - Ear, Nose, Throat & Dental Disorders  \n",
            "  .....................................................................................................\n",
            "\n",
            "--- Page 5 (metadata: {'source': 'medical_diagnosis_manual.pdf', 'file_path': 'medical_diagnosis_manual.pdf', 'page': 4, 'total_pages': 4114, 'format': 'PDF 1.7', 'title': 'The Merck Manual of Diagnosis & Therapy, 19th Edition', 'author': '', 'subject': '', 'keywords': '', 'creator': 'Atop CHM to PDF Converter', 'producer': 'pdf-lib (https://github.com/Hopding/pdf-lib)', 'creationDate': 'D:20120615054440Z', 'modDate': 'D:20250525161424Z', 'trapped': ''}) ---\n",
            "921\n",
            "Chapter 94. Adrenal Disorders  \n",
            "  ................................................................................................................................................\n",
            "936\n",
            "Chapter 95. Polyglandular Deficiency Syndromes  \n",
            "  ........................................................................................................\n",
            "939\n",
            "Chapter 96. Porphyrias  \n",
            "  ..............................................................................................................................\n"
          ]
        }
      ]
    },
    {
      "cell_type": "markdown",
      "source": [
        "Observations:\n",
        "\n",
        "The data from our input manual is being retrieved from the resource.The initial pages, including the table of contents, confirming that the PDF is being loaded and read correctly can be seen."
      ],
      "metadata": {
        "id": "MVbUGuFvHMGf"
      }
    },
    {
      "cell_type": "markdown",
      "metadata": {
        "id": "7-wNNalNxPKT"
      },
      "source": [
        "#### Checking the number of pages"
      ]
    },
    {
      "cell_type": "code",
      "source": [
        "print(f\"The manual has {len(manual)} pages.\")"
      ],
      "metadata": {
        "id": "-NuC-6SNRT7K",
        "colab": {
          "base_uri": "https://localhost:8080/"
        },
        "outputId": "91321ca3-1473-4897-b064-dfea571d3ade"
      },
      "execution_count": null,
      "outputs": [
        {
          "output_type": "stream",
          "name": "stdout",
          "text": [
            "The manual has 4114 pages.\n"
          ]
        }
      ]
    },
    {
      "cell_type": "markdown",
      "metadata": {
        "id": "LECMxTH-zB-R"
      },
      "source": [
        "### Data Chunking"
      ]
    },
    {
      "cell_type": "code",
      "source": [
        "# Initialize the text splitter\n",
        "text_splitter = RecursiveCharacterTextSplitter.from_tiktoken_encoder(\n",
        "    encoding_name='cl100k_base', # Uses the same encoding as many OpenAI models, good for token counting\n",
        "    chunk_size=512,              # Size of each chunk (in tokens)\n",
        "    chunk_overlap=64             # Number of tokens to overlap between chunks\n",
        ")"
      ],
      "metadata": {
        "id": "ir9Zi8rKRUmG"
      },
      "execution_count": null,
      "outputs": []
    },
    {
      "cell_type": "code",
      "source": [
        "# Split the loaded documents into smaller chunks\n",
        "document_chunks = text_splitter.split_documents(manual)\n",
        "\n",
        "# Check the number of chunks created\n",
        "print(f\"\\nNumber of document chunks: {len(document_chunks)}\")"
      ],
      "metadata": {
        "id": "5yiL94ssgpjc",
        "colab": {
          "base_uri": "https://localhost:8080/"
        },
        "outputId": "a770e868-cc03-4f26-a728-8b04fbe24b49"
      },
      "execution_count": null,
      "outputs": [
        {
          "output_type": "stream",
          "name": "stdout",
          "text": [
            "\n",
            "Number of document chunks: 8769\n"
          ]
        }
      ]
    },
    {
      "cell_type": "code",
      "source": [
        "# Verify a few chunks to see the content and overlap\n",
        "if len(document_chunks) > 3:\n",
        "    print(f\"\\n--- Chunk 0 (metadata: {document_chunks[0].metadata}) ---\")\n",
        "    # The 'metadata' dictionary contains info like the source file and page number.\n",
        "    print(document_chunks[0].page_content) # This is the actual text content of the chunk.\n",
        "    print(f\"\\n--- Chunk 1 (metadata: {document_chunks[1].metadata}) ---\")\n",
        "    print(document_chunks[1].page_content)\n",
        "\n",
        "    # To better see overlap, we can compare the end of chunk 0 with the start of chunk 1.\n",
        "    if document_chunks[0].metadata.get('page') == document_chunks[1].metadata.get('page'):\n",
        "        print(\"\\nOverlap illustration (If from same page):\")\n",
        "        print(f\"End of Chunk 0: ...{document_chunks[0].page_content[-100:]}\")\n",
        "        print(f\"Start of Chunk 1: {document_chunks[1].page_content[:100]}...\")"
      ],
      "metadata": {
        "id": "ilp4Rnh-hthv",
        "colab": {
          "base_uri": "https://localhost:8080/"
        },
        "outputId": "7055cc5c-76d7-4d19-894a-157c41738941"
      },
      "execution_count": null,
      "outputs": [
        {
          "output_type": "stream",
          "name": "stdout",
          "text": [
            "\n",
            "--- Chunk 0 (metadata: {'source': 'medical_diagnosis_manual.pdf', 'file_path': 'medical_diagnosis_manual.pdf', 'page': 0, 'total_pages': 4114, 'format': 'PDF 1.7', 'title': 'The Merck Manual of Diagnosis & Therapy, 19th Edition', 'author': '', 'subject': '', 'keywords': '', 'creator': 'Atop CHM to PDF Converter', 'producer': 'pdf-lib (https://github.com/Hopding/pdf-lib)', 'creationDate': 'D:20120615054440Z', 'modDate': 'D:20250525161424Z', 'trapped': ''}) ---\n",
            "mwill.itmission@gmail.com\n",
            "SMJEDP569T\n",
            "ant for personal use by mwill.itmission@g\n",
            "shing the contents in part or full is liable\n",
            "\n",
            "--- Chunk 1 (metadata: {'source': 'medical_diagnosis_manual.pdf', 'file_path': 'medical_diagnosis_manual.pdf', 'page': 1, 'total_pages': 4114, 'format': 'PDF 1.7', 'title': 'The Merck Manual of Diagnosis & Therapy, 19th Edition', 'author': '', 'subject': '', 'keywords': '', 'creator': 'Atop CHM to PDF Converter', 'producer': 'pdf-lib (https://github.com/Hopding/pdf-lib)', 'creationDate': 'D:20120615054440Z', 'modDate': 'D:20250525161424Z', 'trapped': ''}) ---\n",
            "mwill.itmission@gmail.com\n",
            "SMJEDP569T\n",
            "This file is meant for personal use by mwill.itmission@gmail.com only.\n",
            "Sharing or publishing the contents in part or full is liable for legal action.\n"
          ]
        }
      ]
    },
    {
      "cell_type": "markdown",
      "source": [
        "Comments:\n",
        "\n",
        "* **RecursiveCharacterTextSplitter.from_tiktoken_encoder(...)**:\n",
        "We use from_tiktoken_encoder to ensure our chunk_size is based on tokens (what the LLM sees) rather than just character count. cl100k_base is a common tokenizer.\n",
        "\n",
        "* **chunk_size=512**:\n",
        "Each chunk will be roughly 512 tokens long. This size needs to be small enough to fit into our LLM's context window along with the question and prompt, but large enough to contain meaningful information.\n",
        "\n",
        "* **chunk_overlap=64**: Each chunk will share its last 64 tokens with the next chunk's first 64 tokens. This helps maintain context across splits.\n",
        "\n",
        "* **text_splitter.split_documents(manual_docs)**: This applies the splitting logic to all our loaded pages.\n",
        "\n",
        "Seeing the content of a few chunks helps us understand what these pieces of text look like. The metadata (like page number) is preserved for each chunk, which is very helpful for referencing later."
      ],
      "metadata": {
        "id": "p-rzm4Qoizfe"
      }
    },
    {
      "cell_type": "markdown",
      "metadata": {
        "id": "BvHVejcWz0Bl"
      },
      "source": [
        "### Embedding"
      ]
    },
    {
      "cell_type": "markdown",
      "source": [
        "Computers don't understand words directly; they understand numbers.  \n",
        "Embeddings convert text chunks into lists of numbers (vectors) such that chunks with similar meanings have vectors that are numerically \"close\" to each other.  \n",
        "Sentence transformer model, is specifically trained for this task."
      ],
      "metadata": {
        "id": "RmSD2gr1oz_x"
      }
    },
    {
      "cell_type": "code",
      "source": [
        "# !pip install numpy==1.26.4 scipy==1.12.0 transformers==4.40.0 sentence-transformers langchain-community==0.0.38\n",
        "# from langchain_community.embeddings import SentenceTransformerEmbeddings\n",
        "\n",
        "# We'll use a pre-trained model from Hugging Face. \"all-MiniLM-L6-v2\" is a good quality and relatively small/fast.\n",
        "embedding_model_name = \"sentence-transformers/all-MiniLM-L6-v2\"\n",
        "\n",
        "embedding_model = SentenceTransformerEmbeddings(\n",
        "    model_name=embedding_model_name,\n",
        "    model_kwargs={'device': 'cuda'} # Specify 'cpu' or 'cuda' for execution\n",
        ")"
      ],
      "metadata": {
        "id": "R3CAgoUeRVLa",
        "colab": {
          "base_uri": "https://localhost:8080/",
          "height": 419,
          "referenced_widgets": [
            "c7fa2fca4ad44781911765bc9f7744a4",
            "0a8d842f3e9d4f548044efa5dcb3f6e8",
            "249e830f93d64098a6c1b8cfad98da36",
            "e5448773100f4661b10fb9e80c19fd69",
            "d8d8f876361348b9ac0e8b5b3416e885",
            "b0999c657d244803a0e60d309274f182",
            "72ecb876cc924c9a921eb404dbbe04cc",
            "00de50f4053c4a6596bda30cf8d7458c",
            "024ccb50e719459aa5edc057b3ef6db4",
            "5ca2a8fb1ec1421ea6a06e715b1e9223",
            "c5354d28bd7349b78a0b04f34fd611a0",
            "4e71409d2f5d4775b7c5caa4cd71ad40",
            "bed0a81a795b4dfb91738869b5cc03bd",
            "9400a33005534ea1b78f32a7bf19cbff",
            "a4988cb3d60e4d3cb2794b0ed602f693",
            "61417defd299495c9c394583d527a060",
            "71b5b7fd3a574d29bb8e555b908ad5ca",
            "8bd0155f29dd40a3a392d6ee515727aa",
            "4f10b72e99344394b8471c9b1d0d38d7",
            "656063d1e2104219a5160be64ea5ffb9",
            "7d342f05326c449b89c6b3c93e42761b",
            "349202496cc240b8b79d9f7b15ea92c1",
            "b55d6439aaba45dd9c2949e8a50eaf0f",
            "6e277c54aff64aff8b791c5f10421ca4",
            "921380c5c1404fcf8f86ff2ee611dcf1",
            "73b76c9b223f420c97136f641bf4fd6c",
            "399862183dc5440d9259c4d0fbcf30ce",
            "0a7953d1d5214db4b0e9b8b0b02122d0",
            "45112b27e21842139474392a43f79299",
            "44716ad944ce4599b67a00fd7f01d3f2",
            "a550951a812d45288987f973fed82364",
            "977be17bf6174ccd83f147e0a7a944ef",
            "dbbd46289495422abd0e770049d3953c",
            "bea6e19eec7f4dd6883ce8370d64e3b0",
            "4ae57f5588bf4ba884232a83ea4b3a08",
            "a9bd0bd9605a4a3198007c206fa8782d",
            "565b5699fa1746489dbe580331cd9e76",
            "41e6d587de264b4c9abe10afca3a55c9",
            "35b0caea8e9840a2950d043d32c28c58",
            "cee4492a72e2400ba6df5b05770f221e",
            "12cfd8dd7c8b43dcb5fe6ceb405dedf4",
            "d1c3cf7c7228436ab6cdf35681a8ff5a",
            "2a22b4b19f314decab69704da9cbea55",
            "b32d2456f9d84a9b8cfbbcfc5ac9d54b",
            "d62cde166862419ea7d143d1a27ff53b",
            "bfe165674fe740708b8cd1bb1f828411",
            "f5b6bd034a48466ab742d4c82c8847c5",
            "0241733d8c6c46738436be90c9897d42",
            "b01e1f07e99048d9b9f161ccf9ef77e0",
            "766188487d444b7a97d509058b18b2a0",
            "fc3c32c8f324479faf509f406b992b30",
            "74b4636dbcfb427c92c7b0d3b1e30457",
            "ba8ef59dd5ab437ba9cc246c937d145c",
            "ee990c44ca4e4bf3ab9e8550fd449d51",
            "67de0502edf2437797885a77cd5d3866",
            "f17c6959aa86402a8d53251bb9b6ccff",
            "d7632dc0bb854ab297ab8838bb397af5",
            "2334150c9c9240d196a3f07ff4bb52c2",
            "4537ea5bda8b4789ba9e08ab6701b24e",
            "9dfd9f7bba714c09a78162d84a693853",
            "c66706208e1d4b7ea85d3c78f7fc5b97",
            "76db1b7cb4e947c58c622672ee94dcf2",
            "8ab0e1bfd6e54c31b6762ba48020d7b1",
            "fcf9c1645fd44087979e23793387a3f0",
            "3fadbc224a7c40a29808b1450276444b",
            "5c8ff6aa1ddb40d98106ca292b22f41d",
            "b9bbb20024f1465ebdab79d53916a3bb",
            "32a619d47a4340d5ac4e2318f4326592",
            "9594a5be53be4e46916a0728cd40899f",
            "7d9b6624b80c43669818cfff19eec3e5",
            "e9cfac294ea342ada3a5167d3979c7ac",
            "86dc644158104626b15f0022746c9627",
            "631c259bcf9a4c0e863ef281c03701ed",
            "3e3597b65e5b4c99a95ad69aa88592c9",
            "8ec10bbc118b4bb19c0474eb4e942247",
            "dd4478503dfb4218a2e4da4f2a4d5f35",
            "2592970933654aa9a0cd72affe76102c",
            "52f41b355e384df7abcb442ad1b7605f",
            "982d02cb97d14b7bb70eda84d72d6dad",
            "e17ed7b87d7a43be90b11a234c2bf5a4",
            "145ea2ea89d848aaaa8ecd80a282ce9d",
            "0f1e6246a3784beb9f5e94f2d8ead8db",
            "4c3f40f98f8b49e0a37d06fd75352324",
            "826a788b8b3f4a349be34fed67503783",
            "f06cf28f1ea6495aac78032c0e9b1269",
            "6c68ef190cf043ca957d6dc82e38af0a",
            "3c955e1104274a8ea03faee6f48a83ba",
            "5a2adee781304bb19eeda9347266a23f",
            "6378f55d44df4b08862dd9ce69b0760c",
            "bf985793aa2946d28ab6624c9093a61f",
            "35b2f0eb0e4f4a8f97cb12e15a88f1b8",
            "31bc61e1ce95403ea9043bf31104faa0",
            "bb486e29f04f4b04abe9d597cb7f9d9e",
            "6e0e719b580c41b89ed504d6c1ad1865",
            "aa0864b6db764398b553b13d383b20a6",
            "c6d381e7cc9149ea8ef17a9ada0c0cb8",
            "f7f88750eab44f2a853c09ecfd2d3964",
            "628212a740284ec0add97eaffecd22a6",
            "1984e89d59ee4fd182ac23bff90e7869",
            "1b0c3731649a483290f96e7da135f4ba",
            "a3f85ddbc05943f396bb21d2072a5db1",
            "c311ee3317894eef80c04a9b6a9f036b",
            "e5dfc7f9668c464296cf9369746f1e0b",
            "1a0e3b2262454ddc97cb820650100a49",
            "7d72f0fdd7c14107bb9e7c39092a6508",
            "1bcd5cbff7ce46819d07ba7018f05963",
            "48245a4e2f84475680a6d69091162966",
            "df1d670bf51a418284de603060443fb5",
            "019f1d40ea694b698f014fe30478a907",
            "96ff63b26bba4ed8ae7b7609e5e313ea",
            "4d08514f7bc3407586b056fd85e17868",
            "819d06a9edb441f9b1f423eaf1154e6f",
            "e2444dd7398540ce86d226841a4edee7",
            "b52fd0a613db4544a89fa54bbce01be8",
            "58853b0a357142368143f50479ec48d1",
            "c768a0c9d11048f88ce3581cc50c52ae",
            "158b6f86fb934d93a6e774822476303d",
            "0b65cfe287b448da8af68d02ce5fa4eb",
            "76cd95ce0f3e4270996f307debf948cf",
            "3e62915a5ae8490fa43a9d297991cf3b",
            "63328a405cb34247bcc894f117a92b3f",
            "779113b41e824578a62c6e6d4d00439f",
            "0f08af88f731481a9b1a8960c836a166",
            "8dc237840454404f80611f35949923cf",
            "41d8b5dda93340d8952d2af40622c21e",
            "d282599ddce34709b8fa9277ea4acb70",
            "98c5e36c476f4be38f8095676e1eca30",
            "85d552c260774ba89cf24a9771cd8172",
            "908053a877d744e8b5627524147b410e",
            "251fa26976fd405b9caea8e5a02c11ec",
            "1773572cec1547baa8bc58275ad0eff4",
            "121c6ee3115c4934bcbf15fcb2f7219c"
          ]
        },
        "outputId": "80d94056-25ff-4c9e-ec25-877f178e9c4d"
      },
      "execution_count": null,
      "outputs": [
        {
          "output_type": "stream",
          "name": "stderr",
          "text": [
            "The cache for model files in Transformers v4.22.0 has been updated. Migrating your old cache. This is a one-time only operation. You can interrupt this and resume the migration later on by calling `transformers.utils.move_cache()`.\n"
          ]
        },
        {
          "output_type": "display_data",
          "data": {
            "text/plain": [
              "0it [00:00, ?it/s]"
            ],
            "application/vnd.jupyter.widget-view+json": {
              "version_major": 2,
              "version_minor": 0,
              "model_id": "c7fa2fca4ad44781911765bc9f7744a4"
            }
          },
          "metadata": {}
        },
        {
          "output_type": "display_data",
          "data": {
            "text/plain": [
              "modules.json:   0%|          | 0.00/349 [00:00<?, ?B/s]"
            ],
            "application/vnd.jupyter.widget-view+json": {
              "version_major": 2,
              "version_minor": 0,
              "model_id": "4e71409d2f5d4775b7c5caa4cd71ad40"
            }
          },
          "metadata": {}
        },
        {
          "output_type": "display_data",
          "data": {
            "text/plain": [
              "config_sentence_transformers.json:   0%|          | 0.00/116 [00:00<?, ?B/s]"
            ],
            "application/vnd.jupyter.widget-view+json": {
              "version_major": 2,
              "version_minor": 0,
              "model_id": "b55d6439aaba45dd9c2949e8a50eaf0f"
            }
          },
          "metadata": {}
        },
        {
          "output_type": "display_data",
          "data": {
            "text/plain": [
              "README.md:   0%|          | 0.00/10.5k [00:00<?, ?B/s]"
            ],
            "application/vnd.jupyter.widget-view+json": {
              "version_major": 2,
              "version_minor": 0,
              "model_id": "bea6e19eec7f4dd6883ce8370d64e3b0"
            }
          },
          "metadata": {}
        },
        {
          "output_type": "display_data",
          "data": {
            "text/plain": [
              "sentence_bert_config.json:   0%|          | 0.00/53.0 [00:00<?, ?B/s]"
            ],
            "application/vnd.jupyter.widget-view+json": {
              "version_major": 2,
              "version_minor": 0,
              "model_id": "d62cde166862419ea7d143d1a27ff53b"
            }
          },
          "metadata": {}
        },
        {
          "output_type": "display_data",
          "data": {
            "text/plain": [
              "config.json:   0%|          | 0.00/612 [00:00<?, ?B/s]"
            ],
            "application/vnd.jupyter.widget-view+json": {
              "version_major": 2,
              "version_minor": 0,
              "model_id": "f17c6959aa86402a8d53251bb9b6ccff"
            }
          },
          "metadata": {}
        },
        {
          "output_type": "display_data",
          "data": {
            "text/plain": [
              "model.safetensors:   0%|          | 0.00/90.9M [00:00<?, ?B/s]"
            ],
            "application/vnd.jupyter.widget-view+json": {
              "version_major": 2,
              "version_minor": 0,
              "model_id": "b9bbb20024f1465ebdab79d53916a3bb"
            }
          },
          "metadata": {}
        },
        {
          "output_type": "display_data",
          "data": {
            "text/plain": [
              "tokenizer_config.json:   0%|          | 0.00/350 [00:00<?, ?B/s]"
            ],
            "application/vnd.jupyter.widget-view+json": {
              "version_major": 2,
              "version_minor": 0,
              "model_id": "52f41b355e384df7abcb442ad1b7605f"
            }
          },
          "metadata": {}
        },
        {
          "output_type": "display_data",
          "data": {
            "text/plain": [
              "vocab.txt:   0%|          | 0.00/232k [00:00<?, ?B/s]"
            ],
            "application/vnd.jupyter.widget-view+json": {
              "version_major": 2,
              "version_minor": 0,
              "model_id": "6378f55d44df4b08862dd9ce69b0760c"
            }
          },
          "metadata": {}
        },
        {
          "output_type": "display_data",
          "data": {
            "text/plain": [
              "tokenizer.json:   0%|          | 0.00/466k [00:00<?, ?B/s]"
            ],
            "application/vnd.jupyter.widget-view+json": {
              "version_major": 2,
              "version_minor": 0,
              "model_id": "1b0c3731649a483290f96e7da135f4ba"
            }
          },
          "metadata": {}
        },
        {
          "output_type": "display_data",
          "data": {
            "text/plain": [
              "special_tokens_map.json:   0%|          | 0.00/112 [00:00<?, ?B/s]"
            ],
            "application/vnd.jupyter.widget-view+json": {
              "version_major": 2,
              "version_minor": 0,
              "model_id": "4d08514f7bc3407586b056fd85e17868"
            }
          },
          "metadata": {}
        },
        {
          "output_type": "display_data",
          "data": {
            "text/plain": [
              "config.json:   0%|          | 0.00/190 [00:00<?, ?B/s]"
            ],
            "application/vnd.jupyter.widget-view+json": {
              "version_major": 2,
              "version_minor": 0,
              "model_id": "779113b41e824578a62c6e6d4d00439f"
            }
          },
          "metadata": {}
        }
      ]
    },
    {
      "cell_type": "code",
      "source": [
        "# Test the embedding model on a couple of chunks\n",
        "if len(document_chunks) > 1:\n",
        "    embedding_1 = embedding_model.embed_query(document_chunks[0].page_content)\n",
        "    embedding_2 = embedding_model.embed_query(document_chunks[1].page_content)\n",
        "\n",
        "    print(f\"\\nDimension of the embedding vector: {len(embedding_1)}\")\n",
        "    print(f\"Are dimensions of embedding_1 and embedding_2 the same? {len(embedding_1) == len(embedding_2)}\")\n",
        "else:\n",
        "    print(\"Not enough document chunks to create embeddings for this example.\")"
      ],
      "metadata": {
        "id": "esAaQiFHmFWe",
        "colab": {
          "base_uri": "https://localhost:8080/"
        },
        "outputId": "6e5e5468-f7a6-4edb-d5a3-cc3567932569"
      },
      "execution_count": null,
      "outputs": [
        {
          "output_type": "stream",
          "name": "stdout",
          "text": [
            "\n",
            "Dimension of the embedding vector: 384\n",
            "Are dimensions of embedding_1 and embedding_2 the same? True\n"
          ]
        }
      ]
    },
    {
      "cell_type": "markdown",
      "metadata": {
        "id": "qiKCOv4X0d7B"
      },
      "source": [
        "### Vector Database"
      ]
    },
    {
      "cell_type": "markdown",
      "source": [
        "Now that we can turn text chunks into embeddings (vectors), we need a place to **store** them and efficiently **search** through them.\n",
        "This is where a **Vector Database** comes in. We will be using **Chroma**."
      ],
      "metadata": {
        "id": "WvsdTtxAuf8U"
      }
    },
    {
      "cell_type": "code",
      "source": [
        "# Define a directory to persist (save) the vector database\n",
        "out_dir = 'medical_db_merck'\n",
        "\n",
        "# Create the directory if it doesn't exist\n",
        "if not os.path.exists(out_dir):\n",
        "    os.makedirs(out_dir)"
      ],
      "metadata": {
        "id": "vHHt1MQQRVzs"
      },
      "execution_count": null,
      "outputs": []
    },
    {
      "cell_type": "code",
      "source": [
        "# Create the Chroma vector store from our document chunks and embedding model.\n",
        "# This process takes each chunk, creates an embedding, and stores it.\n",
        "# This builds the knowledge base the RAG system will use.\n",
        "# Note: This can take a few minutes for a large document.\n",
        "!pip install chromadb\n",
        "\n",
        "print(f\"\\nCreating vector store. This might take a while...\")\n",
        "\n",
        "# Define a batch size that is less than the max batch size reported by Chroma\n",
        "batch_size = 5000 # Using 5000, which is less than the max of 5461\n",
        "\n",
        "# Initialize Chroma client (in-memory for this example, persistent if persist_directory is set)\n",
        "# We'll add documents in batches later\n",
        "vectorstore = Chroma(\n",
        "    embedding_function=embedding_model,\n",
        "    persist_directory=out_dir\n",
        ")\n",
        "\n",
        "# Iterate through document chunks in batches and add to Chroma\n",
        "for i in range(0, len(document_chunks), batch_size):\n",
        "    batch_chunks = document_chunks[i:i + batch_size]\n",
        "    print(f\"Adding batch {int(i/batch_size) + 1} of {len(document_chunks) // batch_size + 1}...\")\n",
        "    vectorstore.add_documents(documents=batch_chunks)\n",
        "\n",
        "print(f\"Vector store created and persisted in '{out_dir}'.\")"
      ],
      "metadata": {
        "id": "EBq9nya_nQPv",
        "colab": {
          "base_uri": "https://localhost:8080/"
        },
        "outputId": "687f2619-4739-4b15-a39e-c3b9e90beee3"
      },
      "execution_count": null,
      "outputs": [
        {
          "output_type": "stream",
          "name": "stdout",
          "text": [
            "Requirement already satisfied: chromadb in /usr/local/lib/python3.11/dist-packages (1.0.13)\n",
            "Requirement already satisfied: build>=1.0.3 in /usr/local/lib/python3.11/dist-packages (from chromadb) (1.2.2.post1)\n",
            "Requirement already satisfied: pydantic>=1.9 in /usr/local/lib/python3.11/dist-packages (from chromadb) (2.11.7)\n",
            "Requirement already satisfied: pybase64>=1.4.1 in /usr/local/lib/python3.11/dist-packages (from chromadb) (1.4.1)\n",
            "Requirement already satisfied: uvicorn>=0.18.3 in /usr/local/lib/python3.11/dist-packages (from uvicorn[standard]>=0.18.3->chromadb) (0.34.3)\n",
            "Requirement already satisfied: numpy>=1.22.5 in /usr/local/lib/python3.11/dist-packages (from chromadb) (1.26.4)\n",
            "Requirement already satisfied: posthog>=2.4.0 in /usr/local/lib/python3.11/dist-packages (from chromadb) (5.3.0)\n",
            "Requirement already satisfied: typing-extensions>=4.5.0 in /usr/local/lib/python3.11/dist-packages (from chromadb) (4.14.0)\n",
            "Requirement already satisfied: onnxruntime>=1.14.1 in /usr/local/lib/python3.11/dist-packages (from chromadb) (1.22.0)\n",
            "Requirement already satisfied: opentelemetry-api>=1.2.0 in /usr/local/lib/python3.11/dist-packages (from chromadb) (1.34.1)\n",
            "Requirement already satisfied: opentelemetry-exporter-otlp-proto-grpc>=1.2.0 in /usr/local/lib/python3.11/dist-packages (from chromadb) (1.34.1)\n",
            "Requirement already satisfied: opentelemetry-sdk>=1.2.0 in /usr/local/lib/python3.11/dist-packages (from chromadb) (1.34.1)\n",
            "Requirement already satisfied: tokenizers>=0.13.2 in /usr/local/lib/python3.11/dist-packages (from chromadb) (0.19.1)\n",
            "Requirement already satisfied: pypika>=0.48.9 in /usr/local/lib/python3.11/dist-packages (from chromadb) (0.48.9)\n",
            "Requirement already satisfied: tqdm>=4.65.0 in /usr/local/lib/python3.11/dist-packages (from chromadb) (4.67.1)\n",
            "Requirement already satisfied: overrides>=7.3.1 in /usr/local/lib/python3.11/dist-packages (from chromadb) (7.7.0)\n",
            "Requirement already satisfied: importlib-resources in /usr/local/lib/python3.11/dist-packages (from chromadb) (6.5.2)\n",
            "Requirement already satisfied: grpcio>=1.58.0 in /usr/local/lib/python3.11/dist-packages (from chromadb) (1.73.0)\n",
            "Requirement already satisfied: bcrypt>=4.0.1 in /usr/local/lib/python3.11/dist-packages (from chromadb) (4.3.0)\n",
            "Requirement already satisfied: typer>=0.9.0 in /usr/local/lib/python3.11/dist-packages (from chromadb) (0.16.0)\n",
            "Requirement already satisfied: kubernetes>=28.1.0 in /usr/local/lib/python3.11/dist-packages (from chromadb) (33.1.0)\n",
            "Requirement already satisfied: tenacity>=8.2.3 in /usr/local/lib/python3.11/dist-packages (from chromadb) (8.5.0)\n",
            "Requirement already satisfied: pyyaml>=6.0.0 in /usr/local/lib/python3.11/dist-packages (from chromadb) (6.0.2)\n",
            "Requirement already satisfied: mmh3>=4.0.1 in /usr/local/lib/python3.11/dist-packages (from chromadb) (5.1.0)\n",
            "Requirement already satisfied: orjson>=3.9.12 in /usr/local/lib/python3.11/dist-packages (from chromadb) (3.10.18)\n",
            "Requirement already satisfied: httpx>=0.27.0 in /usr/local/lib/python3.11/dist-packages (from chromadb) (0.28.1)\n",
            "Requirement already satisfied: rich>=10.11.0 in /usr/local/lib/python3.11/dist-packages (from chromadb) (13.9.4)\n",
            "Requirement already satisfied: jsonschema>=4.19.0 in /usr/local/lib/python3.11/dist-packages (from chromadb) (4.24.0)\n",
            "Requirement already satisfied: packaging>=19.1 in /usr/local/lib/python3.11/dist-packages (from build>=1.0.3->chromadb) (23.2)\n",
            "Requirement already satisfied: pyproject_hooks in /usr/local/lib/python3.11/dist-packages (from build>=1.0.3->chromadb) (1.2.0)\n",
            "Requirement already satisfied: anyio in /usr/local/lib/python3.11/dist-packages (from httpx>=0.27.0->chromadb) (4.9.0)\n",
            "Requirement already satisfied: certifi in /usr/local/lib/python3.11/dist-packages (from httpx>=0.27.0->chromadb) (2025.6.15)\n",
            "Requirement already satisfied: httpcore==1.* in /usr/local/lib/python3.11/dist-packages (from httpx>=0.27.0->chromadb) (1.0.9)\n",
            "Requirement already satisfied: idna in /usr/local/lib/python3.11/dist-packages (from httpx>=0.27.0->chromadb) (3.10)\n",
            "Requirement already satisfied: h11>=0.16 in /usr/local/lib/python3.11/dist-packages (from httpcore==1.*->httpx>=0.27.0->chromadb) (0.16.0)\n",
            "Requirement already satisfied: attrs>=22.2.0 in /usr/local/lib/python3.11/dist-packages (from jsonschema>=4.19.0->chromadb) (25.3.0)\n",
            "Requirement already satisfied: jsonschema-specifications>=2023.03.6 in /usr/local/lib/python3.11/dist-packages (from jsonschema>=4.19.0->chromadb) (2025.4.1)\n",
            "Requirement already satisfied: referencing>=0.28.4 in /usr/local/lib/python3.11/dist-packages (from jsonschema>=4.19.0->chromadb) (0.36.2)\n",
            "Requirement already satisfied: rpds-py>=0.7.1 in /usr/local/lib/python3.11/dist-packages (from jsonschema>=4.19.0->chromadb) (0.25.1)\n",
            "Requirement already satisfied: six>=1.9.0 in /usr/local/lib/python3.11/dist-packages (from kubernetes>=28.1.0->chromadb) (1.17.0)\n",
            "Requirement already satisfied: python-dateutil>=2.5.3 in /usr/local/lib/python3.11/dist-packages (from kubernetes>=28.1.0->chromadb) (2.9.0.post0)\n",
            "Requirement already satisfied: google-auth>=1.0.1 in /usr/local/lib/python3.11/dist-packages (from kubernetes>=28.1.0->chromadb) (2.38.0)\n",
            "Requirement already satisfied: websocket-client!=0.40.0,!=0.41.*,!=0.42.*,>=0.32.0 in /usr/local/lib/python3.11/dist-packages (from kubernetes>=28.1.0->chromadb) (1.8.0)\n",
            "Requirement already satisfied: requests in /usr/local/lib/python3.11/dist-packages (from kubernetes>=28.1.0->chromadb) (2.32.3)\n",
            "Requirement already satisfied: requests-oauthlib in /usr/local/lib/python3.11/dist-packages (from kubernetes>=28.1.0->chromadb) (2.0.0)\n",
            "Requirement already satisfied: oauthlib>=3.2.2 in /usr/local/lib/python3.11/dist-packages (from kubernetes>=28.1.0->chromadb) (3.2.2)\n",
            "Requirement already satisfied: urllib3>=1.24.2 in /usr/local/lib/python3.11/dist-packages (from kubernetes>=28.1.0->chromadb) (2.4.0)\n",
            "Requirement already satisfied: durationpy>=0.7 in /usr/local/lib/python3.11/dist-packages (from kubernetes>=28.1.0->chromadb) (0.10)\n",
            "Requirement already satisfied: coloredlogs in /usr/local/lib/python3.11/dist-packages (from onnxruntime>=1.14.1->chromadb) (15.0.1)\n",
            "Requirement already satisfied: flatbuffers in /usr/local/lib/python3.11/dist-packages (from onnxruntime>=1.14.1->chromadb) (25.2.10)\n",
            "Requirement already satisfied: protobuf in /usr/local/lib/python3.11/dist-packages (from onnxruntime>=1.14.1->chromadb) (5.29.5)\n",
            "Requirement already satisfied: sympy in /usr/local/lib/python3.11/dist-packages (from onnxruntime>=1.14.1->chromadb) (1.13.1)\n",
            "Requirement already satisfied: importlib-metadata<8.8.0,>=6.0 in /usr/local/lib/python3.11/dist-packages (from opentelemetry-api>=1.2.0->chromadb) (8.7.0)\n",
            "Requirement already satisfied: googleapis-common-protos~=1.52 in /usr/local/lib/python3.11/dist-packages (from opentelemetry-exporter-otlp-proto-grpc>=1.2.0->chromadb) (1.70.0)\n",
            "Requirement already satisfied: opentelemetry-exporter-otlp-proto-common==1.34.1 in /usr/local/lib/python3.11/dist-packages (from opentelemetry-exporter-otlp-proto-grpc>=1.2.0->chromadb) (1.34.1)\n",
            "Requirement already satisfied: opentelemetry-proto==1.34.1 in /usr/local/lib/python3.11/dist-packages (from opentelemetry-exporter-otlp-proto-grpc>=1.2.0->chromadb) (1.34.1)\n",
            "Requirement already satisfied: opentelemetry-semantic-conventions==0.55b1 in /usr/local/lib/python3.11/dist-packages (from opentelemetry-sdk>=1.2.0->chromadb) (0.55b1)\n",
            "Requirement already satisfied: backoff>=1.10.0 in /usr/local/lib/python3.11/dist-packages (from posthog>=2.4.0->chromadb) (2.2.1)\n",
            "Requirement already satisfied: distro>=1.5.0 in /usr/local/lib/python3.11/dist-packages (from posthog>=2.4.0->chromadb) (1.9.0)\n",
            "Requirement already satisfied: annotated-types>=0.6.0 in /usr/local/lib/python3.11/dist-packages (from pydantic>=1.9->chromadb) (0.7.0)\n",
            "Requirement already satisfied: pydantic-core==2.33.2 in /usr/local/lib/python3.11/dist-packages (from pydantic>=1.9->chromadb) (2.33.2)\n",
            "Requirement already satisfied: typing-inspection>=0.4.0 in /usr/local/lib/python3.11/dist-packages (from pydantic>=1.9->chromadb) (0.4.1)\n",
            "Requirement already satisfied: markdown-it-py>=2.2.0 in /usr/local/lib/python3.11/dist-packages (from rich>=10.11.0->chromadb) (3.0.0)\n",
            "Requirement already satisfied: pygments<3.0.0,>=2.13.0 in /usr/local/lib/python3.11/dist-packages (from rich>=10.11.0->chromadb) (2.19.1)\n",
            "Requirement already satisfied: huggingface-hub<1.0,>=0.16.4 in /usr/local/lib/python3.11/dist-packages (from tokenizers>=0.13.2->chromadb) (0.23.2)\n",
            "Requirement already satisfied: click>=8.0.0 in /usr/local/lib/python3.11/dist-packages (from typer>=0.9.0->chromadb) (8.2.1)\n",
            "Requirement already satisfied: shellingham>=1.3.0 in /usr/local/lib/python3.11/dist-packages (from typer>=0.9.0->chromadb) (1.5.4)\n",
            "Requirement already satisfied: httptools>=0.6.3 in /usr/local/lib/python3.11/dist-packages (from uvicorn[standard]>=0.18.3->chromadb) (0.6.4)\n",
            "Requirement already satisfied: python-dotenv>=0.13 in /usr/local/lib/python3.11/dist-packages (from uvicorn[standard]>=0.18.3->chromadb) (1.1.0)\n",
            "Requirement already satisfied: uvloop>=0.15.1 in /usr/local/lib/python3.11/dist-packages (from uvicorn[standard]>=0.18.3->chromadb) (0.21.0)\n",
            "Requirement already satisfied: watchfiles>=0.13 in /usr/local/lib/python3.11/dist-packages (from uvicorn[standard]>=0.18.3->chromadb) (1.1.0)\n",
            "Requirement already satisfied: websockets>=10.4 in /usr/local/lib/python3.11/dist-packages (from uvicorn[standard]>=0.18.3->chromadb) (15.0.1)\n",
            "Requirement already satisfied: cachetools<6.0,>=2.0.0 in /usr/local/lib/python3.11/dist-packages (from google-auth>=1.0.1->kubernetes>=28.1.0->chromadb) (5.5.2)\n",
            "Requirement already satisfied: pyasn1-modules>=0.2.1 in /usr/local/lib/python3.11/dist-packages (from google-auth>=1.0.1->kubernetes>=28.1.0->chromadb) (0.4.2)\n",
            "Requirement already satisfied: rsa<5,>=3.1.4 in /usr/local/lib/python3.11/dist-packages (from google-auth>=1.0.1->kubernetes>=28.1.0->chromadb) (4.9.1)\n",
            "Requirement already satisfied: filelock in /usr/local/lib/python3.11/dist-packages (from huggingface-hub<1.0,>=0.16.4->tokenizers>=0.13.2->chromadb) (3.18.0)\n",
            "Requirement already satisfied: fsspec>=2023.5.0 in /usr/local/lib/python3.11/dist-packages (from huggingface-hub<1.0,>=0.16.4->tokenizers>=0.13.2->chromadb) (2025.3.2)\n",
            "Requirement already satisfied: zipp>=3.20 in /usr/local/lib/python3.11/dist-packages (from importlib-metadata<8.8.0,>=6.0->opentelemetry-api>=1.2.0->chromadb) (3.23.0)\n",
            "Requirement already satisfied: mdurl~=0.1 in /usr/local/lib/python3.11/dist-packages (from markdown-it-py>=2.2.0->rich>=10.11.0->chromadb) (0.1.2)\n",
            "Requirement already satisfied: charset-normalizer<4,>=2 in /usr/local/lib/python3.11/dist-packages (from requests->kubernetes>=28.1.0->chromadb) (3.4.2)\n",
            "Requirement already satisfied: sniffio>=1.1 in /usr/local/lib/python3.11/dist-packages (from anyio->httpx>=0.27.0->chromadb) (1.3.1)\n",
            "Requirement already satisfied: humanfriendly>=9.1 in /usr/local/lib/python3.11/dist-packages (from coloredlogs->onnxruntime>=1.14.1->chromadb) (10.0)\n",
            "Requirement already satisfied: mpmath<1.4,>=1.1.0 in /usr/local/lib/python3.11/dist-packages (from sympy->onnxruntime>=1.14.1->chromadb) (1.3.0)\n",
            "Requirement already satisfied: pyasn1<0.7.0,>=0.6.1 in /usr/local/lib/python3.11/dist-packages (from pyasn1-modules>=0.2.1->google-auth>=1.0.1->kubernetes>=28.1.0->chromadb) (0.6.1)\n",
            "\n",
            "Creating vector store. This might take a while...\n",
            "Adding batch 1 of 2...\n",
            "Adding batch 2 of 2...\n",
            "Vector store created and persisted in 'medical_db_merck'.\n"
          ]
        }
      ]
    },
    {
      "cell_type": "code",
      "source": [
        "# In future sessions, to save time, you can load the existing database instead of rebuilding it.\n",
        "  # To do this, you would comment out the Chroma.from_documents line in the previous cell and uncomment the line below:\n",
        "# vectorstore = Chroma(persist_directory=out_dir, embedding_function=embedding_model)\n",
        "\n",
        "# Test a similarity search to verify the vector store is working.\n",
        "test_query_for_vectorstore = \"symptoms of fever\"\n",
        "print(f\"\\nTesting similarity search for: '{test_query_for_vectorstore}'\")\n",
        "\n",
        "searched_docs = vectorstore.similarity_search(test_query_for_vectorstore, k=2) # Get top 2 similar docs\n",
        "\n",
        "for i, doc in enumerate(searched_docs):\n",
        "    print(f\"--- Similar Doc {i+1} (Page: {doc.metadata.get('page', 'N/A')}) ---\") # Chroma uses 'page' in metadata\n",
        "    print(doc.page_content[:300] + \"...\")"
      ],
      "metadata": {
        "colab": {
          "base_uri": "https://localhost:8080/"
        },
        "id": "tQ-vGPxE_OFJ",
        "outputId": "20461e15-dce6-4d56-9299-f6aa757ae0a1"
      },
      "execution_count": null,
      "outputs": [
        {
          "output_type": "stream",
          "name": "stdout",
          "text": [
            "\n",
            "Testing similarity search for: 'symptoms of fever'\n",
            "--- Similar Doc 1 (Page: 1296) ---\n",
            "• Identifying any localizing symptoms (eg, headache, cough): These symptoms help narrow the range of\n",
            "possible causes. The localizing symptom may be part of the patient's chief complaint or identified only\n",
            "by specific questioning.\n",
            "• Determining whether the patient is seriously or chronically ill (par...\n",
            "--- Similar Doc 2 (Page: 2896) ---\n",
            "Fever plays an integral role in fighting infection and, although it is uncomfortable, does not necessitate\n",
            "treatment in an otherwise healthy child. Some studies even indicate that lowering the temperature can\n",
            "prolong some illnesses. However, fever increases the metabolic rate and the demands on the\n",
            "...\n"
          ]
        }
      ]
    },
    {
      "cell_type": "markdown",
      "source": [
        "Observations:\n",
        "\n",
        "We see the similarity search working by finding similarity of symptoms of fever."
      ],
      "metadata": {
        "id": "T8NG-u6tN_X_"
      }
    },
    {
      "cell_type": "markdown",
      "metadata": {
        "id": "uEa5sKc41T1z"
      },
      "source": [
        "### Retriever"
      ]
    },
    {
      "cell_type": "markdown",
      "source": [
        "The vectorstore we created can perform similarity searches. We wrap it in a Langchain retriever object, which is the standard way to fetch relevant documents for a RAG chain."
      ],
      "metadata": {
        "id": "5BN2imqrgUL6"
      }
    },
    {
      "cell_type": "code",
      "source": [
        "# Create a retriever from the vector store\n",
        "retriever = vectorstore.as_retriever(\n",
        "    search_type='similarity', # We want to find chunks similar to the query.\n",
        "    search_kwargs={'k': 3}    # This sets the number of relevant chunks to fetch to 3.\n",
        ")"
      ],
      "metadata": {
        "id": "wBlQUGx3RWUD"
      },
      "execution_count": null,
      "outputs": []
    },
    {
      "cell_type": "code",
      "source": [
        "# Test the retriever\n",
        "test_query_for_retriever = \"treatment for high blood pressure\"\n",
        "print(f\"\\nTesting retriever for: '{test_query_for_retriever}'\")\n",
        "relevant_docs = retriever.get_relevant_documents(test_query_for_retriever)\n",
        "\n",
        "print(f\"\\nRetrieved {len(relevant_docs)} documents:\")\n",
        "for i, doc in enumerate(relevant_docs):\n",
        "    print(f\"--- Relevant Doc {i+1} (Page: {doc.metadata.get('page', 'N/A')}) ---\")\n",
        "    print(doc.page_content[:300] + \"...\")"
      ],
      "metadata": {
        "id": "t14bZSxNg2bQ",
        "colab": {
          "base_uri": "https://localhost:8080/"
        },
        "outputId": "dd9b7e12-02e7-4566-a2e9-d17278175e81"
      },
      "execution_count": null,
      "outputs": [
        {
          "output_type": "stream",
          "name": "stdout",
          "text": [
            "\n",
            "Testing retriever for: 'treatment for high blood pressure'\n",
            "\n",
            "Retrieved 3 documents:\n",
            "--- Relevant Doc 1 (Page: 2590) ---\n",
            "usually < 1 g/day (it is occasionally higher and in the nephrotic range).\n",
            "Ultrasonography is done only if other causes of renal failure must be excluded. It may show that kidney\n",
            "size is reduced. Renal biopsy is done only if the diagnosis remains unclear.\n",
            "Prognosis\n",
            "Prognosis usually depends on adequa...\n",
            "--- Relevant Doc 2 (Page: 2230) ---\n",
            "Chapter 208. Arterial Hypertension\n",
            "Introduction\n",
            "Hypertension is sustained elevation of resting systolic BP (≥ 140 mm Hg), diastolic BP (≥ 90 mm\n",
            "Hg), or both. Hypertension with no known cause (primary; formerly, essential hypertension) is\n",
            "most common. Hypertension with an identified cause (secondary ...\n",
            "--- Relevant Doc 3 (Page: 2268) ---\n",
            "needed, is highly effective but can depress respiration, can reduce myocardial contractility, and is a\n",
            "potent venous vasodilator. Hypotension and bradycardia secondary to morphine can usually be overcome\n",
            "by prompt elevation of the lower extremities. Nitroglycerin is initially given sublingually, fol...\n"
          ]
        }
      ]
    },
    {
      "cell_type": "markdown",
      "source": [
        "The retriever has identified and retrieved three documents specific to high blood pressure:\n",
        "* Page 2590- Detection techniques\n",
        "* Page 2230- Arterial Hypertension.\n",
        "* Page 2268- Side-effects and the negation of side-effects"
      ],
      "metadata": {
        "id": "hrZTBBBiOmUE"
      }
    },
    {
      "cell_type": "markdown",
      "metadata": {
        "id": "vw8qcwq66B0C",
        "nteract": {
          "transient": {
            "deleting": false
          }
        }
      },
      "source": [
        "### System and User Prompt Template"
      ]
    },
    {
      "cell_type": "markdown",
      "source": [
        "Now we combine the retriever (which fetches relevant info from our PDF) with the LLM (which generates answers)\n",
        "\n",
        "This is the advanced prompt that uses XML tags, rules, and a one-shot example to guide the LLM's behavior more precisely.\n",
        "\n",
        "### Why This Prompt Is Effective:\n",
        "\n",
        "This optimized system prompt is designed to be much clearer and more forceful for the AI model. It incorporates several modern prompt engineering techniques to improve the reliability, accuracy, and formatting of the RAG system's responses.\n",
        "\n",
        "* **Structure (`<tags>`):** The XML-style tags help the model parse the instructions more effectively. This clearly separates the AI's persona, its rules, the required process, and helpful examples, reducing ambiguity.\n",
        "\n",
        "* **Clarity and Forcefulness (MUST):** Using strong, direct imperatives like \"MUST\" reduces the chance of the model deviating from critical instructions, especially the rules about using only the provided context and citing sources.\n",
        "\n",
        "* **Step-by-Step Process:** Outlining a clear, logical process encourages better internal reasoning from the model. It guides the AI to first analyze the question, then scrutinize the context, and finally synthesize the answer, ensuring all constraints are applied correctly.\n",
        "\n",
        "* **Embedded Example (One-Shot Learning):** The `<example>` block is the most significant enhancement. It provides a perfect demonstration of the desired output, including the exact citation format (`[Page: X]`) and professional tone. Showing the model what to do is far more effective than just describing it.\n",
        "\n",
        "* **Specificity:** The prompt is more specific about how to handle missing information (by stating an exact phrase) and the precise format for citations, leaving less room for misinterpretation by the model."
      ],
      "metadata": {
        "id": "3mg2-Qw2lPKL"
      }
    },
    {
      "cell_type": "code",
      "source": [
        "# System prompt for the RAG chain. This is the master set of instructions.\n",
        "qna_system_message = \"\"\"\n",
        "<instructions>\n",
        "  <persona>\n",
        "    You are an expert medical AI assistant. Your purpose is to provide accurate, concise answers based on the provided medical text.\n",
        "  </persona>\n",
        "\n",
        "  <rules>\n",
        "    1.  **Exclusive Context:** You MUST answer the question based exclusively on the information within the provided `<context>`. Do not use any external knowledge.\n",
        "    2.  **No Answer if Not in Context:** If the information required to answer the question is not in the `<context>`, you MUST respond with \"The provided context does not contain the information needed to answer this question.\" Do not attempt to guess.\n",
        "    3.  **Mandatory Citation:** For every piece of information you extract from the context, you MUST cite its source page number. The page number is provided at the start of each context chunk (e.g., 'Source Page: X').\n",
        "    4.  **Citation Format:** Citations must be in the format `[Page: X]` and placed immediately after the sentence or clause they support.\n",
        "    5.  **Conciseness:** Provide a direct answer to the question without unnecessary conversational fluff.\n",
        "  </rules>\n",
        "\n",
        "  <process>\n",
        "    Follow these steps to generate your answer:\n",
        "    Step 1: Carefully read and understand the user's `<question>`.\n",
        "    Step 2: Thoroughly analyze the `<context>` to locate all relevant information that can help answer the question.\n",
        "    Step 3: Synthesize the located information into a direct and professional answer.\n",
        "    Step 4: As you write the answer, ensure every claim from the context is followed by its correct citation as defined in the rules.\n",
        "  </process>\n",
        "</instructions>\n",
        "\"\"\""
      ],
      "metadata": {
        "id": "G6169DWMMMHY"
      },
      "execution_count": null,
      "outputs": []
    },
    {
      "cell_type": "markdown",
      "source": [
        "Using this advanced system prompt, you no longer need a separate qna_user_message_template variable. The logic for the user's part of the prompt will be handled directly inside our response function."
      ],
      "metadata": {
        "id": "zuHVPWcJU-1z"
      }
    },
    {
      "cell_type": "markdown",
      "metadata": {
        "id": "TkIteX4m6mny"
      },
      "source": [
        "### Response Function"
      ]
    },
    {
      "cell_type": "markdown",
      "source": [
        "Function that orchestrates the RAG process:\n",
        "\n",
        "1. Take a user's question.\n",
        "2. Use the retriever to get relevant document chunks from our Merck Manuals vector database.\n",
        "3. Combine these chunks into a single context_for_query.\n",
        "4. Use the qna_system_message and qna_user_message_template to build the final prompt for the LLM.\n",
        "5. Get the answer from the LLM."
      ],
      "metadata": {
        "id": "oSI7WLjD8YJR"
      }
    },
    {
      "cell_type": "code",
      "source": [
        "# This is the function that orchestrates the entire RAG process.\n",
        "def generate_rag_response(query: str, vectorstore, llm, system_prompt: str, k: int = 5) -> str:\n",
        "    \"\"\"\n",
        "    Generates a RAG response, aligning with the new structured system prompt.\n",
        "    \"\"\"\n",
        "    # 1. Retrieve relevant context from the vector store\n",
        "    similar_chunks = vectorstore.similarity_search(query, k=k)\n",
        "\n",
        "    # 2. Format the retrieved context with page numbers\n",
        "    formatted_context = \"\\n\\n\".join(\n",
        "        [f\"Source Page: {chunk.metadata.get('page', 'N/A')}\\n{chunk.page_content}\" for chunk in similar_chunks]\n",
        "    )\n",
        "\n",
        "    # 3. Dynamically create the user's part of the prompt\n",
        "    user_part = f\"\"\"\n",
        "<context>\n",
        "{formatted_context}\n",
        "</context>\n",
        "<question>\n",
        "{query}\n",
        "</question>\n",
        "<answer>\n",
        "\"\"\"\n",
        "    # 4. Combine the system instructions and the user part into a final prompt\n",
        "    final_prompt = f\"[INST] {system_prompt} [/INST]\\n[INST] {user_part} [/INST]\"\n",
        "\n",
        "    # 5. Call the LLM to generate the final answer\n",
        "    output = llm(\n",
        "        prompt=final_prompt,\n",
        "        max_tokens=512,\n",
        "        temperature=0.0,\n",
        "        stop=[\"</answer>\"] # Important: tells the model when to stop\n",
        "    )\n",
        "\n",
        "    # 6. Return the generated text\n",
        "    return output['choices'][0]['text'].strip()"
      ],
      "metadata": {
        "id": "MrtlEVibVMa_"
      },
      "execution_count": null,
      "outputs": []
    },
    {
      "cell_type": "markdown",
      "source": [
        "## Question Answering using RAG"
      ],
      "metadata": {
        "id": "ffP1SRYbPQHN"
      }
    },
    {
      "cell_type": "markdown",
      "source": [
        "Test our full RAG system again.\n",
        "\n",
        "Trying our 5 questions, this time with the RAG system.  \n",
        "\n",
        "We'll also fine-tune some parameters."
      ],
      "metadata": {
        "id": "H7GKXqqXCVWL"
      }
    },
    {
      "cell_type": "markdown",
      "metadata": {
        "id": "JjajBEj06B0E"
      },
      "source": [
        "### Query 1: What is the protocol for managing sepsis in a critical care unit?"
      ]
    },
    {
      "cell_type": "code",
      "source": [
        "user_input_1 = \"What is the protocol for managing sepsis in a critical care unit?\"\n",
        "rag_answer_1_c1 = generate_rag_response(user_input_1, vectorstore, llm, qna_system_message, k=5)\n",
        "print(f\"Query 1 (RAG Combo 1, k=3): {user_input_1}\")\n",
        "print(f\"RAG Answer 1 (Combo 1):\\n{rag_answer_1_c1}\")"
      ],
      "metadata": {
        "id": "Nlo9sMpPRbTP",
        "colab": {
          "base_uri": "https://localhost:8080/"
        },
        "outputId": "12b10495-ff33-4bbb-9314-edee82a27450"
      },
      "execution_count": null,
      "outputs": [
        {
          "output_type": "stream",
          "name": "stderr",
          "text": [
            "Llama.generate: prefix-match hit\n"
          ]
        },
        {
          "output_type": "stream",
          "name": "stdout",
          "text": [
            "Query 1 (RAG Combo 1, k=3): What is the protocol for managing sepsis in a critical care unit?\n",
            "RAG Answer 1 (Combo 1):\n",
            "The protocol for managing sepsis in a critical care unit involves rapid empiric antibiotic therapy, general supportive measures, and later adjusting antibiotics according to sensitivities and the site of infection. If bacterial cultures show no growth by 48 hours and the neonate appears well, antibiotics are stopped [Page: 1182]. General supportive measures include respiratory and hemodynamic management [Page: 1182]. Antibiotic selection requires an educated guess based on the suspected source, clinical setting, knowledge or suspicion of causative organisms and of sensitivity patterns common to that specific inpatient unit, and previous culture results [Page: 2456]. Commonly used antibiotics include gentamicin or tobramycin plus a third-generation cephalosporin (cefotaxime or ceftriaxone), ceftazidime plus a fluoroquinolone, or monotherapy with maximal therapeutic doses of ceftazidime or imipenem [Page: 2456]. Vancomycin must be added if resistant staphylococci or enterococci are suspected, and a drug effective against anaerobes should be included if there is an abdominal source [Page: 1182]. Abscesses must be drained, and necrotic tissues must be surgically excised to eliminate septic foci [Page: 1182]. Normalization of blood glucose improves outcome in critically ill patients, even those not known to be diabetic, by maintaining it between 80 to 110 mg/dL (4.4 to 6.1 mmol/L) with a continuous IV insulin infusion [Page: 2995].\n"
          ]
        }
      ]
    },
    {
      "cell_type": "markdown",
      "source": [
        "Observations:\n",
        "\n",
        "The RAG-generated answer is highly specific and clinical. It correctly identifies key interventions like, rapid empiric antibiotic therapy and general supportive measures, including respiratory and hemodynamic management, etc. including reference page numbers for verification.  \n",
        "\n",
        "This is a significant improvement over the generalized answers from the base LLM, providing actionable, source-based information.\n",
        "\n",
        "\n"
      ],
      "metadata": {
        "id": "2Be8beouC6zQ"
      }
    },
    {
      "cell_type": "markdown",
      "metadata": {
        "id": "QDw8zXuq6B0F"
      },
      "source": [
        "### Query 2: What are the common symptoms for appendicitis, and can it be cured via medicine? If not, what surgical procedure should be followed to treat it?"
      ]
    },
    {
      "cell_type": "code",
      "source": [
        "user_input_2 = \"What are the common symptoms for appendicitis, and can it be cured via medicine? If not, what surgical procedure should be followed to treat it?\"\n",
        "rag_answer_2_c2 = generate_rag_response(user_input_2, vectorstore, llm, qna_system_message, k=6)\n",
        "print(f\"\\nQuery 2 (RAG Combo 2, k=3): {user_input_2}\")\n",
        "print(f\"RAG Answer 2 (Combo 2):\\n{rag_answer_2_c2}\")"
      ],
      "metadata": {
        "id": "PVReF4G8RbzR",
        "colab": {
          "base_uri": "https://localhost:8080/"
        },
        "outputId": "72d30402-4273-460d-8a13-efcaeaa6ca11"
      },
      "execution_count": null,
      "outputs": [
        {
          "output_type": "stream",
          "name": "stderr",
          "text": [
            "Llama.generate: prefix-match hit\n"
          ]
        },
        {
          "output_type": "stream",
          "name": "stdout",
          "text": [
            "\n",
            "Query 2 (RAG Combo 2, k=3): What are the common symptoms for appendicitis, and can it be cured via medicine? If not, what surgical procedure should be followed to treat it?\n",
            "RAG Answer 2 (Combo 2):\n",
            "The common symptoms of appendicitis include epigastric or periumbilical pain followed by brief nausea, vomiting, and anorexia; shifting pain to the right lower quadrant that increases with cough and motion; direct and rebound tenderness at McBurney's point; and additional signs like Rovsing sign, psoas sign, or obturator sign [Page: 173]. Low-grade fever is also common. However, these classic findings appear in less than 50% of patients, and symptoms may vary, especially among infants, children, elderly patients, and pregnant women [Page: 173].\n",
            "\n",
            "Appendicitis cannot be cured via medicine alone; surgical removal is the standard treatment [Page: 164]. Open or laparoscopic appendectomy is performed, with antibiotics administered before surgery to reduce infection risk. If the appendix is perforated, antibiotics should be continued until the patient's temperature and WBC count have normalized [Page: 174]. In cases where a large inflammatory mass is found involving the appendix, terminal ileum, and cecum, resection of the entire mass and ileocolostomy may be necessary [Page: 174]. Hernias of the abdominal wall are treated through elective surgical repair [Page: 3567].\n"
          ]
        }
      ]
    },
    {
      "cell_type": "markdown",
      "source": [
        "Observations:\n",
        "\n",
        "The model correctly states that symptoms include epigastric pain followed by nausea and vomiting, and that surgical removal is the standard treatment. The answer also includes important and specific clinical nuances and source page numbers for quick verification. This kind of specific, statistical detail is only possible through RAG and is invaluable in a health care setting.\n",
        "\n",
        "\n",
        "\n",
        "\n"
      ],
      "metadata": {
        "id": "KDKi6bC7DN1T"
      }
    },
    {
      "cell_type": "markdown",
      "metadata": {
        "id": "TggYyQPL6B0G"
      },
      "source": [
        "### Query 3: What are the effective treatments or solutions for addressing sudden patchy hair loss, commonly seen as localized bald spots on the scalp, and what could be the possible causes behind it?"
      ]
    },
    {
      "cell_type": "code",
      "source": [
        "user_input_3 = \"What are the effective treatments or solutions for addressing sudden patchy hair loss, commonly seen as localized bald spots on the scalp, and what could be the possible causes behind it?\"\n",
        "rag_answer_3_c3 = generate_rag_response(user_input_3, vectorstore, llm, qna_system_message, k=3)\n",
        "print(f\"\\nQuery 3 (RAG Combo 3, k=3): {user_input_3}\")\n",
        "print(f\"RAG Answer 3 (Combo 3):\\n{rag_answer_3_c3}\")"
      ],
      "metadata": {
        "id": "0aRbadGtRcX0",
        "colab": {
          "base_uri": "https://localhost:8080/"
        },
        "outputId": "f71598cc-0bab-433f-b8fb-7ddd928fc987"
      },
      "execution_count": null,
      "outputs": [
        {
          "output_type": "stream",
          "name": "stderr",
          "text": [
            "Llama.generate: prefix-match hit\n"
          ]
        },
        {
          "output_type": "stream",
          "name": "stdout",
          "text": [
            "\n",
            "Query 3 (RAG Combo 3, k=3): What are the effective treatments or solutions for addressing sudden patchy hair loss, commonly seen as localized bald spots on the scalp, and what could be the possible causes behind it?\n",
            "RAG Answer 3 (Combo 3):\n",
            "Sudden patchy hair loss, also known as alopecia areata, is a common autoimmune disorder that affects genetically susceptible individuals exposed to unclear environmental triggers [1:858]. The scalp and beard are most frequently affected areas, but any hairy part of the body may be involved [1:849].\n",
            "\n",
            "The treatment options for alopecia areata include:\n",
            "\n",
            "1. Topical corticosteroids: These medications can stimulate hair growth and help reduce inflammation in the follicles [1:858].\n",
            "2. Minoxidil (topical): This medication can promote hair regrowth by increasing blood flow to the affected area [1:858].\n",
            "3. Immunotherapy: Diphencyprone or squaric acid dibutylester can be used for severe cases of alopecia areata [1:858].\n",
            "4. Oral antimalarials, corticosteroids, retinoids, or immunosuppressants may be prescribed for lichen planopilaris and chronic cutaneous lupus lesions [1:858].\n",
            "5. Hormonal modulators such as oral contraceptives or spironolactone can be useful for female-pattern hair loss associated with hyperandrogenemia [1:855].\n",
            "6. Surgical options like follicle transplant, scalp flaps, and alopecia reduction are available but have limited scientific scrutiny [1:858].\n",
            "\n",
            "The possible causes of sudden patchy hair loss include autoimmune disorders, infections, or drugs (including chemotherapeutic agents) [1:855]. A thorough evaluation is necessary to determine the underlying cause. Microscopic hair examination or scalp biopsy may be required for definitive diagnosis [1:860].\n",
            "\n",
            "[1:849, 855, 858]\n"
          ]
        }
      ]
    },
    {
      "cell_type": "markdown",
      "source": [
        "Observations:\n",
        "\n",
        "The response provides a well-structured list of treatments for alopecia areata, identifying topical corticosteroids, minoxidil, and immunotherapy as options. It also successfully synthesizes information about other potential causes like infections and drugs from different retrieved chunks, demonstrating the model's ability to consolidate related facts. Citing in the format [1:858] Document 1, page 858.\n",
        "\n",
        "This output demonstrates that the RAG process is working correctly—the model is not inventing information but is grounding its answer in a specific page of the provided context. However, while it understood the instruction to cite the source, it deviated slightly from the exact [Page: X] format requested in the prompt. This is a common behavior in LLMs and highlights the nuances of prompt engineering.\n"
      ],
      "metadata": {
        "id": "yg1PZltCDgoI"
      }
    },
    {
      "cell_type": "markdown",
      "metadata": {
        "id": "1TgxdI-_6B0G"
      },
      "source": [
        "### Query 4:  What treatments are recommended for a person who has sustained a physical injury to brain tissue, resulting in temporary or permanent impairment of brain function?"
      ]
    },
    {
      "cell_type": "code",
      "source": [
        "user_input_4 = \"What treatments are recommended for a person who has sustained a physical injury to brain tissue, resulting in temporary or permanent impairment of brain function?\"\n",
        "rag_answer_4_c4 = generate_rag_response(user_input_4, vectorstore, llm, qna_system_message, k=4)\n",
        "print(f\"\\nQuery 4 (RAG Combo 4, k=4): {user_input_4}\")\n",
        "print(f\"RAG Answer 4 (Combo 4):\\n{rag_answer_4_c4}\")"
      ],
      "metadata": {
        "id": "0vzRX1TcRc29",
        "colab": {
          "base_uri": "https://localhost:8080/"
        },
        "outputId": "de2c6f79-975a-4c60-b058-2209165f891a"
      },
      "execution_count": null,
      "outputs": [
        {
          "output_type": "stream",
          "name": "stderr",
          "text": [
            "Llama.generate: prefix-match hit\n"
          ]
        },
        {
          "output_type": "stream",
          "name": "stdout",
          "text": [
            "\n",
            "Query 4 (RAG Combo 4, k=4): What treatments are recommended for a person who has sustained a physical injury to brain tissue, resulting in temporary or permanent impairment of brain function?\n",
            "RAG Answer 4 (Combo 4):\n",
            "For a person with a brain injury resulting in temporary or permanent impairment of brain function, early intervention by rehabilitation specialists is crucial for maximal functional recovery [Page: 3647]. Rehabilitation includes prevention of secondary disabilities such as pressure ulcers and joint contractures, prevention of pneumonia, and family education [Page: 3647]. For severe cognitive dysfunction, extensive cognitive therapy is often begun immediately after injury and continued for months or years [Page: 3647]. The specific rehabilitation therapy varies depending on the patient's abnormalities and the level and extent of the injury [Page: 325]. Supportive care is essential, including preventing systemic complications due to immobilization, providing good nutrition, and preventing pressure ulcers [Page: 1833]. For patients in a persistent vegetative state, recovery from a vegetative state is unlikely after 1 month if brain damage is nontraumatic and after 12 months if traumatic [Page: 1842]. Treatment focuses on supportive care to prevent complications.\n"
          ]
        }
      ]
    },
    {
      "cell_type": "markdown",
      "source": [
        "Observations:\n",
        "\n",
        "The model provides a concise and accurate answer stating that \"early intervention by rehabilitation specialists\" is recommended. The brevity of the answer suggests that while the retrieved context contained this specific piece of information, it may not have held extensive details about other treatment modalities, and the model correctly limited its response to only what was provided.\n",
        "\n",
        "Again, the pages are cited as explictly prompted in our system prompt. This time the output of the page numbers are in the expected format.\n",
        "\n"
      ],
      "metadata": {
        "id": "xSUGhHMpDzyX"
      }
    },
    {
      "cell_type": "markdown",
      "metadata": {
        "id": "FlHXYCkm6B0H"
      },
      "source": [
        "### Query 5: What are the necessary precautions and treatment steps for a person who has fractured their leg during a hiking trip, and what should be considered for their care and recovery?"
      ]
    },
    {
      "cell_type": "code",
      "source": [
        "user_input_5 = \"What are the necessary precautions and treatment steps for a person who has fractured their leg during a hiking trip, and what should be considered for their care and recovery?\"\n",
        "rag_answer_5_c5 = generate_rag_response(user_input_5, vectorstore, llm, qna_system_message, k=6)\n",
        "print(f\"\\nQuery 5 (RAG Combo 5, k=6): {user_input_5}\")\n",
        "print(f\"RAG Answer 5 (Combo 5):\\n{rag_answer_5_c5}\")"
      ],
      "metadata": {
        "id": "sarpUibcRdhq",
        "colab": {
          "base_uri": "https://localhost:8080/"
        },
        "outputId": "fd60d729-98a7-486d-9aa4-8708ce7ad826"
      },
      "execution_count": null,
      "outputs": [
        {
          "output_type": "stream",
          "name": "stderr",
          "text": [
            "Llama.generate: prefix-match hit\n"
          ]
        },
        {
          "output_type": "stream",
          "name": "stdout",
          "text": [
            "\n",
            "Query 5 (RAG Combo 5, k=6): What are the necessary precautions and treatment steps for a person who has fractured their leg during a hiking trip, and what should be considered for their care and recovery?\n",
            "RAG Answer 5 (Combo 5):\n",
            "For a person who has fractured their leg during a hiking trip, the following precautions and treatment steps are necessary:\n",
            "\n",
            "1. Immediate immobilization of the affected limb by splinting to prevent further injury and decrease pain [Page: 3390]. Pain is typically treated with opioids [Page: 3390].\n",
            "2. Definitive treatment, such as reduction, may be required and usually involves analgesia or sedation [Page: 3390]. Closed reduction is maintained by casting, while open reduction is maintained by various surgical hardware like pins, screws, plates, or external fixators [Page: 3390].\n",
            "3. RICE (rest, ice, compression, elevation) therapy should be applied to soft-tissue injuries for faster healing and pain relief [Page: 3377].\n",
            "4. For patients with a lower-limb prosthesis, maintaining body alignment is crucial, but even with a good fit, skin breakdown can occur due to ongoing changes in the stump's size [Page: 3646]. In such cases, patients should promptly see a healthcare practitioner and a prosthetist for adjustments.\n",
            "5. Rehabilitation is started as soon as possible after hip fracture surgery, focusing on increasing strength and preventing atrophy on the unaffected side [Page: 3646]. Gradual mobilization of the affected limb usually results in full ambulation.\n",
            "6. Patients should avoid activities like prolonged lifting or pushing of heavy items, stooping, reaching, or jumping during ambulation to minimize mechanical stress [Page: 3646].\n",
            "7. Wounds near joints should be immobilized with splints and kept clean and dry to prevent infection and promote healing [Page: 3386].\n",
            "8. Antibiotics may be given as early as possible for infected wounds, and wounds are usually immobilized to minimize movement that could interfere with healing [Page: 3386].\n",
            "9. Patients should wear appropriate orthotic protection or shoes after ulcers have healed to prevent further injury [Page: 1023].\n",
            "10. For patients with diabetes, maintaining acceptable glucose levels is crucial, and they should be evaluated for situational factors that affect glucose control [Page:\n"
          ]
        }
      ]
    },
    {
      "cell_type": "markdown",
      "source": [
        "Observations:\n",
        "\n",
        "This answer is comprehensive and demonstrates the system's strength in synthesizing a protocol from multiple pieces of information citing different page numbers in the output list. The output answer outlines steps from immediate immobilization and RICE therapy to definitive treatment and rehabilitation. It also pulls in related considerations for patients with prostheses or diabetes, showing its ability to connect relevant adjacent topics found in the retrieved context.\n",
        "\n"
      ],
      "metadata": {
        "id": "LqruW1ebE7wk"
      }
    },
    {
      "cell_type": "code",
      "source": [
        "# Store all RAG answers for evaluation\n",
        "rag_answers = {\n",
        "    \"Query 1 (Sepsis)\": rag_answer_1_c1,\n",
        "    \"Query 2 (Appendicitis)\": rag_answer_2_c2,\n",
        "    \"Query 3 (Hair Loss)\": rag_answer_3_c3,\n",
        "    \"Query 4 (Brain Injury)\": rag_answer_4_c4,\n",
        "    \"Query 5 (Leg Fracture)\": rag_answer_5_c5,\n",
        "}\n",
        "user_inputs = {\n",
        "    \"Query 1 (Sepsis)\": user_input_1,\n",
        "    \"Query 2 (Appendicitis)\": user_input_2,\n",
        "    \"Query 3 (Hair Loss)\": user_input_3,\n",
        "    \"Query 4 (Brain Injury)\": user_input_4,\n",
        "    \"Query 5 (Leg Fracture)\": user_input_5,\n",
        "}"
      ],
      "metadata": {
        "id": "YfvQPfs8E3Rv"
      },
      "execution_count": null,
      "outputs": []
    },
    {
      "cell_type": "markdown",
      "source": [
        "### Fine-tuning"
      ],
      "metadata": {
        "id": "K7TYrqycEITB"
      }
    },
    {
      "cell_type": "markdown",
      "source": [
        "\"Fine-tuning\" in a RAG context often refers to optimizing the pipeline's parameters rather than retraining the LLM's weights.\n",
        "\n",
        "One of the most impactful parameters is the chunking strategy. A different chunk_size can change the quality of the context retrieved.\n",
        "\n",
        "Let's test this by using a larger chunk size."
      ],
      "metadata": {
        "id": "Z3DJnlbvYN3L"
      }
    },
    {
      "cell_type": "code",
      "source": [
        "print(\"Demonstrating pipeline tuning with a new chunking strategy...\")\n",
        "\n",
        "# 1. Define a new text splitter with a larger chunk size\n",
        "text_splitter_tuned = RecursiveCharacterTextSplitter.from_tiktoken_encoder(\n",
        "    encoding_name='cl100k_base',\n",
        "    chunk_size=1024, # Increased from 512\n",
        "    chunk_overlap=150  # Increased overlap to maintain context\n",
        ")\n",
        "\n",
        "# 2. Create new document chunks with the new strategy\n",
        "document_chunks_tuned = text_splitter_tuned.split_documents(manual)\n",
        "print(f\"\\nNumber of chunks with tuned strategy: {len(document_chunks_tuned)}\")\n",
        "\n",
        "\n",
        "# 3. Create a new, separate vector store for the tuned chunks\n",
        "out_dir_tuned = 'medical_db_merck_tuned'\n",
        "if not os.path.exists(out_dir_tuned):\n",
        "    os.makedirs(out_dir_tuned)\n",
        "\n",
        "print(f\"\\nCreating a new vector store for the tuned chunks...\")\n",
        "vectorstore_tuned = Chroma.from_documents(\n",
        "    documents=document_chunks_tuned,\n",
        "    embedding=embedding_model,\n",
        "    persist_directory=out_dir_tuned\n",
        ")\n",
        "print(\"Tuned vector store created.\")\n",
        "\n",
        "# 4. Re-run a query using the new \"tuned\" vector store\n",
        "print(\"\\n--- Testing Query 3 with the tuned RAG pipeline (chunk_size=1024) ---\")\n",
        "tuned_answer = generate_rag_response(\n",
        "    user_input_3,\n",
        "    vectorstore_tuned, # Using the new vector store\n",
        "    llm,\n",
        "    qna_system_message,\n",
        "    k=3\n",
        ")\n",
        "print(f\"Tuned RAG Answer:\\n{tuned_answer}\")"
      ],
      "metadata": {
        "id": "7UYBR-hcReSo",
        "colab": {
          "base_uri": "https://localhost:8080/"
        },
        "outputId": "e97304c9-95f8-4a31-a289-a0e5c20d45c6"
      },
      "execution_count": null,
      "outputs": [
        {
          "output_type": "stream",
          "name": "stdout",
          "text": [
            "Demonstrating pipeline tuning with a new chunking strategy...\n",
            "\n",
            "Number of chunks with tuned strategy: 4544\n",
            "\n",
            "Creating a new vector store for the tuned chunks...\n",
            "Tuned vector store created.\n",
            "\n",
            "--- Testing Query 3 with the tuned RAG pipeline (chunk_size=1024) ---\n"
          ]
        },
        {
          "output_type": "stream",
          "name": "stderr",
          "text": [
            "Llama.generate: prefix-match hit\n"
          ]
        },
        {
          "output_type": "stream",
          "name": "stdout",
          "text": [
            "Tuned RAG Answer:\n",
            "The treatment for sudden patchy hair loss, also known as alopecia areata, includes topical or intralesional corticosteroids, topical minoxidil, topical anthralin, topical immunotherapy (diphencyprone or squaric acid dibutylester), or psoralen plus ultraviolet A (PUVA) [Page: 858]. Hormonal modulators such as oral contraceptives or spironolactone may be useful for female-pattern hair loss associated with hyperandrogenemia [Page: 858]. The underlying cause of alopecia areata is believed to be an autoimmune disorder affecting genetically susceptible people exposed to unclear environmental triggers [Page: 858]. Other possible causes of sudden patchy hair loss include infection, drugs (including chemotherapeutic agents), and systemic illnesses [Page: 856]. A thorough evaluation including a history, physical examination, and possibly microscopic hair examination or scalp biopsy may be required for definitive diagnosis [Page: 857-858].\n"
          ]
        }
      ]
    },
    {
      "cell_type": "markdown",
      "source": [
        "Observations:\n",
        "\n",
        "The tuned answer for Query 3 is much more concise than the original RAG answer. By increasing the chunk_size to 1024, each retrieved chunk contains more information. In this case, the retriever was likely able to find a single, highly relevant chunk that summarized the main treatments, leading to a shorter and more focused response.\n",
        "\n",
        "This demonstrates the trade-off: larger chunks can provide more complete context but might sometimes be less specific than smaller, more targeted chunks.\n",
        "\n",
        "The optimal strategy depends on the nature of the document and the types of queries expected.\n",
        "\n"
      ],
      "metadata": {
        "id": "Pt1c3163Yjog"
      }
    },
    {
      "cell_type": "markdown",
      "metadata": {
        "id": "yyQrTipNfuBN"
      },
      "source": [
        "## Output Evaluation"
      ]
    },
    {
      "cell_type": "markdown",
      "source": [
        "We have a responses from our RAG system. But how good are they?\n",
        "\n",
        "To evaluate them, we use an **\"LLM-as-a-judge\"** approach to rate our system's output on specific criteria.\n",
        "\n",
        "We'll focus on two key metrics:\n",
        "\n",
        "* **Groundedness** (or Faithfulness/Accuracy): Does the answer stick to the information provided in the retrieved context? It shouldn't invent facts or use outside knowledge.\n",
        "* **Relevance** (or Answer Relevance): Is the answer relevant to the user's actual question? Does it directly address what they wanted to know?\n",
        "\n",
        "### Defining Evaluation Prompts\n",
        "To perform this evaluation, we need to create prompts that instruct our \"judge\" LLM on how to perform the assessment and score the results."
      ],
      "metadata": {
        "id": "ADIefjo9GKpH"
      }
    },
    {
      "cell_type": "code",
      "source": [
        "# System prompt for the \"Groundedness\" rater\n",
        "groundedness_rater_system_message = \"\"\"You are an expert evaluator. Your task is to assess if the provided 'Answer' is well-grounded in the given 'Context'. The 'Answer' should only contain information that can be directly verified from the 'Context'. It should not add any external information or make assumptions beyond the 'Context'.\n",
        "Score the \"Answer\" on a scale of 1 to 5 for groundedness, where:\n",
        "1: The Answer is mostly not based on the Context or contains significant external information.\n",
        "2: The Answer has some basis in the Context but also includes noticeable external information or assumptions.\n",
        "3: The Answer is generally based on the Context but might have minor unverified details or slight deviations.\n",
        "4. The Answer is well-supported by the Context with only very minor or no external information.\n",
        "5: The Answer is entirely and accurately based on the Context, with no external information or assumptions.\n",
        "\n",
        "Provide your score as a number (e.g., \"Score: 5\") followed by a brief justification for your rating.\"\"\""
      ],
      "metadata": {
        "id": "IHbfLAxAGdhW"
      },
      "execution_count": null,
      "outputs": []
    },
    {
      "cell_type": "code",
      "source": [
        "# System prompt for the \"Relevance\" rater\n",
        "relevance_rater_system_message = \"\"\"You are an expert evaluator. Your task is to assess the relevance of the provided 'Answer' to the given 'Question', considering it was generated based on the 'Context'. The 'Answer' should directly address the 'Question'. It should be pertinent and focused on the user's query.\n",
        "Score the 'Answer' on a scale of 1 to 5 for relevance, where:\n",
        "1: The Answer is not relevant to the Question at all.\n",
        "2: The Answer is only slightly relevant or significantly misses the main point of the Question.\n",
        "3: The Answer is moderately relevant but could be more direct or focused.\n",
        "4: The Answer is highly relevant and directly addresses the Question well.\n",
        "5: The Answer is perfectly relevant, concise, and fully addresses all aspects of the Question based on the context.\n",
        "\n",
        "Provide your score as a number (e.g., \"Score: 5\") followed by a brief justification for your rating.\"\"\""
      ],
      "metadata": {
        "id": "159OZZa0Rinv"
      },
      "execution_count": null,
      "outputs": []
    },
    {
      "cell_type": "code",
      "source": [
        "# User message template for the evaluators\n",
        "evaluation_user_message_template = \"\"\"\n",
        "### Question:\n",
        "{question}\n",
        "\n",
        "### Context:\n",
        "{context}\n",
        "\n",
        "### Answer:\n",
        "{answer}\n",
        "\n",
        "Based on the instructions given to you as an evaluator, please provide your score and justification.\"\"\""
      ],
      "metadata": {
        "id": "RLqiSn-iRwSl"
      },
      "execution_count": null,
      "outputs": []
    },
    {
      "cell_type": "markdown",
      "source": [
        "* We have two distinct system prompts, one for each evaluation aspect. They clearly define the criteria and the scoring scale.\n",
        "\n",
        "* The **evaluation_user_message_template** provides the structure to feed the question, the context that was used to generate the answer, and the actual answer itself to the judge LLM."
      ],
      "metadata": {
        "id": "edgyP29UIULj"
      }
    },
    {
      "cell_type": "markdown",
      "source": [
        "### Function to Generate Evaluations\n",
        "\n",
        "This function takes a user query and its RAG answer, then gets evaluations for groundedness and relevance."
      ],
      "metadata": {
        "id": "haq72sEhIjIh"
      }
    },
    {
      "cell_type": "code",
      "source": [
        "# This function is modified to handle potential context window errors.\n",
        "def get_evaluations(user_input, rag_answer, k_retriever_for_context=3, max_tokens_eval=150, temp_eval=0.0):\n",
        "    \"\"\"\n",
        "    Gets groundedness and relevance evaluations for a given RAG answer.\n",
        "    Includes a fix to prevent context window overflow errors.\n",
        "    \"\"\"\n",
        "    # 1. Retrieve the context\n",
        "    current_retriever = vectorstore.as_retriever(search_kwargs={'k': k_retriever_for_context})\n",
        "    relevant_document_chunks = current_retriever.get_relevant_documents(query=user_input)\n",
        "    context_list = [d.page_content for d in relevant_document_chunks]\n",
        "    context_for_evaluation = \"\\n\\n---\\n\\n\".join(context_list)\n",
        "\n",
        "    # **ERROR FIX**: Truncate the context for evaluation to prevent exceeding the model's context window.\n",
        "    # The total prompt includes instructions, context, question, and answer. Truncating the context\n",
        "    # is a reliable way to ensure the entire payload fits. 3000 characters is a safe limit here.\n",
        "    if len(context_for_evaluation) > 3000:\n",
        "        context_for_evaluation = context_for_evaluation[:3000] + \"\\n...[CONTEXT TRUNCATED]...\"\n",
        "\n",
        "    # 2. Evaluate Groundedness\n",
        "    eval_user_message_filled = evaluation_user_message_template.format(\n",
        "        question=user_input,\n",
        "        context=context_for_evaluation,\n",
        "        answer=rag_answer\n",
        "    )\n",
        "    groundedness_prompt = f\"<s>[INST] {groundedness_rater_system_message} [/INST]</s>[INST] {eval_user_message_filled} [/INST]\"\n",
        "\n",
        "    try:\n",
        "        groundedness_output = llm(prompt=groundedness_prompt, max_tokens=max_tokens_eval, temperature=temp_eval, echo=False)\n",
        "        groundedness_eval = groundedness_output['choices'][0]['text'].strip()\n",
        "    except Exception as e:\n",
        "        groundedness_eval = f\"Error during groundedness evaluation: {e}\"\n",
        "\n",
        "    # 3. Evaluate Relevance\n",
        "    relevance_prompt = f\"<s>[INST] {relevance_rater_system_message} [/INST]</s>[INST] {eval_user_message_filled} [/INST]\"\n",
        "    try:\n",
        "        relevance_output = llm(prompt=relevance_prompt, max_tokens=max_tokens_eval, temperature=temp_eval, echo=False)\n",
        "        relevance_eval = relevance_output['choices'][0]['text'].strip()\n",
        "    except Exception as e:\n",
        "        relevance_eval = f\"Error during relevance evaluation: {e}\"\n",
        "\n",
        "    return groundedness_eval, relevance_eval"
      ],
      "metadata": {
        "id": "XIbZybyuRi2p"
      },
      "execution_count": null,
      "outputs": []
    },
    {
      "cell_type": "markdown",
      "source": [
        "### Evaluating the RAG Responses for our 5 Queries\n",
        "\n",
        "Loop through the RAG answers generated previously and get evaluations for them."
      ],
      "metadata": {
        "id": "bMVTsdcYlHai"
      }
    },
    {
      "cell_type": "code",
      "source": [
        "# The 'k' value used for the retriever for each answer was:\n",
        "k_values_used = {\n",
        "    \"Query 1 (Sepsis)\": 5,\n",
        "    \"Query 2 (Appendicitis)\": 6,\n",
        "    \"Query 3 (Hair Loss)\": 3,\n",
        "    \"Query 4 (Brain Injury)\": 4,\n",
        "    \"Query 5 (Leg Fracture)\": 6, # This query used a larger k, making it prone to context window errors.\n",
        "}\n",
        "\n",
        "evaluation_results = {}\n",
        "\n",
        "print(\"\\n--- Output Evaluations ---\")\n",
        "for query_key, rag_answer_text in rag_answers.items():\n",
        "    original_question = user_inputs[query_key]\n",
        "    k_for_context = k_values_used[query_key]\n",
        "\n",
        "    print(f\"\\n--- Evaluating: {query_key} ---\")\n",
        "    print(f\"Question: {original_question}\")\n",
        "    print(f\"RAG Answer: {rag_answer_text[:200]}...\")\n",
        "\n",
        "    ground_eval, rel_eval = get_evaluations(\n",
        "        user_input=original_question,\n",
        "        rag_answer=rag_answer_text,\n",
        "        k_retriever_for_context=k_for_context\n",
        "    )\n",
        "    evaluation_results[query_key] = {\n",
        "        \"groundedness\": ground_eval,\n",
        "        \"relevance\": rel_eval\n",
        "    }\n",
        "    print(f\"Groundedness Evaluation:\\n{ground_eval}\")\n",
        "    print(f\"Relevance Evaluation:\\n{rel_eval}\")"
      ],
      "metadata": {
        "colab": {
          "base_uri": "https://localhost:8080/"
        },
        "id": "bqazdKUMlG0J",
        "outputId": "6e5a99a5-9593-48c8-adf9-fa0aadc7d442"
      },
      "execution_count": null,
      "outputs": [
        {
          "output_type": "stream",
          "name": "stdout",
          "text": [
            "\n",
            "--- Output Evaluations ---\n",
            "\n",
            "--- Evaluating: Query 1 (Sepsis) ---\n",
            "Question: What is the protocol for managing sepsis in a critical care unit?\n",
            "RAG Answer: The protocol for managing sepsis in a critical care unit involves rapid empiric antibiotic therapy, general supportive measures, and later adjusting antibiotics according to sensitivities and the site...\n"
          ]
        },
        {
          "output_type": "stream",
          "name": "stderr",
          "text": [
            "Llama.generate: prefix-match hit\n",
            "Llama.generate: prefix-match hit\n"
          ]
        },
        {
          "output_type": "stream",
          "name": "stdout",
          "text": [
            "Groundedness Evaluation:\n",
            "Score: 5\n",
            "\n",
            "The Answer is entirely and accurately based on the Context, with no external information or assumptions added. The Answer directly quotes and summarizes the information from the Context regarding the protocol for managing sepsis in a critical care unit, including rapid empiric antibiotic therapy, supportive measures, antibiotic selection, and surgical intervention when necessary. The Answer also includes accurate references to specific pages in the Context for verification.\n",
            "Relevance Evaluation:\n",
            "Score: 5\n",
            "\n",
            "The Answer directly addresses the Question by providing specific details about the protocol for managing sepsis in a critical care unit. It mentions the importance of rapid empiric antibiotic therapy, general supportive measures, and later adjusting antibiotics according to sensitivities and the site of infection. The Answer also provides information on antibiotic selection, common antibiotics used, and additional treatments such as drainage of abscesses and surgical excision of necrotic tissues. The Answer is concise and fully addresses all aspects of the Question based on the context provided.\n",
            "\n",
            "--- Evaluating: Query 2 (Appendicitis) ---\n",
            "Question: What are the common symptoms for appendicitis, and can it be cured via medicine? If not, what surgical procedure should be followed to treat it?\n",
            "RAG Answer: The common symptoms of appendicitis include epigastric or periumbilical pain followed by brief nausea, vomiting, and anorexia; shifting pain to the right lower quadrant that increases with cough and m...\n"
          ]
        },
        {
          "output_type": "stream",
          "name": "stderr",
          "text": [
            "Llama.generate: prefix-match hit\n",
            "Llama.generate: prefix-match hit\n"
          ]
        },
        {
          "output_type": "stream",
          "name": "stdout",
          "text": [
            "Groundedness Evaluation:\n",
            "Score: 5\n",
            "\n",
            "The answer is entirely and accurately based on the context, with no external information or assumptions added. The symptoms described in the answer are directly taken from the context, and the statement about the treatment being surgical removal is also explicitly stated in the context. Additionally, the mention of antibiotics before and after surgery is also supported by the context.\n",
            "Relevance Evaluation:\n",
            "Score: 5\n",
            "\n",
            "The answer directly addresses both parts of the question by providing a detailed explanation of the common symptoms of appendicitis and stating that surgical removal is the standard treatment for appendicitis. The answer also mentions the specific procedures used to treat appendicitis, such as open or laparoscopic appendectomy and antibiotic administration. The context provided in the text was effectively utilized to generate an accurate and comprehensive response.\n",
            "\n",
            "--- Evaluating: Query 3 (Hair Loss) ---\n",
            "Question: What are the effective treatments or solutions for addressing sudden patchy hair loss, commonly seen as localized bald spots on the scalp, and what could be the possible causes behind it?\n",
            "RAG Answer: Sudden patchy hair loss, also known as alopecia areata, is a common autoimmune disorder that affects genetically susceptible individuals exposed to unclear environmental triggers [1:858]. The scalp an...\n"
          ]
        },
        {
          "output_type": "stream",
          "name": "stderr",
          "text": [
            "Llama.generate: prefix-match hit\n",
            "Llama.generate: prefix-match hit\n"
          ]
        },
        {
          "output_type": "stream",
          "name": "stdout",
          "text": [
            "Groundedness Evaluation:\n",
            "Score: 5\n",
            "\n",
            "The Answer is entirely and accurately based on the Context, with no external information or assumptions added. The Answer summarizes the information from the Context regarding alopecia areata, its causes, and treatment options. It also correctly identifies that a thorough evaluation is necessary to determine the underlying cause of sudden patchy hair loss. The references provided in the Answer ([1:849, 855, 858]) correspond to the locations within the Context where the information was obtained.\n",
            "Relevance Evaluation:\n",
            "Score: 5\n",
            "\n",
            "The provided answer directly addresses the question by discussing the causes of sudden patchy hair loss (alopecia areata) and its effective treatments. The answer also mentions other possible causes of hair loss and their respective treatments. The information is relevant, concise, and fully covers all aspects of the question based on the context provided.\n",
            "\n",
            "--- Evaluating: Query 4 (Brain Injury) ---\n",
            "Question: What treatments are recommended for a person who has sustained a physical injury to brain tissue, resulting in temporary or permanent impairment of brain function?\n",
            "RAG Answer: For a person with a brain injury resulting in temporary or permanent impairment of brain function, early intervention by rehabilitation specialists is crucial for maximal functional recovery [Page: 36...\n"
          ]
        },
        {
          "output_type": "stream",
          "name": "stderr",
          "text": [
            "Llama.generate: prefix-match hit\n",
            "Llama.generate: prefix-match hit\n"
          ]
        },
        {
          "output_type": "stream",
          "name": "stdout",
          "text": [
            "Groundedness Evaluation:\n",
            "Score: 5\n",
            "\n",
            "Justification: The Answer is entirely and accurately based on the Context, with no external information or assumptions added. It summarizes the key points from the provided text regarding rehabilitation for individuals with brain injuries, including the importance of early intervention, various aspects of rehabilitation therapy, and supportive care.\n",
            "Relevance Evaluation:\n",
            "Score: 5\n",
            "\n",
            "The Answer directly addresses the Question by discussing the importance of early intervention by rehabilitation specialists for a person with a brain injury and the various aspects of rehabilitation therapy, including prevention of secondary disabilities, cognitive therapy, and supportive care. The Answer also mentions that the specific rehabilitation therapy varies depending on the patient's abnormalities and the level and extent of the injury, making it relevant to the context provided in the Question. Additionally, the Answer touches upon the prognosis for patients in a persistent vegetative state, which is related to the potential impairment of brain function mentioned in the Question. Overall, the Answer is perfectly relevant, concise, and fully addresses all aspects of\n",
            "\n",
            "--- Evaluating: Query 5 (Leg Fracture) ---\n",
            "Question: What are the necessary precautions and treatment steps for a person who has fractured their leg during a hiking trip, and what should be considered for their care and recovery?\n",
            "RAG Answer: For a person who has fractured their leg during a hiking trip, the following precautions and treatment steps are necessary:\n",
            "\n",
            "1. Immediate immobilization of the affected limb by splinting to prevent fu...\n"
          ]
        },
        {
          "output_type": "stream",
          "name": "stderr",
          "text": [
            "Llama.generate: prefix-match hit\n",
            "Llama.generate: prefix-match hit\n"
          ]
        },
        {
          "output_type": "stream",
          "name": "stdout",
          "text": [
            "Groundedness Evaluation:\n",
            "Score: 5\n",
            "\n",
            "The Answer is entirely and accurately based on the Context, with no external information or assumptions added. The Answer directly quotes and summarizes the necessary precautions and treatment steps for a person who has fractured their leg from the provided Context.\n",
            "Relevance Evaluation:\n",
            "Score: 5\n",
            "\n",
            "The answer directly addresses the question by providing a comprehensive list of necessary precautions and treatment steps for a person who has fractured their leg during a hiking trip. The information is relevant and focused on the user's query, as it covers immobilization, pain management, RICE therapy, prosthetic considerations, rehabilitation, activity restrictions, wound care, and infection prevention. The answer is also concise and fully addresses all aspects of the question based on the context provided.\n"
          ]
        }
      ]
    },
    {
      "cell_type": "markdown",
      "source": [
        "### Interpreting Evaluation Results:\n",
        "We'd look for high scores (4 or 5) in both groundedness and relevance.\n",
        "\n",
        "* **High Groundedness**: The RAG system is doing a good job of sticking to the facts in the Merck Manuals and not making things up.\n",
        "\n",
        "* **High Relevance**: Means the answers are actually useful and address the user's query.\n",
        "\n",
        "If scores are low, the justifications provided by the judge LLM can give us clues on what to improve (e.g., better chunking, different retriever settings, prompt adjustments, etc.).\n",
        "\n",
        "This LLM-as-a-judge method isn't perfect (the judge itself can have biases or make mistakes), but it's a very useful and scalable way to get automated feedback on the quality of our RAG system."
      ],
      "metadata": {
        "id": "k3fr1pSpl36c"
      }
    },
    {
      "cell_type": "markdown",
      "source": [
        "Observations:\n",
        "\n",
        "The LLM-as-a-judge evaluation was executed successfully across all five queries, providing quantitative validation of the RAG system's performance. The results are exceptionally positive:\n",
        "\n",
        "* Consistently High Scores: The \"judge\" model consistently awarded the highest possible score (Score: 5) for both Groundedness and Relevance on all queries where a detailed answer was provided.\n",
        "\n",
        "* Validation of Groundedness: The perfect scores for Groundedness confirm that the RAG system is successfully adhering to its most critical instruction: to answer exclusively from the provided context of the Merck Manual. The justifications note that the answers are \"entirely and accurately based on the Context, with no external information or assumptions added,\" which is the ideal outcome for a fact-based system.\n",
        "\n",
        "* Validation of Relevance: The perfect scores for Relevance indicate that the retriever component is effectively identifying and fetching the correct document chunks that are pertinent to the user's question. The generator AI is then successfully using that specific context to construct a comprehensive and focused response.\n",
        "\n",
        "* Robustness of the Evaluation Function: It's important to note that the evaluation process completed without the context window overflow error seen in previous attempts. This confirms that the context truncation logic added to the get_evaluations function is working correctly, making the evaluation pipeline robust enough to handle queries that retrieve a large amount of text.\n",
        "\n",
        "The automated evaluation demonstrates that the RAG pipeline is performing with a high degree of accuracy and reliability, providing a strong, evidence-based foundation for its use as a clinical decision support tool."
      ],
      "metadata": {
        "id": "i8jkQxH8l4_N"
      }
    },
    {
      "cell_type": "markdown",
      "metadata": {
        "id": "Y7QICRU-njdj"
      },
      "source": [
        "## Actionable Insights and Business Recommendations"
      ]
    },
    {
      "cell_type": "markdown",
      "source": [
        "### Actionable Insights:\n",
        "\n",
        "1. **RAG Reliably Translates Manuals into Q&A Systems:**\n",
        "\n",
        "      This project proves that the RAG architecture is highly effective for converting dense, domain-specific documents like the Merck Manual into an interactive, accurate, and verifiable question-answering system. The final RAG responses were consistently superior to the base LLM's generic knowledge.\n",
        "\n",
        "\n",
        "2.  **Advanced Prompting is Key to Safe and Effective Use:**\n",
        "\n",
        "      The implementation of a structured XML prompt with explicit rules was the most critical factor in controlling the model's behavior. This allowed us to enforce mandatory source citation and to make the model safely refuse to answer when the context was insufficient—a non-negotiable feature for a medical application.\n",
        "\n",
        "3. **Pipeline Tuning is a Balancing Act:**\n",
        "\n",
        "      The fine-tuning experiment showed that RAG performance is a system of trade-offs. Changing the chunk_size directly impacts the context quality. Larger chunks can provide more comprehensive answers but may reduce retrieval precision. The optimal configuration is not universal and must be tuned based on the document's structure and expected user queries.\n",
        "\n",
        "4. **Context Window Management can be an Engineering Hurdle:**\n",
        "\n",
        "      The context window overflow error was encountered initially during the evaluation phase which is a primary practical challenge in building RAG systems. It highlights that the entire pipeline, from the number of documents retrieved (k) to the length of the prompts, must be managed. Implementing robust strategies like context truncation is essential for system stability.\n",
        "\n",
        "5. **Automated Evaluation Provides Scalable Quality Assurance:**\n",
        "\n",
        "      The LLM-as-a-judge approach can provided a scalable and consistent way to score the RAG system's output on key metrics like Groundedness and Relevance. This methodology is useful for regression testing, comparing different pipeline configurations, and ensuring ongoing quality control."
      ],
      "metadata": {
        "id": "-_m3k1MDzMPX"
      }
    },
    {
      "cell_type": "markdown",
      "source": [
        "### Business Recommendations\n",
        "\n",
        "1.  **Initiate a Controlled Clinical Pilot Program:**\n",
        "\n",
        "      The prototype has successfully demonstrated technical feasibility and high performance on test queries. The next logical step is to deploy this system in a controlled pilot for a specific clinical group (e.g., medical residents, a specialized department). The goal is to gather feedback on real-world usability, identify the most common query types, and build user trust.\n",
        "\n",
        "2.  **Invest in a User-Centric Interface for Verifiability:**\n",
        "\n",
        "      For clinicians to adopt this tool, it must be transparent and trustworthy. We recommend developing a user interface that displays the generated answer alongside the retrieved context snippets. Each citation `[Page: X]` should be a clickable link that highlights the source sentence in the context, allowing for instant verification.\n",
        "\n",
        "3.  **Establish a \"Living Document\" Update Cycle:**\n",
        "\n",
        "      Medical knowledge is not static. A formal process must be created to update the system's knowledge base. When a new edition of the Merck Manual (or other source material) is released, the data preparation pipeline (chunking, embedding, and vector store creation) must be re-run to ensure the AI assistant is always providing the most current medical information.\n",
        "\n",
        "4.  **Strategically Expand the Knowledge Base:**\n",
        "\n",
        "      The value of the system will increase exponentially with more high-quality data. We recommend strategically expanding the knowledge base to include other trusted sources, such as internal hospital treatment protocols, pharmaceutical formularies, and key clinical practice guidelines from recognized medical societies. The RAG architecture can be scaled to search across multiple data sources simultaneously.\n",
        "\n",
        "5.  **Frame and Train as an \"Decision Support Assistant\":**\n",
        "\n",
        "      All internal marketing, training, and documentation must consistently position this tool as an \"AI Co-Pilot\" or \"Decision Support Assistant.\" It is designed to augment and accelerate a professional's ability to access information, not to replace their clinical judgment. This framing is essential for user adoption, managing expectations, and ensuring patient safety.\n",
        "\n"
      ],
      "metadata": {
        "id": "DF_C42W9denF"
      }
    }
  ],
  "metadata": {
    "accelerator": "GPU",
    "colab": {
      "gpuType": "T4",
      "provenance": [],
      "machine_shape": "hm"
    },
    "kernel_info": {
      "name": "python310-sdkv2"
    },
    "kernelspec": {
      "display_name": "Python 3",
      "name": "python3"
    },
    "language_info": {
      "name": "python"
    },
    "microsoft": {
      "host": {
        "AzureML": {
          "notebookHasBeenCompleted": true
        }
      },
      "ms_spell_check": {
        "ms_spell_check_language": "en"
      }
    },
    "nteract": {
      "version": "nteract-front-end@1.0.0"
    },
    "widgets": {
      "application/vnd.jupyter.widget-state+json": {
        "c7fa2fca4ad44781911765bc9f7744a4": {
          "model_module": "@jupyter-widgets/controls",
          "model_name": "HBoxModel",
          "model_module_version": "1.5.0",
          "state": {
            "_dom_classes": [],
            "_model_module": "@jupyter-widgets/controls",
            "_model_module_version": "1.5.0",
            "_model_name": "HBoxModel",
            "_view_count": null,
            "_view_module": "@jupyter-widgets/controls",
            "_view_module_version": "1.5.0",
            "_view_name": "HBoxView",
            "box_style": "",
            "children": [
              "IPY_MODEL_0a8d842f3e9d4f548044efa5dcb3f6e8",
              "IPY_MODEL_249e830f93d64098a6c1b8cfad98da36",
              "IPY_MODEL_e5448773100f4661b10fb9e80c19fd69"
            ],
            "layout": "IPY_MODEL_d8d8f876361348b9ac0e8b5b3416e885"
          }
        },
        "0a8d842f3e9d4f548044efa5dcb3f6e8": {
          "model_module": "@jupyter-widgets/controls",
          "model_name": "HTMLModel",
          "model_module_version": "1.5.0",
          "state": {
            "_dom_classes": [],
            "_model_module": "@jupyter-widgets/controls",
            "_model_module_version": "1.5.0",
            "_model_name": "HTMLModel",
            "_view_count": null,
            "_view_module": "@jupyter-widgets/controls",
            "_view_module_version": "1.5.0",
            "_view_name": "HTMLView",
            "description": "",
            "description_tooltip": null,
            "layout": "IPY_MODEL_b0999c657d244803a0e60d309274f182",
            "placeholder": "​",
            "style": "IPY_MODEL_72ecb876cc924c9a921eb404dbbe04cc",
            "value": ""
          }
        },
        "249e830f93d64098a6c1b8cfad98da36": {
          "model_module": "@jupyter-widgets/controls",
          "model_name": "FloatProgressModel",
          "model_module_version": "1.5.0",
          "state": {
            "_dom_classes": [],
            "_model_module": "@jupyter-widgets/controls",
            "_model_module_version": "1.5.0",
            "_model_name": "FloatProgressModel",
            "_view_count": null,
            "_view_module": "@jupyter-widgets/controls",
            "_view_module_version": "1.5.0",
            "_view_name": "ProgressView",
            "bar_style": "success",
            "description": "",
            "description_tooltip": null,
            "layout": "IPY_MODEL_00de50f4053c4a6596bda30cf8d7458c",
            "max": 1,
            "min": 0,
            "orientation": "horizontal",
            "style": "IPY_MODEL_024ccb50e719459aa5edc057b3ef6db4",
            "value": 0
          }
        },
        "e5448773100f4661b10fb9e80c19fd69": {
          "model_module": "@jupyter-widgets/controls",
          "model_name": "HTMLModel",
          "model_module_version": "1.5.0",
          "state": {
            "_dom_classes": [],
            "_model_module": "@jupyter-widgets/controls",
            "_model_module_version": "1.5.0",
            "_model_name": "HTMLModel",
            "_view_count": null,
            "_view_module": "@jupyter-widgets/controls",
            "_view_module_version": "1.5.0",
            "_view_name": "HTMLView",
            "description": "",
            "description_tooltip": null,
            "layout": "IPY_MODEL_5ca2a8fb1ec1421ea6a06e715b1e9223",
            "placeholder": "​",
            "style": "IPY_MODEL_c5354d28bd7349b78a0b04f34fd611a0",
            "value": " 0/0 [00:00&lt;?, ?it/s]"
          }
        },
        "d8d8f876361348b9ac0e8b5b3416e885": {
          "model_module": "@jupyter-widgets/base",
          "model_name": "LayoutModel",
          "model_module_version": "1.2.0",
          "state": {
            "_model_module": "@jupyter-widgets/base",
            "_model_module_version": "1.2.0",
            "_model_name": "LayoutModel",
            "_view_count": null,
            "_view_module": "@jupyter-widgets/base",
            "_view_module_version": "1.2.0",
            "_view_name": "LayoutView",
            "align_content": null,
            "align_items": null,
            "align_self": null,
            "border": null,
            "bottom": null,
            "display": null,
            "flex": null,
            "flex_flow": null,
            "grid_area": null,
            "grid_auto_columns": null,
            "grid_auto_flow": null,
            "grid_auto_rows": null,
            "grid_column": null,
            "grid_gap": null,
            "grid_row": null,
            "grid_template_areas": null,
            "grid_template_columns": null,
            "grid_template_rows": null,
            "height": null,
            "justify_content": null,
            "justify_items": null,
            "left": null,
            "margin": null,
            "max_height": null,
            "max_width": null,
            "min_height": null,
            "min_width": null,
            "object_fit": null,
            "object_position": null,
            "order": null,
            "overflow": null,
            "overflow_x": null,
            "overflow_y": null,
            "padding": null,
            "right": null,
            "top": null,
            "visibility": null,
            "width": null
          }
        },
        "b0999c657d244803a0e60d309274f182": {
          "model_module": "@jupyter-widgets/base",
          "model_name": "LayoutModel",
          "model_module_version": "1.2.0",
          "state": {
            "_model_module": "@jupyter-widgets/base",
            "_model_module_version": "1.2.0",
            "_model_name": "LayoutModel",
            "_view_count": null,
            "_view_module": "@jupyter-widgets/base",
            "_view_module_version": "1.2.0",
            "_view_name": "LayoutView",
            "align_content": null,
            "align_items": null,
            "align_self": null,
            "border": null,
            "bottom": null,
            "display": null,
            "flex": null,
            "flex_flow": null,
            "grid_area": null,
            "grid_auto_columns": null,
            "grid_auto_flow": null,
            "grid_auto_rows": null,
            "grid_column": null,
            "grid_gap": null,
            "grid_row": null,
            "grid_template_areas": null,
            "grid_template_columns": null,
            "grid_template_rows": null,
            "height": null,
            "justify_content": null,
            "justify_items": null,
            "left": null,
            "margin": null,
            "max_height": null,
            "max_width": null,
            "min_height": null,
            "min_width": null,
            "object_fit": null,
            "object_position": null,
            "order": null,
            "overflow": null,
            "overflow_x": null,
            "overflow_y": null,
            "padding": null,
            "right": null,
            "top": null,
            "visibility": null,
            "width": null
          }
        },
        "72ecb876cc924c9a921eb404dbbe04cc": {
          "model_module": "@jupyter-widgets/controls",
          "model_name": "DescriptionStyleModel",
          "model_module_version": "1.5.0",
          "state": {
            "_model_module": "@jupyter-widgets/controls",
            "_model_module_version": "1.5.0",
            "_model_name": "DescriptionStyleModel",
            "_view_count": null,
            "_view_module": "@jupyter-widgets/base",
            "_view_module_version": "1.2.0",
            "_view_name": "StyleView",
            "description_width": ""
          }
        },
        "00de50f4053c4a6596bda30cf8d7458c": {
          "model_module": "@jupyter-widgets/base",
          "model_name": "LayoutModel",
          "model_module_version": "1.2.0",
          "state": {
            "_model_module": "@jupyter-widgets/base",
            "_model_module_version": "1.2.0",
            "_model_name": "LayoutModel",
            "_view_count": null,
            "_view_module": "@jupyter-widgets/base",
            "_view_module_version": "1.2.0",
            "_view_name": "LayoutView",
            "align_content": null,
            "align_items": null,
            "align_self": null,
            "border": null,
            "bottom": null,
            "display": null,
            "flex": null,
            "flex_flow": null,
            "grid_area": null,
            "grid_auto_columns": null,
            "grid_auto_flow": null,
            "grid_auto_rows": null,
            "grid_column": null,
            "grid_gap": null,
            "grid_row": null,
            "grid_template_areas": null,
            "grid_template_columns": null,
            "grid_template_rows": null,
            "height": null,
            "justify_content": null,
            "justify_items": null,
            "left": null,
            "margin": null,
            "max_height": null,
            "max_width": null,
            "min_height": null,
            "min_width": null,
            "object_fit": null,
            "object_position": null,
            "order": null,
            "overflow": null,
            "overflow_x": null,
            "overflow_y": null,
            "padding": null,
            "right": null,
            "top": null,
            "visibility": null,
            "width": "20px"
          }
        },
        "024ccb50e719459aa5edc057b3ef6db4": {
          "model_module": "@jupyter-widgets/controls",
          "model_name": "ProgressStyleModel",
          "model_module_version": "1.5.0",
          "state": {
            "_model_module": "@jupyter-widgets/controls",
            "_model_module_version": "1.5.0",
            "_model_name": "ProgressStyleModel",
            "_view_count": null,
            "_view_module": "@jupyter-widgets/base",
            "_view_module_version": "1.2.0",
            "_view_name": "StyleView",
            "bar_color": null,
            "description_width": ""
          }
        },
        "5ca2a8fb1ec1421ea6a06e715b1e9223": {
          "model_module": "@jupyter-widgets/base",
          "model_name": "LayoutModel",
          "model_module_version": "1.2.0",
          "state": {
            "_model_module": "@jupyter-widgets/base",
            "_model_module_version": "1.2.0",
            "_model_name": "LayoutModel",
            "_view_count": null,
            "_view_module": "@jupyter-widgets/base",
            "_view_module_version": "1.2.0",
            "_view_name": "LayoutView",
            "align_content": null,
            "align_items": null,
            "align_self": null,
            "border": null,
            "bottom": null,
            "display": null,
            "flex": null,
            "flex_flow": null,
            "grid_area": null,
            "grid_auto_columns": null,
            "grid_auto_flow": null,
            "grid_auto_rows": null,
            "grid_column": null,
            "grid_gap": null,
            "grid_row": null,
            "grid_template_areas": null,
            "grid_template_columns": null,
            "grid_template_rows": null,
            "height": null,
            "justify_content": null,
            "justify_items": null,
            "left": null,
            "margin": null,
            "max_height": null,
            "max_width": null,
            "min_height": null,
            "min_width": null,
            "object_fit": null,
            "object_position": null,
            "order": null,
            "overflow": null,
            "overflow_x": null,
            "overflow_y": null,
            "padding": null,
            "right": null,
            "top": null,
            "visibility": null,
            "width": null
          }
        },
        "c5354d28bd7349b78a0b04f34fd611a0": {
          "model_module": "@jupyter-widgets/controls",
          "model_name": "DescriptionStyleModel",
          "model_module_version": "1.5.0",
          "state": {
            "_model_module": "@jupyter-widgets/controls",
            "_model_module_version": "1.5.0",
            "_model_name": "DescriptionStyleModel",
            "_view_count": null,
            "_view_module": "@jupyter-widgets/base",
            "_view_module_version": "1.2.0",
            "_view_name": "StyleView",
            "description_width": ""
          }
        },
        "4e71409d2f5d4775b7c5caa4cd71ad40": {
          "model_module": "@jupyter-widgets/controls",
          "model_name": "HBoxModel",
          "model_module_version": "1.5.0",
          "state": {
            "_dom_classes": [],
            "_model_module": "@jupyter-widgets/controls",
            "_model_module_version": "1.5.0",
            "_model_name": "HBoxModel",
            "_view_count": null,
            "_view_module": "@jupyter-widgets/controls",
            "_view_module_version": "1.5.0",
            "_view_name": "HBoxView",
            "box_style": "",
            "children": [
              "IPY_MODEL_bed0a81a795b4dfb91738869b5cc03bd",
              "IPY_MODEL_9400a33005534ea1b78f32a7bf19cbff",
              "IPY_MODEL_a4988cb3d60e4d3cb2794b0ed602f693"
            ],
            "layout": "IPY_MODEL_61417defd299495c9c394583d527a060"
          }
        },
        "bed0a81a795b4dfb91738869b5cc03bd": {
          "model_module": "@jupyter-widgets/controls",
          "model_name": "HTMLModel",
          "model_module_version": "1.5.0",
          "state": {
            "_dom_classes": [],
            "_model_module": "@jupyter-widgets/controls",
            "_model_module_version": "1.5.0",
            "_model_name": "HTMLModel",
            "_view_count": null,
            "_view_module": "@jupyter-widgets/controls",
            "_view_module_version": "1.5.0",
            "_view_name": "HTMLView",
            "description": "",
            "description_tooltip": null,
            "layout": "IPY_MODEL_71b5b7fd3a574d29bb8e555b908ad5ca",
            "placeholder": "​",
            "style": "IPY_MODEL_8bd0155f29dd40a3a392d6ee515727aa",
            "value": "modules.json: 100%"
          }
        },
        "9400a33005534ea1b78f32a7bf19cbff": {
          "model_module": "@jupyter-widgets/controls",
          "model_name": "FloatProgressModel",
          "model_module_version": "1.5.0",
          "state": {
            "_dom_classes": [],
            "_model_module": "@jupyter-widgets/controls",
            "_model_module_version": "1.5.0",
            "_model_name": "FloatProgressModel",
            "_view_count": null,
            "_view_module": "@jupyter-widgets/controls",
            "_view_module_version": "1.5.0",
            "_view_name": "ProgressView",
            "bar_style": "success",
            "description": "",
            "description_tooltip": null,
            "layout": "IPY_MODEL_4f10b72e99344394b8471c9b1d0d38d7",
            "max": 349,
            "min": 0,
            "orientation": "horizontal",
            "style": "IPY_MODEL_656063d1e2104219a5160be64ea5ffb9",
            "value": 349
          }
        },
        "a4988cb3d60e4d3cb2794b0ed602f693": {
          "model_module": "@jupyter-widgets/controls",
          "model_name": "HTMLModel",
          "model_module_version": "1.5.0",
          "state": {
            "_dom_classes": [],
            "_model_module": "@jupyter-widgets/controls",
            "_model_module_version": "1.5.0",
            "_model_name": "HTMLModel",
            "_view_count": null,
            "_view_module": "@jupyter-widgets/controls",
            "_view_module_version": "1.5.0",
            "_view_name": "HTMLView",
            "description": "",
            "description_tooltip": null,
            "layout": "IPY_MODEL_7d342f05326c449b89c6b3c93e42761b",
            "placeholder": "​",
            "style": "IPY_MODEL_349202496cc240b8b79d9f7b15ea92c1",
            "value": " 349/349 [00:00&lt;00:00, 40.4kB/s]"
          }
        },
        "61417defd299495c9c394583d527a060": {
          "model_module": "@jupyter-widgets/base",
          "model_name": "LayoutModel",
          "model_module_version": "1.2.0",
          "state": {
            "_model_module": "@jupyter-widgets/base",
            "_model_module_version": "1.2.0",
            "_model_name": "LayoutModel",
            "_view_count": null,
            "_view_module": "@jupyter-widgets/base",
            "_view_module_version": "1.2.0",
            "_view_name": "LayoutView",
            "align_content": null,
            "align_items": null,
            "align_self": null,
            "border": null,
            "bottom": null,
            "display": null,
            "flex": null,
            "flex_flow": null,
            "grid_area": null,
            "grid_auto_columns": null,
            "grid_auto_flow": null,
            "grid_auto_rows": null,
            "grid_column": null,
            "grid_gap": null,
            "grid_row": null,
            "grid_template_areas": null,
            "grid_template_columns": null,
            "grid_template_rows": null,
            "height": null,
            "justify_content": null,
            "justify_items": null,
            "left": null,
            "margin": null,
            "max_height": null,
            "max_width": null,
            "min_height": null,
            "min_width": null,
            "object_fit": null,
            "object_position": null,
            "order": null,
            "overflow": null,
            "overflow_x": null,
            "overflow_y": null,
            "padding": null,
            "right": null,
            "top": null,
            "visibility": null,
            "width": null
          }
        },
        "71b5b7fd3a574d29bb8e555b908ad5ca": {
          "model_module": "@jupyter-widgets/base",
          "model_name": "LayoutModel",
          "model_module_version": "1.2.0",
          "state": {
            "_model_module": "@jupyter-widgets/base",
            "_model_module_version": "1.2.0",
            "_model_name": "LayoutModel",
            "_view_count": null,
            "_view_module": "@jupyter-widgets/base",
            "_view_module_version": "1.2.0",
            "_view_name": "LayoutView",
            "align_content": null,
            "align_items": null,
            "align_self": null,
            "border": null,
            "bottom": null,
            "display": null,
            "flex": null,
            "flex_flow": null,
            "grid_area": null,
            "grid_auto_columns": null,
            "grid_auto_flow": null,
            "grid_auto_rows": null,
            "grid_column": null,
            "grid_gap": null,
            "grid_row": null,
            "grid_template_areas": null,
            "grid_template_columns": null,
            "grid_template_rows": null,
            "height": null,
            "justify_content": null,
            "justify_items": null,
            "left": null,
            "margin": null,
            "max_height": null,
            "max_width": null,
            "min_height": null,
            "min_width": null,
            "object_fit": null,
            "object_position": null,
            "order": null,
            "overflow": null,
            "overflow_x": null,
            "overflow_y": null,
            "padding": null,
            "right": null,
            "top": null,
            "visibility": null,
            "width": null
          }
        },
        "8bd0155f29dd40a3a392d6ee515727aa": {
          "model_module": "@jupyter-widgets/controls",
          "model_name": "DescriptionStyleModel",
          "model_module_version": "1.5.0",
          "state": {
            "_model_module": "@jupyter-widgets/controls",
            "_model_module_version": "1.5.0",
            "_model_name": "DescriptionStyleModel",
            "_view_count": null,
            "_view_module": "@jupyter-widgets/base",
            "_view_module_version": "1.2.0",
            "_view_name": "StyleView",
            "description_width": ""
          }
        },
        "4f10b72e99344394b8471c9b1d0d38d7": {
          "model_module": "@jupyter-widgets/base",
          "model_name": "LayoutModel",
          "model_module_version": "1.2.0",
          "state": {
            "_model_module": "@jupyter-widgets/base",
            "_model_module_version": "1.2.0",
            "_model_name": "LayoutModel",
            "_view_count": null,
            "_view_module": "@jupyter-widgets/base",
            "_view_module_version": "1.2.0",
            "_view_name": "LayoutView",
            "align_content": null,
            "align_items": null,
            "align_self": null,
            "border": null,
            "bottom": null,
            "display": null,
            "flex": null,
            "flex_flow": null,
            "grid_area": null,
            "grid_auto_columns": null,
            "grid_auto_flow": null,
            "grid_auto_rows": null,
            "grid_column": null,
            "grid_gap": null,
            "grid_row": null,
            "grid_template_areas": null,
            "grid_template_columns": null,
            "grid_template_rows": null,
            "height": null,
            "justify_content": null,
            "justify_items": null,
            "left": null,
            "margin": null,
            "max_height": null,
            "max_width": null,
            "min_height": null,
            "min_width": null,
            "object_fit": null,
            "object_position": null,
            "order": null,
            "overflow": null,
            "overflow_x": null,
            "overflow_y": null,
            "padding": null,
            "right": null,
            "top": null,
            "visibility": null,
            "width": null
          }
        },
        "656063d1e2104219a5160be64ea5ffb9": {
          "model_module": "@jupyter-widgets/controls",
          "model_name": "ProgressStyleModel",
          "model_module_version": "1.5.0",
          "state": {
            "_model_module": "@jupyter-widgets/controls",
            "_model_module_version": "1.5.0",
            "_model_name": "ProgressStyleModel",
            "_view_count": null,
            "_view_module": "@jupyter-widgets/base",
            "_view_module_version": "1.2.0",
            "_view_name": "StyleView",
            "bar_color": null,
            "description_width": ""
          }
        },
        "7d342f05326c449b89c6b3c93e42761b": {
          "model_module": "@jupyter-widgets/base",
          "model_name": "LayoutModel",
          "model_module_version": "1.2.0",
          "state": {
            "_model_module": "@jupyter-widgets/base",
            "_model_module_version": "1.2.0",
            "_model_name": "LayoutModel",
            "_view_count": null,
            "_view_module": "@jupyter-widgets/base",
            "_view_module_version": "1.2.0",
            "_view_name": "LayoutView",
            "align_content": null,
            "align_items": null,
            "align_self": null,
            "border": null,
            "bottom": null,
            "display": null,
            "flex": null,
            "flex_flow": null,
            "grid_area": null,
            "grid_auto_columns": null,
            "grid_auto_flow": null,
            "grid_auto_rows": null,
            "grid_column": null,
            "grid_gap": null,
            "grid_row": null,
            "grid_template_areas": null,
            "grid_template_columns": null,
            "grid_template_rows": null,
            "height": null,
            "justify_content": null,
            "justify_items": null,
            "left": null,
            "margin": null,
            "max_height": null,
            "max_width": null,
            "min_height": null,
            "min_width": null,
            "object_fit": null,
            "object_position": null,
            "order": null,
            "overflow": null,
            "overflow_x": null,
            "overflow_y": null,
            "padding": null,
            "right": null,
            "top": null,
            "visibility": null,
            "width": null
          }
        },
        "349202496cc240b8b79d9f7b15ea92c1": {
          "model_module": "@jupyter-widgets/controls",
          "model_name": "DescriptionStyleModel",
          "model_module_version": "1.5.0",
          "state": {
            "_model_module": "@jupyter-widgets/controls",
            "_model_module_version": "1.5.0",
            "_model_name": "DescriptionStyleModel",
            "_view_count": null,
            "_view_module": "@jupyter-widgets/base",
            "_view_module_version": "1.2.0",
            "_view_name": "StyleView",
            "description_width": ""
          }
        },
        "b55d6439aaba45dd9c2949e8a50eaf0f": {
          "model_module": "@jupyter-widgets/controls",
          "model_name": "HBoxModel",
          "model_module_version": "1.5.0",
          "state": {
            "_dom_classes": [],
            "_model_module": "@jupyter-widgets/controls",
            "_model_module_version": "1.5.0",
            "_model_name": "HBoxModel",
            "_view_count": null,
            "_view_module": "@jupyter-widgets/controls",
            "_view_module_version": "1.5.0",
            "_view_name": "HBoxView",
            "box_style": "",
            "children": [
              "IPY_MODEL_6e277c54aff64aff8b791c5f10421ca4",
              "IPY_MODEL_921380c5c1404fcf8f86ff2ee611dcf1",
              "IPY_MODEL_73b76c9b223f420c97136f641bf4fd6c"
            ],
            "layout": "IPY_MODEL_399862183dc5440d9259c4d0fbcf30ce"
          }
        },
        "6e277c54aff64aff8b791c5f10421ca4": {
          "model_module": "@jupyter-widgets/controls",
          "model_name": "HTMLModel",
          "model_module_version": "1.5.0",
          "state": {
            "_dom_classes": [],
            "_model_module": "@jupyter-widgets/controls",
            "_model_module_version": "1.5.0",
            "_model_name": "HTMLModel",
            "_view_count": null,
            "_view_module": "@jupyter-widgets/controls",
            "_view_module_version": "1.5.0",
            "_view_name": "HTMLView",
            "description": "",
            "description_tooltip": null,
            "layout": "IPY_MODEL_0a7953d1d5214db4b0e9b8b0b02122d0",
            "placeholder": "​",
            "style": "IPY_MODEL_45112b27e21842139474392a43f79299",
            "value": "config_sentence_transformers.json: 100%"
          }
        },
        "921380c5c1404fcf8f86ff2ee611dcf1": {
          "model_module": "@jupyter-widgets/controls",
          "model_name": "FloatProgressModel",
          "model_module_version": "1.5.0",
          "state": {
            "_dom_classes": [],
            "_model_module": "@jupyter-widgets/controls",
            "_model_module_version": "1.5.0",
            "_model_name": "FloatProgressModel",
            "_view_count": null,
            "_view_module": "@jupyter-widgets/controls",
            "_view_module_version": "1.5.0",
            "_view_name": "ProgressView",
            "bar_style": "success",
            "description": "",
            "description_tooltip": null,
            "layout": "IPY_MODEL_44716ad944ce4599b67a00fd7f01d3f2",
            "max": 116,
            "min": 0,
            "orientation": "horizontal",
            "style": "IPY_MODEL_a550951a812d45288987f973fed82364",
            "value": 116
          }
        },
        "73b76c9b223f420c97136f641bf4fd6c": {
          "model_module": "@jupyter-widgets/controls",
          "model_name": "HTMLModel",
          "model_module_version": "1.5.0",
          "state": {
            "_dom_classes": [],
            "_model_module": "@jupyter-widgets/controls",
            "_model_module_version": "1.5.0",
            "_model_name": "HTMLModel",
            "_view_count": null,
            "_view_module": "@jupyter-widgets/controls",
            "_view_module_version": "1.5.0",
            "_view_name": "HTMLView",
            "description": "",
            "description_tooltip": null,
            "layout": "IPY_MODEL_977be17bf6174ccd83f147e0a7a944ef",
            "placeholder": "​",
            "style": "IPY_MODEL_dbbd46289495422abd0e770049d3953c",
            "value": " 116/116 [00:00&lt;00:00, 12.8kB/s]"
          }
        },
        "399862183dc5440d9259c4d0fbcf30ce": {
          "model_module": "@jupyter-widgets/base",
          "model_name": "LayoutModel",
          "model_module_version": "1.2.0",
          "state": {
            "_model_module": "@jupyter-widgets/base",
            "_model_module_version": "1.2.0",
            "_model_name": "LayoutModel",
            "_view_count": null,
            "_view_module": "@jupyter-widgets/base",
            "_view_module_version": "1.2.0",
            "_view_name": "LayoutView",
            "align_content": null,
            "align_items": null,
            "align_self": null,
            "border": null,
            "bottom": null,
            "display": null,
            "flex": null,
            "flex_flow": null,
            "grid_area": null,
            "grid_auto_columns": null,
            "grid_auto_flow": null,
            "grid_auto_rows": null,
            "grid_column": null,
            "grid_gap": null,
            "grid_row": null,
            "grid_template_areas": null,
            "grid_template_columns": null,
            "grid_template_rows": null,
            "height": null,
            "justify_content": null,
            "justify_items": null,
            "left": null,
            "margin": null,
            "max_height": null,
            "max_width": null,
            "min_height": null,
            "min_width": null,
            "object_fit": null,
            "object_position": null,
            "order": null,
            "overflow": null,
            "overflow_x": null,
            "overflow_y": null,
            "padding": null,
            "right": null,
            "top": null,
            "visibility": null,
            "width": null
          }
        },
        "0a7953d1d5214db4b0e9b8b0b02122d0": {
          "model_module": "@jupyter-widgets/base",
          "model_name": "LayoutModel",
          "model_module_version": "1.2.0",
          "state": {
            "_model_module": "@jupyter-widgets/base",
            "_model_module_version": "1.2.0",
            "_model_name": "LayoutModel",
            "_view_count": null,
            "_view_module": "@jupyter-widgets/base",
            "_view_module_version": "1.2.0",
            "_view_name": "LayoutView",
            "align_content": null,
            "align_items": null,
            "align_self": null,
            "border": null,
            "bottom": null,
            "display": null,
            "flex": null,
            "flex_flow": null,
            "grid_area": null,
            "grid_auto_columns": null,
            "grid_auto_flow": null,
            "grid_auto_rows": null,
            "grid_column": null,
            "grid_gap": null,
            "grid_row": null,
            "grid_template_areas": null,
            "grid_template_columns": null,
            "grid_template_rows": null,
            "height": null,
            "justify_content": null,
            "justify_items": null,
            "left": null,
            "margin": null,
            "max_height": null,
            "max_width": null,
            "min_height": null,
            "min_width": null,
            "object_fit": null,
            "object_position": null,
            "order": null,
            "overflow": null,
            "overflow_x": null,
            "overflow_y": null,
            "padding": null,
            "right": null,
            "top": null,
            "visibility": null,
            "width": null
          }
        },
        "45112b27e21842139474392a43f79299": {
          "model_module": "@jupyter-widgets/controls",
          "model_name": "DescriptionStyleModel",
          "model_module_version": "1.5.0",
          "state": {
            "_model_module": "@jupyter-widgets/controls",
            "_model_module_version": "1.5.0",
            "_model_name": "DescriptionStyleModel",
            "_view_count": null,
            "_view_module": "@jupyter-widgets/base",
            "_view_module_version": "1.2.0",
            "_view_name": "StyleView",
            "description_width": ""
          }
        },
        "44716ad944ce4599b67a00fd7f01d3f2": {
          "model_module": "@jupyter-widgets/base",
          "model_name": "LayoutModel",
          "model_module_version": "1.2.0",
          "state": {
            "_model_module": "@jupyter-widgets/base",
            "_model_module_version": "1.2.0",
            "_model_name": "LayoutModel",
            "_view_count": null,
            "_view_module": "@jupyter-widgets/base",
            "_view_module_version": "1.2.0",
            "_view_name": "LayoutView",
            "align_content": null,
            "align_items": null,
            "align_self": null,
            "border": null,
            "bottom": null,
            "display": null,
            "flex": null,
            "flex_flow": null,
            "grid_area": null,
            "grid_auto_columns": null,
            "grid_auto_flow": null,
            "grid_auto_rows": null,
            "grid_column": null,
            "grid_gap": null,
            "grid_row": null,
            "grid_template_areas": null,
            "grid_template_columns": null,
            "grid_template_rows": null,
            "height": null,
            "justify_content": null,
            "justify_items": null,
            "left": null,
            "margin": null,
            "max_height": null,
            "max_width": null,
            "min_height": null,
            "min_width": null,
            "object_fit": null,
            "object_position": null,
            "order": null,
            "overflow": null,
            "overflow_x": null,
            "overflow_y": null,
            "padding": null,
            "right": null,
            "top": null,
            "visibility": null,
            "width": null
          }
        },
        "a550951a812d45288987f973fed82364": {
          "model_module": "@jupyter-widgets/controls",
          "model_name": "ProgressStyleModel",
          "model_module_version": "1.5.0",
          "state": {
            "_model_module": "@jupyter-widgets/controls",
            "_model_module_version": "1.5.0",
            "_model_name": "ProgressStyleModel",
            "_view_count": null,
            "_view_module": "@jupyter-widgets/base",
            "_view_module_version": "1.2.0",
            "_view_name": "StyleView",
            "bar_color": null,
            "description_width": ""
          }
        },
        "977be17bf6174ccd83f147e0a7a944ef": {
          "model_module": "@jupyter-widgets/base",
          "model_name": "LayoutModel",
          "model_module_version": "1.2.0",
          "state": {
            "_model_module": "@jupyter-widgets/base",
            "_model_module_version": "1.2.0",
            "_model_name": "LayoutModel",
            "_view_count": null,
            "_view_module": "@jupyter-widgets/base",
            "_view_module_version": "1.2.0",
            "_view_name": "LayoutView",
            "align_content": null,
            "align_items": null,
            "align_self": null,
            "border": null,
            "bottom": null,
            "display": null,
            "flex": null,
            "flex_flow": null,
            "grid_area": null,
            "grid_auto_columns": null,
            "grid_auto_flow": null,
            "grid_auto_rows": null,
            "grid_column": null,
            "grid_gap": null,
            "grid_row": null,
            "grid_template_areas": null,
            "grid_template_columns": null,
            "grid_template_rows": null,
            "height": null,
            "justify_content": null,
            "justify_items": null,
            "left": null,
            "margin": null,
            "max_height": null,
            "max_width": null,
            "min_height": null,
            "min_width": null,
            "object_fit": null,
            "object_position": null,
            "order": null,
            "overflow": null,
            "overflow_x": null,
            "overflow_y": null,
            "padding": null,
            "right": null,
            "top": null,
            "visibility": null,
            "width": null
          }
        },
        "dbbd46289495422abd0e770049d3953c": {
          "model_module": "@jupyter-widgets/controls",
          "model_name": "DescriptionStyleModel",
          "model_module_version": "1.5.0",
          "state": {
            "_model_module": "@jupyter-widgets/controls",
            "_model_module_version": "1.5.0",
            "_model_name": "DescriptionStyleModel",
            "_view_count": null,
            "_view_module": "@jupyter-widgets/base",
            "_view_module_version": "1.2.0",
            "_view_name": "StyleView",
            "description_width": ""
          }
        },
        "bea6e19eec7f4dd6883ce8370d64e3b0": {
          "model_module": "@jupyter-widgets/controls",
          "model_name": "HBoxModel",
          "model_module_version": "1.5.0",
          "state": {
            "_dom_classes": [],
            "_model_module": "@jupyter-widgets/controls",
            "_model_module_version": "1.5.0",
            "_model_name": "HBoxModel",
            "_view_count": null,
            "_view_module": "@jupyter-widgets/controls",
            "_view_module_version": "1.5.0",
            "_view_name": "HBoxView",
            "box_style": "",
            "children": [
              "IPY_MODEL_4ae57f5588bf4ba884232a83ea4b3a08",
              "IPY_MODEL_a9bd0bd9605a4a3198007c206fa8782d",
              "IPY_MODEL_565b5699fa1746489dbe580331cd9e76"
            ],
            "layout": "IPY_MODEL_41e6d587de264b4c9abe10afca3a55c9"
          }
        },
        "4ae57f5588bf4ba884232a83ea4b3a08": {
          "model_module": "@jupyter-widgets/controls",
          "model_name": "HTMLModel",
          "model_module_version": "1.5.0",
          "state": {
            "_dom_classes": [],
            "_model_module": "@jupyter-widgets/controls",
            "_model_module_version": "1.5.0",
            "_model_name": "HTMLModel",
            "_view_count": null,
            "_view_module": "@jupyter-widgets/controls",
            "_view_module_version": "1.5.0",
            "_view_name": "HTMLView",
            "description": "",
            "description_tooltip": null,
            "layout": "IPY_MODEL_35b0caea8e9840a2950d043d32c28c58",
            "placeholder": "​",
            "style": "IPY_MODEL_cee4492a72e2400ba6df5b05770f221e",
            "value": "README.md: 100%"
          }
        },
        "a9bd0bd9605a4a3198007c206fa8782d": {
          "model_module": "@jupyter-widgets/controls",
          "model_name": "FloatProgressModel",
          "model_module_version": "1.5.0",
          "state": {
            "_dom_classes": [],
            "_model_module": "@jupyter-widgets/controls",
            "_model_module_version": "1.5.0",
            "_model_name": "FloatProgressModel",
            "_view_count": null,
            "_view_module": "@jupyter-widgets/controls",
            "_view_module_version": "1.5.0",
            "_view_name": "ProgressView",
            "bar_style": "success",
            "description": "",
            "description_tooltip": null,
            "layout": "IPY_MODEL_12cfd8dd7c8b43dcb5fe6ceb405dedf4",
            "max": 10454,
            "min": 0,
            "orientation": "horizontal",
            "style": "IPY_MODEL_d1c3cf7c7228436ab6cdf35681a8ff5a",
            "value": 10454
          }
        },
        "565b5699fa1746489dbe580331cd9e76": {
          "model_module": "@jupyter-widgets/controls",
          "model_name": "HTMLModel",
          "model_module_version": "1.5.0",
          "state": {
            "_dom_classes": [],
            "_model_module": "@jupyter-widgets/controls",
            "_model_module_version": "1.5.0",
            "_model_name": "HTMLModel",
            "_view_count": null,
            "_view_module": "@jupyter-widgets/controls",
            "_view_module_version": "1.5.0",
            "_view_name": "HTMLView",
            "description": "",
            "description_tooltip": null,
            "layout": "IPY_MODEL_2a22b4b19f314decab69704da9cbea55",
            "placeholder": "​",
            "style": "IPY_MODEL_b32d2456f9d84a9b8cfbbcfc5ac9d54b",
            "value": " 10.5k/10.5k [00:00&lt;00:00, 1.16MB/s]"
          }
        },
        "41e6d587de264b4c9abe10afca3a55c9": {
          "model_module": "@jupyter-widgets/base",
          "model_name": "LayoutModel",
          "model_module_version": "1.2.0",
          "state": {
            "_model_module": "@jupyter-widgets/base",
            "_model_module_version": "1.2.0",
            "_model_name": "LayoutModel",
            "_view_count": null,
            "_view_module": "@jupyter-widgets/base",
            "_view_module_version": "1.2.0",
            "_view_name": "LayoutView",
            "align_content": null,
            "align_items": null,
            "align_self": null,
            "border": null,
            "bottom": null,
            "display": null,
            "flex": null,
            "flex_flow": null,
            "grid_area": null,
            "grid_auto_columns": null,
            "grid_auto_flow": null,
            "grid_auto_rows": null,
            "grid_column": null,
            "grid_gap": null,
            "grid_row": null,
            "grid_template_areas": null,
            "grid_template_columns": null,
            "grid_template_rows": null,
            "height": null,
            "justify_content": null,
            "justify_items": null,
            "left": null,
            "margin": null,
            "max_height": null,
            "max_width": null,
            "min_height": null,
            "min_width": null,
            "object_fit": null,
            "object_position": null,
            "order": null,
            "overflow": null,
            "overflow_x": null,
            "overflow_y": null,
            "padding": null,
            "right": null,
            "top": null,
            "visibility": null,
            "width": null
          }
        },
        "35b0caea8e9840a2950d043d32c28c58": {
          "model_module": "@jupyter-widgets/base",
          "model_name": "LayoutModel",
          "model_module_version": "1.2.0",
          "state": {
            "_model_module": "@jupyter-widgets/base",
            "_model_module_version": "1.2.0",
            "_model_name": "LayoutModel",
            "_view_count": null,
            "_view_module": "@jupyter-widgets/base",
            "_view_module_version": "1.2.0",
            "_view_name": "LayoutView",
            "align_content": null,
            "align_items": null,
            "align_self": null,
            "border": null,
            "bottom": null,
            "display": null,
            "flex": null,
            "flex_flow": null,
            "grid_area": null,
            "grid_auto_columns": null,
            "grid_auto_flow": null,
            "grid_auto_rows": null,
            "grid_column": null,
            "grid_gap": null,
            "grid_row": null,
            "grid_template_areas": null,
            "grid_template_columns": null,
            "grid_template_rows": null,
            "height": null,
            "justify_content": null,
            "justify_items": null,
            "left": null,
            "margin": null,
            "max_height": null,
            "max_width": null,
            "min_height": null,
            "min_width": null,
            "object_fit": null,
            "object_position": null,
            "order": null,
            "overflow": null,
            "overflow_x": null,
            "overflow_y": null,
            "padding": null,
            "right": null,
            "top": null,
            "visibility": null,
            "width": null
          }
        },
        "cee4492a72e2400ba6df5b05770f221e": {
          "model_module": "@jupyter-widgets/controls",
          "model_name": "DescriptionStyleModel",
          "model_module_version": "1.5.0",
          "state": {
            "_model_module": "@jupyter-widgets/controls",
            "_model_module_version": "1.5.0",
            "_model_name": "DescriptionStyleModel",
            "_view_count": null,
            "_view_module": "@jupyter-widgets/base",
            "_view_module_version": "1.2.0",
            "_view_name": "StyleView",
            "description_width": ""
          }
        },
        "12cfd8dd7c8b43dcb5fe6ceb405dedf4": {
          "model_module": "@jupyter-widgets/base",
          "model_name": "LayoutModel",
          "model_module_version": "1.2.0",
          "state": {
            "_model_module": "@jupyter-widgets/base",
            "_model_module_version": "1.2.0",
            "_model_name": "LayoutModel",
            "_view_count": null,
            "_view_module": "@jupyter-widgets/base",
            "_view_module_version": "1.2.0",
            "_view_name": "LayoutView",
            "align_content": null,
            "align_items": null,
            "align_self": null,
            "border": null,
            "bottom": null,
            "display": null,
            "flex": null,
            "flex_flow": null,
            "grid_area": null,
            "grid_auto_columns": null,
            "grid_auto_flow": null,
            "grid_auto_rows": null,
            "grid_column": null,
            "grid_gap": null,
            "grid_row": null,
            "grid_template_areas": null,
            "grid_template_columns": null,
            "grid_template_rows": null,
            "height": null,
            "justify_content": null,
            "justify_items": null,
            "left": null,
            "margin": null,
            "max_height": null,
            "max_width": null,
            "min_height": null,
            "min_width": null,
            "object_fit": null,
            "object_position": null,
            "order": null,
            "overflow": null,
            "overflow_x": null,
            "overflow_y": null,
            "padding": null,
            "right": null,
            "top": null,
            "visibility": null,
            "width": null
          }
        },
        "d1c3cf7c7228436ab6cdf35681a8ff5a": {
          "model_module": "@jupyter-widgets/controls",
          "model_name": "ProgressStyleModel",
          "model_module_version": "1.5.0",
          "state": {
            "_model_module": "@jupyter-widgets/controls",
            "_model_module_version": "1.5.0",
            "_model_name": "ProgressStyleModel",
            "_view_count": null,
            "_view_module": "@jupyter-widgets/base",
            "_view_module_version": "1.2.0",
            "_view_name": "StyleView",
            "bar_color": null,
            "description_width": ""
          }
        },
        "2a22b4b19f314decab69704da9cbea55": {
          "model_module": "@jupyter-widgets/base",
          "model_name": "LayoutModel",
          "model_module_version": "1.2.0",
          "state": {
            "_model_module": "@jupyter-widgets/base",
            "_model_module_version": "1.2.0",
            "_model_name": "LayoutModel",
            "_view_count": null,
            "_view_module": "@jupyter-widgets/base",
            "_view_module_version": "1.2.0",
            "_view_name": "LayoutView",
            "align_content": null,
            "align_items": null,
            "align_self": null,
            "border": null,
            "bottom": null,
            "display": null,
            "flex": null,
            "flex_flow": null,
            "grid_area": null,
            "grid_auto_columns": null,
            "grid_auto_flow": null,
            "grid_auto_rows": null,
            "grid_column": null,
            "grid_gap": null,
            "grid_row": null,
            "grid_template_areas": null,
            "grid_template_columns": null,
            "grid_template_rows": null,
            "height": null,
            "justify_content": null,
            "justify_items": null,
            "left": null,
            "margin": null,
            "max_height": null,
            "max_width": null,
            "min_height": null,
            "min_width": null,
            "object_fit": null,
            "object_position": null,
            "order": null,
            "overflow": null,
            "overflow_x": null,
            "overflow_y": null,
            "padding": null,
            "right": null,
            "top": null,
            "visibility": null,
            "width": null
          }
        },
        "b32d2456f9d84a9b8cfbbcfc5ac9d54b": {
          "model_module": "@jupyter-widgets/controls",
          "model_name": "DescriptionStyleModel",
          "model_module_version": "1.5.0",
          "state": {
            "_model_module": "@jupyter-widgets/controls",
            "_model_module_version": "1.5.0",
            "_model_name": "DescriptionStyleModel",
            "_view_count": null,
            "_view_module": "@jupyter-widgets/base",
            "_view_module_version": "1.2.0",
            "_view_name": "StyleView",
            "description_width": ""
          }
        },
        "d62cde166862419ea7d143d1a27ff53b": {
          "model_module": "@jupyter-widgets/controls",
          "model_name": "HBoxModel",
          "model_module_version": "1.5.0",
          "state": {
            "_dom_classes": [],
            "_model_module": "@jupyter-widgets/controls",
            "_model_module_version": "1.5.0",
            "_model_name": "HBoxModel",
            "_view_count": null,
            "_view_module": "@jupyter-widgets/controls",
            "_view_module_version": "1.5.0",
            "_view_name": "HBoxView",
            "box_style": "",
            "children": [
              "IPY_MODEL_bfe165674fe740708b8cd1bb1f828411",
              "IPY_MODEL_f5b6bd034a48466ab742d4c82c8847c5",
              "IPY_MODEL_0241733d8c6c46738436be90c9897d42"
            ],
            "layout": "IPY_MODEL_b01e1f07e99048d9b9f161ccf9ef77e0"
          }
        },
        "bfe165674fe740708b8cd1bb1f828411": {
          "model_module": "@jupyter-widgets/controls",
          "model_name": "HTMLModel",
          "model_module_version": "1.5.0",
          "state": {
            "_dom_classes": [],
            "_model_module": "@jupyter-widgets/controls",
            "_model_module_version": "1.5.0",
            "_model_name": "HTMLModel",
            "_view_count": null,
            "_view_module": "@jupyter-widgets/controls",
            "_view_module_version": "1.5.0",
            "_view_name": "HTMLView",
            "description": "",
            "description_tooltip": null,
            "layout": "IPY_MODEL_766188487d444b7a97d509058b18b2a0",
            "placeholder": "​",
            "style": "IPY_MODEL_fc3c32c8f324479faf509f406b992b30",
            "value": "sentence_bert_config.json: 100%"
          }
        },
        "f5b6bd034a48466ab742d4c82c8847c5": {
          "model_module": "@jupyter-widgets/controls",
          "model_name": "FloatProgressModel",
          "model_module_version": "1.5.0",
          "state": {
            "_dom_classes": [],
            "_model_module": "@jupyter-widgets/controls",
            "_model_module_version": "1.5.0",
            "_model_name": "FloatProgressModel",
            "_view_count": null,
            "_view_module": "@jupyter-widgets/controls",
            "_view_module_version": "1.5.0",
            "_view_name": "ProgressView",
            "bar_style": "success",
            "description": "",
            "description_tooltip": null,
            "layout": "IPY_MODEL_74b4636dbcfb427c92c7b0d3b1e30457",
            "max": 53,
            "min": 0,
            "orientation": "horizontal",
            "style": "IPY_MODEL_ba8ef59dd5ab437ba9cc246c937d145c",
            "value": 53
          }
        },
        "0241733d8c6c46738436be90c9897d42": {
          "model_module": "@jupyter-widgets/controls",
          "model_name": "HTMLModel",
          "model_module_version": "1.5.0",
          "state": {
            "_dom_classes": [],
            "_model_module": "@jupyter-widgets/controls",
            "_model_module_version": "1.5.0",
            "_model_name": "HTMLModel",
            "_view_count": null,
            "_view_module": "@jupyter-widgets/controls",
            "_view_module_version": "1.5.0",
            "_view_name": "HTMLView",
            "description": "",
            "description_tooltip": null,
            "layout": "IPY_MODEL_ee990c44ca4e4bf3ab9e8550fd449d51",
            "placeholder": "​",
            "style": "IPY_MODEL_67de0502edf2437797885a77cd5d3866",
            "value": " 53.0/53.0 [00:00&lt;00:00, 6.68kB/s]"
          }
        },
        "b01e1f07e99048d9b9f161ccf9ef77e0": {
          "model_module": "@jupyter-widgets/base",
          "model_name": "LayoutModel",
          "model_module_version": "1.2.0",
          "state": {
            "_model_module": "@jupyter-widgets/base",
            "_model_module_version": "1.2.0",
            "_model_name": "LayoutModel",
            "_view_count": null,
            "_view_module": "@jupyter-widgets/base",
            "_view_module_version": "1.2.0",
            "_view_name": "LayoutView",
            "align_content": null,
            "align_items": null,
            "align_self": null,
            "border": null,
            "bottom": null,
            "display": null,
            "flex": null,
            "flex_flow": null,
            "grid_area": null,
            "grid_auto_columns": null,
            "grid_auto_flow": null,
            "grid_auto_rows": null,
            "grid_column": null,
            "grid_gap": null,
            "grid_row": null,
            "grid_template_areas": null,
            "grid_template_columns": null,
            "grid_template_rows": null,
            "height": null,
            "justify_content": null,
            "justify_items": null,
            "left": null,
            "margin": null,
            "max_height": null,
            "max_width": null,
            "min_height": null,
            "min_width": null,
            "object_fit": null,
            "object_position": null,
            "order": null,
            "overflow": null,
            "overflow_x": null,
            "overflow_y": null,
            "padding": null,
            "right": null,
            "top": null,
            "visibility": null,
            "width": null
          }
        },
        "766188487d444b7a97d509058b18b2a0": {
          "model_module": "@jupyter-widgets/base",
          "model_name": "LayoutModel",
          "model_module_version": "1.2.0",
          "state": {
            "_model_module": "@jupyter-widgets/base",
            "_model_module_version": "1.2.0",
            "_model_name": "LayoutModel",
            "_view_count": null,
            "_view_module": "@jupyter-widgets/base",
            "_view_module_version": "1.2.0",
            "_view_name": "LayoutView",
            "align_content": null,
            "align_items": null,
            "align_self": null,
            "border": null,
            "bottom": null,
            "display": null,
            "flex": null,
            "flex_flow": null,
            "grid_area": null,
            "grid_auto_columns": null,
            "grid_auto_flow": null,
            "grid_auto_rows": null,
            "grid_column": null,
            "grid_gap": null,
            "grid_row": null,
            "grid_template_areas": null,
            "grid_template_columns": null,
            "grid_template_rows": null,
            "height": null,
            "justify_content": null,
            "justify_items": null,
            "left": null,
            "margin": null,
            "max_height": null,
            "max_width": null,
            "min_height": null,
            "min_width": null,
            "object_fit": null,
            "object_position": null,
            "order": null,
            "overflow": null,
            "overflow_x": null,
            "overflow_y": null,
            "padding": null,
            "right": null,
            "top": null,
            "visibility": null,
            "width": null
          }
        },
        "fc3c32c8f324479faf509f406b992b30": {
          "model_module": "@jupyter-widgets/controls",
          "model_name": "DescriptionStyleModel",
          "model_module_version": "1.5.0",
          "state": {
            "_model_module": "@jupyter-widgets/controls",
            "_model_module_version": "1.5.0",
            "_model_name": "DescriptionStyleModel",
            "_view_count": null,
            "_view_module": "@jupyter-widgets/base",
            "_view_module_version": "1.2.0",
            "_view_name": "StyleView",
            "description_width": ""
          }
        },
        "74b4636dbcfb427c92c7b0d3b1e30457": {
          "model_module": "@jupyter-widgets/base",
          "model_name": "LayoutModel",
          "model_module_version": "1.2.0",
          "state": {
            "_model_module": "@jupyter-widgets/base",
            "_model_module_version": "1.2.0",
            "_model_name": "LayoutModel",
            "_view_count": null,
            "_view_module": "@jupyter-widgets/base",
            "_view_module_version": "1.2.0",
            "_view_name": "LayoutView",
            "align_content": null,
            "align_items": null,
            "align_self": null,
            "border": null,
            "bottom": null,
            "display": null,
            "flex": null,
            "flex_flow": null,
            "grid_area": null,
            "grid_auto_columns": null,
            "grid_auto_flow": null,
            "grid_auto_rows": null,
            "grid_column": null,
            "grid_gap": null,
            "grid_row": null,
            "grid_template_areas": null,
            "grid_template_columns": null,
            "grid_template_rows": null,
            "height": null,
            "justify_content": null,
            "justify_items": null,
            "left": null,
            "margin": null,
            "max_height": null,
            "max_width": null,
            "min_height": null,
            "min_width": null,
            "object_fit": null,
            "object_position": null,
            "order": null,
            "overflow": null,
            "overflow_x": null,
            "overflow_y": null,
            "padding": null,
            "right": null,
            "top": null,
            "visibility": null,
            "width": null
          }
        },
        "ba8ef59dd5ab437ba9cc246c937d145c": {
          "model_module": "@jupyter-widgets/controls",
          "model_name": "ProgressStyleModel",
          "model_module_version": "1.5.0",
          "state": {
            "_model_module": "@jupyter-widgets/controls",
            "_model_module_version": "1.5.0",
            "_model_name": "ProgressStyleModel",
            "_view_count": null,
            "_view_module": "@jupyter-widgets/base",
            "_view_module_version": "1.2.0",
            "_view_name": "StyleView",
            "bar_color": null,
            "description_width": ""
          }
        },
        "ee990c44ca4e4bf3ab9e8550fd449d51": {
          "model_module": "@jupyter-widgets/base",
          "model_name": "LayoutModel",
          "model_module_version": "1.2.0",
          "state": {
            "_model_module": "@jupyter-widgets/base",
            "_model_module_version": "1.2.0",
            "_model_name": "LayoutModel",
            "_view_count": null,
            "_view_module": "@jupyter-widgets/base",
            "_view_module_version": "1.2.0",
            "_view_name": "LayoutView",
            "align_content": null,
            "align_items": null,
            "align_self": null,
            "border": null,
            "bottom": null,
            "display": null,
            "flex": null,
            "flex_flow": null,
            "grid_area": null,
            "grid_auto_columns": null,
            "grid_auto_flow": null,
            "grid_auto_rows": null,
            "grid_column": null,
            "grid_gap": null,
            "grid_row": null,
            "grid_template_areas": null,
            "grid_template_columns": null,
            "grid_template_rows": null,
            "height": null,
            "justify_content": null,
            "justify_items": null,
            "left": null,
            "margin": null,
            "max_height": null,
            "max_width": null,
            "min_height": null,
            "min_width": null,
            "object_fit": null,
            "object_position": null,
            "order": null,
            "overflow": null,
            "overflow_x": null,
            "overflow_y": null,
            "padding": null,
            "right": null,
            "top": null,
            "visibility": null,
            "width": null
          }
        },
        "67de0502edf2437797885a77cd5d3866": {
          "model_module": "@jupyter-widgets/controls",
          "model_name": "DescriptionStyleModel",
          "model_module_version": "1.5.0",
          "state": {
            "_model_module": "@jupyter-widgets/controls",
            "_model_module_version": "1.5.0",
            "_model_name": "DescriptionStyleModel",
            "_view_count": null,
            "_view_module": "@jupyter-widgets/base",
            "_view_module_version": "1.2.0",
            "_view_name": "StyleView",
            "description_width": ""
          }
        },
        "f17c6959aa86402a8d53251bb9b6ccff": {
          "model_module": "@jupyter-widgets/controls",
          "model_name": "HBoxModel",
          "model_module_version": "1.5.0",
          "state": {
            "_dom_classes": [],
            "_model_module": "@jupyter-widgets/controls",
            "_model_module_version": "1.5.0",
            "_model_name": "HBoxModel",
            "_view_count": null,
            "_view_module": "@jupyter-widgets/controls",
            "_view_module_version": "1.5.0",
            "_view_name": "HBoxView",
            "box_style": "",
            "children": [
              "IPY_MODEL_d7632dc0bb854ab297ab8838bb397af5",
              "IPY_MODEL_2334150c9c9240d196a3f07ff4bb52c2",
              "IPY_MODEL_4537ea5bda8b4789ba9e08ab6701b24e"
            ],
            "layout": "IPY_MODEL_9dfd9f7bba714c09a78162d84a693853"
          }
        },
        "d7632dc0bb854ab297ab8838bb397af5": {
          "model_module": "@jupyter-widgets/controls",
          "model_name": "HTMLModel",
          "model_module_version": "1.5.0",
          "state": {
            "_dom_classes": [],
            "_model_module": "@jupyter-widgets/controls",
            "_model_module_version": "1.5.0",
            "_model_name": "HTMLModel",
            "_view_count": null,
            "_view_module": "@jupyter-widgets/controls",
            "_view_module_version": "1.5.0",
            "_view_name": "HTMLView",
            "description": "",
            "description_tooltip": null,
            "layout": "IPY_MODEL_c66706208e1d4b7ea85d3c78f7fc5b97",
            "placeholder": "​",
            "style": "IPY_MODEL_76db1b7cb4e947c58c622672ee94dcf2",
            "value": "config.json: 100%"
          }
        },
        "2334150c9c9240d196a3f07ff4bb52c2": {
          "model_module": "@jupyter-widgets/controls",
          "model_name": "FloatProgressModel",
          "model_module_version": "1.5.0",
          "state": {
            "_dom_classes": [],
            "_model_module": "@jupyter-widgets/controls",
            "_model_module_version": "1.5.0",
            "_model_name": "FloatProgressModel",
            "_view_count": null,
            "_view_module": "@jupyter-widgets/controls",
            "_view_module_version": "1.5.0",
            "_view_name": "ProgressView",
            "bar_style": "success",
            "description": "",
            "description_tooltip": null,
            "layout": "IPY_MODEL_8ab0e1bfd6e54c31b6762ba48020d7b1",
            "max": 612,
            "min": 0,
            "orientation": "horizontal",
            "style": "IPY_MODEL_fcf9c1645fd44087979e23793387a3f0",
            "value": 612
          }
        },
        "4537ea5bda8b4789ba9e08ab6701b24e": {
          "model_module": "@jupyter-widgets/controls",
          "model_name": "HTMLModel",
          "model_module_version": "1.5.0",
          "state": {
            "_dom_classes": [],
            "_model_module": "@jupyter-widgets/controls",
            "_model_module_version": "1.5.0",
            "_model_name": "HTMLModel",
            "_view_count": null,
            "_view_module": "@jupyter-widgets/controls",
            "_view_module_version": "1.5.0",
            "_view_name": "HTMLView",
            "description": "",
            "description_tooltip": null,
            "layout": "IPY_MODEL_3fadbc224a7c40a29808b1450276444b",
            "placeholder": "​",
            "style": "IPY_MODEL_5c8ff6aa1ddb40d98106ca292b22f41d",
            "value": " 612/612 [00:00&lt;00:00, 79.7kB/s]"
          }
        },
        "9dfd9f7bba714c09a78162d84a693853": {
          "model_module": "@jupyter-widgets/base",
          "model_name": "LayoutModel",
          "model_module_version": "1.2.0",
          "state": {
            "_model_module": "@jupyter-widgets/base",
            "_model_module_version": "1.2.0",
            "_model_name": "LayoutModel",
            "_view_count": null,
            "_view_module": "@jupyter-widgets/base",
            "_view_module_version": "1.2.0",
            "_view_name": "LayoutView",
            "align_content": null,
            "align_items": null,
            "align_self": null,
            "border": null,
            "bottom": null,
            "display": null,
            "flex": null,
            "flex_flow": null,
            "grid_area": null,
            "grid_auto_columns": null,
            "grid_auto_flow": null,
            "grid_auto_rows": null,
            "grid_column": null,
            "grid_gap": null,
            "grid_row": null,
            "grid_template_areas": null,
            "grid_template_columns": null,
            "grid_template_rows": null,
            "height": null,
            "justify_content": null,
            "justify_items": null,
            "left": null,
            "margin": null,
            "max_height": null,
            "max_width": null,
            "min_height": null,
            "min_width": null,
            "object_fit": null,
            "object_position": null,
            "order": null,
            "overflow": null,
            "overflow_x": null,
            "overflow_y": null,
            "padding": null,
            "right": null,
            "top": null,
            "visibility": null,
            "width": null
          }
        },
        "c66706208e1d4b7ea85d3c78f7fc5b97": {
          "model_module": "@jupyter-widgets/base",
          "model_name": "LayoutModel",
          "model_module_version": "1.2.0",
          "state": {
            "_model_module": "@jupyter-widgets/base",
            "_model_module_version": "1.2.0",
            "_model_name": "LayoutModel",
            "_view_count": null,
            "_view_module": "@jupyter-widgets/base",
            "_view_module_version": "1.2.0",
            "_view_name": "LayoutView",
            "align_content": null,
            "align_items": null,
            "align_self": null,
            "border": null,
            "bottom": null,
            "display": null,
            "flex": null,
            "flex_flow": null,
            "grid_area": null,
            "grid_auto_columns": null,
            "grid_auto_flow": null,
            "grid_auto_rows": null,
            "grid_column": null,
            "grid_gap": null,
            "grid_row": null,
            "grid_template_areas": null,
            "grid_template_columns": null,
            "grid_template_rows": null,
            "height": null,
            "justify_content": null,
            "justify_items": null,
            "left": null,
            "margin": null,
            "max_height": null,
            "max_width": null,
            "min_height": null,
            "min_width": null,
            "object_fit": null,
            "object_position": null,
            "order": null,
            "overflow": null,
            "overflow_x": null,
            "overflow_y": null,
            "padding": null,
            "right": null,
            "top": null,
            "visibility": null,
            "width": null
          }
        },
        "76db1b7cb4e947c58c622672ee94dcf2": {
          "model_module": "@jupyter-widgets/controls",
          "model_name": "DescriptionStyleModel",
          "model_module_version": "1.5.0",
          "state": {
            "_model_module": "@jupyter-widgets/controls",
            "_model_module_version": "1.5.0",
            "_model_name": "DescriptionStyleModel",
            "_view_count": null,
            "_view_module": "@jupyter-widgets/base",
            "_view_module_version": "1.2.0",
            "_view_name": "StyleView",
            "description_width": ""
          }
        },
        "8ab0e1bfd6e54c31b6762ba48020d7b1": {
          "model_module": "@jupyter-widgets/base",
          "model_name": "LayoutModel",
          "model_module_version": "1.2.0",
          "state": {
            "_model_module": "@jupyter-widgets/base",
            "_model_module_version": "1.2.0",
            "_model_name": "LayoutModel",
            "_view_count": null,
            "_view_module": "@jupyter-widgets/base",
            "_view_module_version": "1.2.0",
            "_view_name": "LayoutView",
            "align_content": null,
            "align_items": null,
            "align_self": null,
            "border": null,
            "bottom": null,
            "display": null,
            "flex": null,
            "flex_flow": null,
            "grid_area": null,
            "grid_auto_columns": null,
            "grid_auto_flow": null,
            "grid_auto_rows": null,
            "grid_column": null,
            "grid_gap": null,
            "grid_row": null,
            "grid_template_areas": null,
            "grid_template_columns": null,
            "grid_template_rows": null,
            "height": null,
            "justify_content": null,
            "justify_items": null,
            "left": null,
            "margin": null,
            "max_height": null,
            "max_width": null,
            "min_height": null,
            "min_width": null,
            "object_fit": null,
            "object_position": null,
            "order": null,
            "overflow": null,
            "overflow_x": null,
            "overflow_y": null,
            "padding": null,
            "right": null,
            "top": null,
            "visibility": null,
            "width": null
          }
        },
        "fcf9c1645fd44087979e23793387a3f0": {
          "model_module": "@jupyter-widgets/controls",
          "model_name": "ProgressStyleModel",
          "model_module_version": "1.5.0",
          "state": {
            "_model_module": "@jupyter-widgets/controls",
            "_model_module_version": "1.5.0",
            "_model_name": "ProgressStyleModel",
            "_view_count": null,
            "_view_module": "@jupyter-widgets/base",
            "_view_module_version": "1.2.0",
            "_view_name": "StyleView",
            "bar_color": null,
            "description_width": ""
          }
        },
        "3fadbc224a7c40a29808b1450276444b": {
          "model_module": "@jupyter-widgets/base",
          "model_name": "LayoutModel",
          "model_module_version": "1.2.0",
          "state": {
            "_model_module": "@jupyter-widgets/base",
            "_model_module_version": "1.2.0",
            "_model_name": "LayoutModel",
            "_view_count": null,
            "_view_module": "@jupyter-widgets/base",
            "_view_module_version": "1.2.0",
            "_view_name": "LayoutView",
            "align_content": null,
            "align_items": null,
            "align_self": null,
            "border": null,
            "bottom": null,
            "display": null,
            "flex": null,
            "flex_flow": null,
            "grid_area": null,
            "grid_auto_columns": null,
            "grid_auto_flow": null,
            "grid_auto_rows": null,
            "grid_column": null,
            "grid_gap": null,
            "grid_row": null,
            "grid_template_areas": null,
            "grid_template_columns": null,
            "grid_template_rows": null,
            "height": null,
            "justify_content": null,
            "justify_items": null,
            "left": null,
            "margin": null,
            "max_height": null,
            "max_width": null,
            "min_height": null,
            "min_width": null,
            "object_fit": null,
            "object_position": null,
            "order": null,
            "overflow": null,
            "overflow_x": null,
            "overflow_y": null,
            "padding": null,
            "right": null,
            "top": null,
            "visibility": null,
            "width": null
          }
        },
        "5c8ff6aa1ddb40d98106ca292b22f41d": {
          "model_module": "@jupyter-widgets/controls",
          "model_name": "DescriptionStyleModel",
          "model_module_version": "1.5.0",
          "state": {
            "_model_module": "@jupyter-widgets/controls",
            "_model_module_version": "1.5.0",
            "_model_name": "DescriptionStyleModel",
            "_view_count": null,
            "_view_module": "@jupyter-widgets/base",
            "_view_module_version": "1.2.0",
            "_view_name": "StyleView",
            "description_width": ""
          }
        },
        "b9bbb20024f1465ebdab79d53916a3bb": {
          "model_module": "@jupyter-widgets/controls",
          "model_name": "HBoxModel",
          "model_module_version": "1.5.0",
          "state": {
            "_dom_classes": [],
            "_model_module": "@jupyter-widgets/controls",
            "_model_module_version": "1.5.0",
            "_model_name": "HBoxModel",
            "_view_count": null,
            "_view_module": "@jupyter-widgets/controls",
            "_view_module_version": "1.5.0",
            "_view_name": "HBoxView",
            "box_style": "",
            "children": [
              "IPY_MODEL_32a619d47a4340d5ac4e2318f4326592",
              "IPY_MODEL_9594a5be53be4e46916a0728cd40899f",
              "IPY_MODEL_7d9b6624b80c43669818cfff19eec3e5"
            ],
            "layout": "IPY_MODEL_e9cfac294ea342ada3a5167d3979c7ac"
          }
        },
        "32a619d47a4340d5ac4e2318f4326592": {
          "model_module": "@jupyter-widgets/controls",
          "model_name": "HTMLModel",
          "model_module_version": "1.5.0",
          "state": {
            "_dom_classes": [],
            "_model_module": "@jupyter-widgets/controls",
            "_model_module_version": "1.5.0",
            "_model_name": "HTMLModel",
            "_view_count": null,
            "_view_module": "@jupyter-widgets/controls",
            "_view_module_version": "1.5.0",
            "_view_name": "HTMLView",
            "description": "",
            "description_tooltip": null,
            "layout": "IPY_MODEL_86dc644158104626b15f0022746c9627",
            "placeholder": "​",
            "style": "IPY_MODEL_631c259bcf9a4c0e863ef281c03701ed",
            "value": "model.safetensors: 100%"
          }
        },
        "9594a5be53be4e46916a0728cd40899f": {
          "model_module": "@jupyter-widgets/controls",
          "model_name": "FloatProgressModel",
          "model_module_version": "1.5.0",
          "state": {
            "_dom_classes": [],
            "_model_module": "@jupyter-widgets/controls",
            "_model_module_version": "1.5.0",
            "_model_name": "FloatProgressModel",
            "_view_count": null,
            "_view_module": "@jupyter-widgets/controls",
            "_view_module_version": "1.5.0",
            "_view_name": "ProgressView",
            "bar_style": "success",
            "description": "",
            "description_tooltip": null,
            "layout": "IPY_MODEL_3e3597b65e5b4c99a95ad69aa88592c9",
            "max": 90868376,
            "min": 0,
            "orientation": "horizontal",
            "style": "IPY_MODEL_8ec10bbc118b4bb19c0474eb4e942247",
            "value": 90868376
          }
        },
        "7d9b6624b80c43669818cfff19eec3e5": {
          "model_module": "@jupyter-widgets/controls",
          "model_name": "HTMLModel",
          "model_module_version": "1.5.0",
          "state": {
            "_dom_classes": [],
            "_model_module": "@jupyter-widgets/controls",
            "_model_module_version": "1.5.0",
            "_model_name": "HTMLModel",
            "_view_count": null,
            "_view_module": "@jupyter-widgets/controls",
            "_view_module_version": "1.5.0",
            "_view_name": "HTMLView",
            "description": "",
            "description_tooltip": null,
            "layout": "IPY_MODEL_dd4478503dfb4218a2e4da4f2a4d5f35",
            "placeholder": "​",
            "style": "IPY_MODEL_2592970933654aa9a0cd72affe76102c",
            "value": " 90.9M/90.9M [00:00&lt;00:00, 329MB/s]"
          }
        },
        "e9cfac294ea342ada3a5167d3979c7ac": {
          "model_module": "@jupyter-widgets/base",
          "model_name": "LayoutModel",
          "model_module_version": "1.2.0",
          "state": {
            "_model_module": "@jupyter-widgets/base",
            "_model_module_version": "1.2.0",
            "_model_name": "LayoutModel",
            "_view_count": null,
            "_view_module": "@jupyter-widgets/base",
            "_view_module_version": "1.2.0",
            "_view_name": "LayoutView",
            "align_content": null,
            "align_items": null,
            "align_self": null,
            "border": null,
            "bottom": null,
            "display": null,
            "flex": null,
            "flex_flow": null,
            "grid_area": null,
            "grid_auto_columns": null,
            "grid_auto_flow": null,
            "grid_auto_rows": null,
            "grid_column": null,
            "grid_gap": null,
            "grid_row": null,
            "grid_template_areas": null,
            "grid_template_columns": null,
            "grid_template_rows": null,
            "height": null,
            "justify_content": null,
            "justify_items": null,
            "left": null,
            "margin": null,
            "max_height": null,
            "max_width": null,
            "min_height": null,
            "min_width": null,
            "object_fit": null,
            "object_position": null,
            "order": null,
            "overflow": null,
            "overflow_x": null,
            "overflow_y": null,
            "padding": null,
            "right": null,
            "top": null,
            "visibility": null,
            "width": null
          }
        },
        "86dc644158104626b15f0022746c9627": {
          "model_module": "@jupyter-widgets/base",
          "model_name": "LayoutModel",
          "model_module_version": "1.2.0",
          "state": {
            "_model_module": "@jupyter-widgets/base",
            "_model_module_version": "1.2.0",
            "_model_name": "LayoutModel",
            "_view_count": null,
            "_view_module": "@jupyter-widgets/base",
            "_view_module_version": "1.2.0",
            "_view_name": "LayoutView",
            "align_content": null,
            "align_items": null,
            "align_self": null,
            "border": null,
            "bottom": null,
            "display": null,
            "flex": null,
            "flex_flow": null,
            "grid_area": null,
            "grid_auto_columns": null,
            "grid_auto_flow": null,
            "grid_auto_rows": null,
            "grid_column": null,
            "grid_gap": null,
            "grid_row": null,
            "grid_template_areas": null,
            "grid_template_columns": null,
            "grid_template_rows": null,
            "height": null,
            "justify_content": null,
            "justify_items": null,
            "left": null,
            "margin": null,
            "max_height": null,
            "max_width": null,
            "min_height": null,
            "min_width": null,
            "object_fit": null,
            "object_position": null,
            "order": null,
            "overflow": null,
            "overflow_x": null,
            "overflow_y": null,
            "padding": null,
            "right": null,
            "top": null,
            "visibility": null,
            "width": null
          }
        },
        "631c259bcf9a4c0e863ef281c03701ed": {
          "model_module": "@jupyter-widgets/controls",
          "model_name": "DescriptionStyleModel",
          "model_module_version": "1.5.0",
          "state": {
            "_model_module": "@jupyter-widgets/controls",
            "_model_module_version": "1.5.0",
            "_model_name": "DescriptionStyleModel",
            "_view_count": null,
            "_view_module": "@jupyter-widgets/base",
            "_view_module_version": "1.2.0",
            "_view_name": "StyleView",
            "description_width": ""
          }
        },
        "3e3597b65e5b4c99a95ad69aa88592c9": {
          "model_module": "@jupyter-widgets/base",
          "model_name": "LayoutModel",
          "model_module_version": "1.2.0",
          "state": {
            "_model_module": "@jupyter-widgets/base",
            "_model_module_version": "1.2.0",
            "_model_name": "LayoutModel",
            "_view_count": null,
            "_view_module": "@jupyter-widgets/base",
            "_view_module_version": "1.2.0",
            "_view_name": "LayoutView",
            "align_content": null,
            "align_items": null,
            "align_self": null,
            "border": null,
            "bottom": null,
            "display": null,
            "flex": null,
            "flex_flow": null,
            "grid_area": null,
            "grid_auto_columns": null,
            "grid_auto_flow": null,
            "grid_auto_rows": null,
            "grid_column": null,
            "grid_gap": null,
            "grid_row": null,
            "grid_template_areas": null,
            "grid_template_columns": null,
            "grid_template_rows": null,
            "height": null,
            "justify_content": null,
            "justify_items": null,
            "left": null,
            "margin": null,
            "max_height": null,
            "max_width": null,
            "min_height": null,
            "min_width": null,
            "object_fit": null,
            "object_position": null,
            "order": null,
            "overflow": null,
            "overflow_x": null,
            "overflow_y": null,
            "padding": null,
            "right": null,
            "top": null,
            "visibility": null,
            "width": null
          }
        },
        "8ec10bbc118b4bb19c0474eb4e942247": {
          "model_module": "@jupyter-widgets/controls",
          "model_name": "ProgressStyleModel",
          "model_module_version": "1.5.0",
          "state": {
            "_model_module": "@jupyter-widgets/controls",
            "_model_module_version": "1.5.0",
            "_model_name": "ProgressStyleModel",
            "_view_count": null,
            "_view_module": "@jupyter-widgets/base",
            "_view_module_version": "1.2.0",
            "_view_name": "StyleView",
            "bar_color": null,
            "description_width": ""
          }
        },
        "dd4478503dfb4218a2e4da4f2a4d5f35": {
          "model_module": "@jupyter-widgets/base",
          "model_name": "LayoutModel",
          "model_module_version": "1.2.0",
          "state": {
            "_model_module": "@jupyter-widgets/base",
            "_model_module_version": "1.2.0",
            "_model_name": "LayoutModel",
            "_view_count": null,
            "_view_module": "@jupyter-widgets/base",
            "_view_module_version": "1.2.0",
            "_view_name": "LayoutView",
            "align_content": null,
            "align_items": null,
            "align_self": null,
            "border": null,
            "bottom": null,
            "display": null,
            "flex": null,
            "flex_flow": null,
            "grid_area": null,
            "grid_auto_columns": null,
            "grid_auto_flow": null,
            "grid_auto_rows": null,
            "grid_column": null,
            "grid_gap": null,
            "grid_row": null,
            "grid_template_areas": null,
            "grid_template_columns": null,
            "grid_template_rows": null,
            "height": null,
            "justify_content": null,
            "justify_items": null,
            "left": null,
            "margin": null,
            "max_height": null,
            "max_width": null,
            "min_height": null,
            "min_width": null,
            "object_fit": null,
            "object_position": null,
            "order": null,
            "overflow": null,
            "overflow_x": null,
            "overflow_y": null,
            "padding": null,
            "right": null,
            "top": null,
            "visibility": null,
            "width": null
          }
        },
        "2592970933654aa9a0cd72affe76102c": {
          "model_module": "@jupyter-widgets/controls",
          "model_name": "DescriptionStyleModel",
          "model_module_version": "1.5.0",
          "state": {
            "_model_module": "@jupyter-widgets/controls",
            "_model_module_version": "1.5.0",
            "_model_name": "DescriptionStyleModel",
            "_view_count": null,
            "_view_module": "@jupyter-widgets/base",
            "_view_module_version": "1.2.0",
            "_view_name": "StyleView",
            "description_width": ""
          }
        },
        "52f41b355e384df7abcb442ad1b7605f": {
          "model_module": "@jupyter-widgets/controls",
          "model_name": "HBoxModel",
          "model_module_version": "1.5.0",
          "state": {
            "_dom_classes": [],
            "_model_module": "@jupyter-widgets/controls",
            "_model_module_version": "1.5.0",
            "_model_name": "HBoxModel",
            "_view_count": null,
            "_view_module": "@jupyter-widgets/controls",
            "_view_module_version": "1.5.0",
            "_view_name": "HBoxView",
            "box_style": "",
            "children": [
              "IPY_MODEL_982d02cb97d14b7bb70eda84d72d6dad",
              "IPY_MODEL_e17ed7b87d7a43be90b11a234c2bf5a4",
              "IPY_MODEL_145ea2ea89d848aaaa8ecd80a282ce9d"
            ],
            "layout": "IPY_MODEL_0f1e6246a3784beb9f5e94f2d8ead8db"
          }
        },
        "982d02cb97d14b7bb70eda84d72d6dad": {
          "model_module": "@jupyter-widgets/controls",
          "model_name": "HTMLModel",
          "model_module_version": "1.5.0",
          "state": {
            "_dom_classes": [],
            "_model_module": "@jupyter-widgets/controls",
            "_model_module_version": "1.5.0",
            "_model_name": "HTMLModel",
            "_view_count": null,
            "_view_module": "@jupyter-widgets/controls",
            "_view_module_version": "1.5.0",
            "_view_name": "HTMLView",
            "description": "",
            "description_tooltip": null,
            "layout": "IPY_MODEL_4c3f40f98f8b49e0a37d06fd75352324",
            "placeholder": "​",
            "style": "IPY_MODEL_826a788b8b3f4a349be34fed67503783",
            "value": "tokenizer_config.json: 100%"
          }
        },
        "e17ed7b87d7a43be90b11a234c2bf5a4": {
          "model_module": "@jupyter-widgets/controls",
          "model_name": "FloatProgressModel",
          "model_module_version": "1.5.0",
          "state": {
            "_dom_classes": [],
            "_model_module": "@jupyter-widgets/controls",
            "_model_module_version": "1.5.0",
            "_model_name": "FloatProgressModel",
            "_view_count": null,
            "_view_module": "@jupyter-widgets/controls",
            "_view_module_version": "1.5.0",
            "_view_name": "ProgressView",
            "bar_style": "success",
            "description": "",
            "description_tooltip": null,
            "layout": "IPY_MODEL_f06cf28f1ea6495aac78032c0e9b1269",
            "max": 350,
            "min": 0,
            "orientation": "horizontal",
            "style": "IPY_MODEL_6c68ef190cf043ca957d6dc82e38af0a",
            "value": 350
          }
        },
        "145ea2ea89d848aaaa8ecd80a282ce9d": {
          "model_module": "@jupyter-widgets/controls",
          "model_name": "HTMLModel",
          "model_module_version": "1.5.0",
          "state": {
            "_dom_classes": [],
            "_model_module": "@jupyter-widgets/controls",
            "_model_module_version": "1.5.0",
            "_model_name": "HTMLModel",
            "_view_count": null,
            "_view_module": "@jupyter-widgets/controls",
            "_view_module_version": "1.5.0",
            "_view_name": "HTMLView",
            "description": "",
            "description_tooltip": null,
            "layout": "IPY_MODEL_3c955e1104274a8ea03faee6f48a83ba",
            "placeholder": "​",
            "style": "IPY_MODEL_5a2adee781304bb19eeda9347266a23f",
            "value": " 350/350 [00:00&lt;00:00, 48.0kB/s]"
          }
        },
        "0f1e6246a3784beb9f5e94f2d8ead8db": {
          "model_module": "@jupyter-widgets/base",
          "model_name": "LayoutModel",
          "model_module_version": "1.2.0",
          "state": {
            "_model_module": "@jupyter-widgets/base",
            "_model_module_version": "1.2.0",
            "_model_name": "LayoutModel",
            "_view_count": null,
            "_view_module": "@jupyter-widgets/base",
            "_view_module_version": "1.2.0",
            "_view_name": "LayoutView",
            "align_content": null,
            "align_items": null,
            "align_self": null,
            "border": null,
            "bottom": null,
            "display": null,
            "flex": null,
            "flex_flow": null,
            "grid_area": null,
            "grid_auto_columns": null,
            "grid_auto_flow": null,
            "grid_auto_rows": null,
            "grid_column": null,
            "grid_gap": null,
            "grid_row": null,
            "grid_template_areas": null,
            "grid_template_columns": null,
            "grid_template_rows": null,
            "height": null,
            "justify_content": null,
            "justify_items": null,
            "left": null,
            "margin": null,
            "max_height": null,
            "max_width": null,
            "min_height": null,
            "min_width": null,
            "object_fit": null,
            "object_position": null,
            "order": null,
            "overflow": null,
            "overflow_x": null,
            "overflow_y": null,
            "padding": null,
            "right": null,
            "top": null,
            "visibility": null,
            "width": null
          }
        },
        "4c3f40f98f8b49e0a37d06fd75352324": {
          "model_module": "@jupyter-widgets/base",
          "model_name": "LayoutModel",
          "model_module_version": "1.2.0",
          "state": {
            "_model_module": "@jupyter-widgets/base",
            "_model_module_version": "1.2.0",
            "_model_name": "LayoutModel",
            "_view_count": null,
            "_view_module": "@jupyter-widgets/base",
            "_view_module_version": "1.2.0",
            "_view_name": "LayoutView",
            "align_content": null,
            "align_items": null,
            "align_self": null,
            "border": null,
            "bottom": null,
            "display": null,
            "flex": null,
            "flex_flow": null,
            "grid_area": null,
            "grid_auto_columns": null,
            "grid_auto_flow": null,
            "grid_auto_rows": null,
            "grid_column": null,
            "grid_gap": null,
            "grid_row": null,
            "grid_template_areas": null,
            "grid_template_columns": null,
            "grid_template_rows": null,
            "height": null,
            "justify_content": null,
            "justify_items": null,
            "left": null,
            "margin": null,
            "max_height": null,
            "max_width": null,
            "min_height": null,
            "min_width": null,
            "object_fit": null,
            "object_position": null,
            "order": null,
            "overflow": null,
            "overflow_x": null,
            "overflow_y": null,
            "padding": null,
            "right": null,
            "top": null,
            "visibility": null,
            "width": null
          }
        },
        "826a788b8b3f4a349be34fed67503783": {
          "model_module": "@jupyter-widgets/controls",
          "model_name": "DescriptionStyleModel",
          "model_module_version": "1.5.0",
          "state": {
            "_model_module": "@jupyter-widgets/controls",
            "_model_module_version": "1.5.0",
            "_model_name": "DescriptionStyleModel",
            "_view_count": null,
            "_view_module": "@jupyter-widgets/base",
            "_view_module_version": "1.2.0",
            "_view_name": "StyleView",
            "description_width": ""
          }
        },
        "f06cf28f1ea6495aac78032c0e9b1269": {
          "model_module": "@jupyter-widgets/base",
          "model_name": "LayoutModel",
          "model_module_version": "1.2.0",
          "state": {
            "_model_module": "@jupyter-widgets/base",
            "_model_module_version": "1.2.0",
            "_model_name": "LayoutModel",
            "_view_count": null,
            "_view_module": "@jupyter-widgets/base",
            "_view_module_version": "1.2.0",
            "_view_name": "LayoutView",
            "align_content": null,
            "align_items": null,
            "align_self": null,
            "border": null,
            "bottom": null,
            "display": null,
            "flex": null,
            "flex_flow": null,
            "grid_area": null,
            "grid_auto_columns": null,
            "grid_auto_flow": null,
            "grid_auto_rows": null,
            "grid_column": null,
            "grid_gap": null,
            "grid_row": null,
            "grid_template_areas": null,
            "grid_template_columns": null,
            "grid_template_rows": null,
            "height": null,
            "justify_content": null,
            "justify_items": null,
            "left": null,
            "margin": null,
            "max_height": null,
            "max_width": null,
            "min_height": null,
            "min_width": null,
            "object_fit": null,
            "object_position": null,
            "order": null,
            "overflow": null,
            "overflow_x": null,
            "overflow_y": null,
            "padding": null,
            "right": null,
            "top": null,
            "visibility": null,
            "width": null
          }
        },
        "6c68ef190cf043ca957d6dc82e38af0a": {
          "model_module": "@jupyter-widgets/controls",
          "model_name": "ProgressStyleModel",
          "model_module_version": "1.5.0",
          "state": {
            "_model_module": "@jupyter-widgets/controls",
            "_model_module_version": "1.5.0",
            "_model_name": "ProgressStyleModel",
            "_view_count": null,
            "_view_module": "@jupyter-widgets/base",
            "_view_module_version": "1.2.0",
            "_view_name": "StyleView",
            "bar_color": null,
            "description_width": ""
          }
        },
        "3c955e1104274a8ea03faee6f48a83ba": {
          "model_module": "@jupyter-widgets/base",
          "model_name": "LayoutModel",
          "model_module_version": "1.2.0",
          "state": {
            "_model_module": "@jupyter-widgets/base",
            "_model_module_version": "1.2.0",
            "_model_name": "LayoutModel",
            "_view_count": null,
            "_view_module": "@jupyter-widgets/base",
            "_view_module_version": "1.2.0",
            "_view_name": "LayoutView",
            "align_content": null,
            "align_items": null,
            "align_self": null,
            "border": null,
            "bottom": null,
            "display": null,
            "flex": null,
            "flex_flow": null,
            "grid_area": null,
            "grid_auto_columns": null,
            "grid_auto_flow": null,
            "grid_auto_rows": null,
            "grid_column": null,
            "grid_gap": null,
            "grid_row": null,
            "grid_template_areas": null,
            "grid_template_columns": null,
            "grid_template_rows": null,
            "height": null,
            "justify_content": null,
            "justify_items": null,
            "left": null,
            "margin": null,
            "max_height": null,
            "max_width": null,
            "min_height": null,
            "min_width": null,
            "object_fit": null,
            "object_position": null,
            "order": null,
            "overflow": null,
            "overflow_x": null,
            "overflow_y": null,
            "padding": null,
            "right": null,
            "top": null,
            "visibility": null,
            "width": null
          }
        },
        "5a2adee781304bb19eeda9347266a23f": {
          "model_module": "@jupyter-widgets/controls",
          "model_name": "DescriptionStyleModel",
          "model_module_version": "1.5.0",
          "state": {
            "_model_module": "@jupyter-widgets/controls",
            "_model_module_version": "1.5.0",
            "_model_name": "DescriptionStyleModel",
            "_view_count": null,
            "_view_module": "@jupyter-widgets/base",
            "_view_module_version": "1.2.0",
            "_view_name": "StyleView",
            "description_width": ""
          }
        },
        "6378f55d44df4b08862dd9ce69b0760c": {
          "model_module": "@jupyter-widgets/controls",
          "model_name": "HBoxModel",
          "model_module_version": "1.5.0",
          "state": {
            "_dom_classes": [],
            "_model_module": "@jupyter-widgets/controls",
            "_model_module_version": "1.5.0",
            "_model_name": "HBoxModel",
            "_view_count": null,
            "_view_module": "@jupyter-widgets/controls",
            "_view_module_version": "1.5.0",
            "_view_name": "HBoxView",
            "box_style": "",
            "children": [
              "IPY_MODEL_bf985793aa2946d28ab6624c9093a61f",
              "IPY_MODEL_35b2f0eb0e4f4a8f97cb12e15a88f1b8",
              "IPY_MODEL_31bc61e1ce95403ea9043bf31104faa0"
            ],
            "layout": "IPY_MODEL_bb486e29f04f4b04abe9d597cb7f9d9e"
          }
        },
        "bf985793aa2946d28ab6624c9093a61f": {
          "model_module": "@jupyter-widgets/controls",
          "model_name": "HTMLModel",
          "model_module_version": "1.5.0",
          "state": {
            "_dom_classes": [],
            "_model_module": "@jupyter-widgets/controls",
            "_model_module_version": "1.5.0",
            "_model_name": "HTMLModel",
            "_view_count": null,
            "_view_module": "@jupyter-widgets/controls",
            "_view_module_version": "1.5.0",
            "_view_name": "HTMLView",
            "description": "",
            "description_tooltip": null,
            "layout": "IPY_MODEL_6e0e719b580c41b89ed504d6c1ad1865",
            "placeholder": "​",
            "style": "IPY_MODEL_aa0864b6db764398b553b13d383b20a6",
            "value": "vocab.txt: 100%"
          }
        },
        "35b2f0eb0e4f4a8f97cb12e15a88f1b8": {
          "model_module": "@jupyter-widgets/controls",
          "model_name": "FloatProgressModel",
          "model_module_version": "1.5.0",
          "state": {
            "_dom_classes": [],
            "_model_module": "@jupyter-widgets/controls",
            "_model_module_version": "1.5.0",
            "_model_name": "FloatProgressModel",
            "_view_count": null,
            "_view_module": "@jupyter-widgets/controls",
            "_view_module_version": "1.5.0",
            "_view_name": "ProgressView",
            "bar_style": "success",
            "description": "",
            "description_tooltip": null,
            "layout": "IPY_MODEL_c6d381e7cc9149ea8ef17a9ada0c0cb8",
            "max": 231508,
            "min": 0,
            "orientation": "horizontal",
            "style": "IPY_MODEL_f7f88750eab44f2a853c09ecfd2d3964",
            "value": 231508
          }
        },
        "31bc61e1ce95403ea9043bf31104faa0": {
          "model_module": "@jupyter-widgets/controls",
          "model_name": "HTMLModel",
          "model_module_version": "1.5.0",
          "state": {
            "_dom_classes": [],
            "_model_module": "@jupyter-widgets/controls",
            "_model_module_version": "1.5.0",
            "_model_name": "HTMLModel",
            "_view_count": null,
            "_view_module": "@jupyter-widgets/controls",
            "_view_module_version": "1.5.0",
            "_view_name": "HTMLView",
            "description": "",
            "description_tooltip": null,
            "layout": "IPY_MODEL_628212a740284ec0add97eaffecd22a6",
            "placeholder": "​",
            "style": "IPY_MODEL_1984e89d59ee4fd182ac23bff90e7869",
            "value": " 232k/232k [00:00&lt;00:00, 672kB/s]"
          }
        },
        "bb486e29f04f4b04abe9d597cb7f9d9e": {
          "model_module": "@jupyter-widgets/base",
          "model_name": "LayoutModel",
          "model_module_version": "1.2.0",
          "state": {
            "_model_module": "@jupyter-widgets/base",
            "_model_module_version": "1.2.0",
            "_model_name": "LayoutModel",
            "_view_count": null,
            "_view_module": "@jupyter-widgets/base",
            "_view_module_version": "1.2.0",
            "_view_name": "LayoutView",
            "align_content": null,
            "align_items": null,
            "align_self": null,
            "border": null,
            "bottom": null,
            "display": null,
            "flex": null,
            "flex_flow": null,
            "grid_area": null,
            "grid_auto_columns": null,
            "grid_auto_flow": null,
            "grid_auto_rows": null,
            "grid_column": null,
            "grid_gap": null,
            "grid_row": null,
            "grid_template_areas": null,
            "grid_template_columns": null,
            "grid_template_rows": null,
            "height": null,
            "justify_content": null,
            "justify_items": null,
            "left": null,
            "margin": null,
            "max_height": null,
            "max_width": null,
            "min_height": null,
            "min_width": null,
            "object_fit": null,
            "object_position": null,
            "order": null,
            "overflow": null,
            "overflow_x": null,
            "overflow_y": null,
            "padding": null,
            "right": null,
            "top": null,
            "visibility": null,
            "width": null
          }
        },
        "6e0e719b580c41b89ed504d6c1ad1865": {
          "model_module": "@jupyter-widgets/base",
          "model_name": "LayoutModel",
          "model_module_version": "1.2.0",
          "state": {
            "_model_module": "@jupyter-widgets/base",
            "_model_module_version": "1.2.0",
            "_model_name": "LayoutModel",
            "_view_count": null,
            "_view_module": "@jupyter-widgets/base",
            "_view_module_version": "1.2.0",
            "_view_name": "LayoutView",
            "align_content": null,
            "align_items": null,
            "align_self": null,
            "border": null,
            "bottom": null,
            "display": null,
            "flex": null,
            "flex_flow": null,
            "grid_area": null,
            "grid_auto_columns": null,
            "grid_auto_flow": null,
            "grid_auto_rows": null,
            "grid_column": null,
            "grid_gap": null,
            "grid_row": null,
            "grid_template_areas": null,
            "grid_template_columns": null,
            "grid_template_rows": null,
            "height": null,
            "justify_content": null,
            "justify_items": null,
            "left": null,
            "margin": null,
            "max_height": null,
            "max_width": null,
            "min_height": null,
            "min_width": null,
            "object_fit": null,
            "object_position": null,
            "order": null,
            "overflow": null,
            "overflow_x": null,
            "overflow_y": null,
            "padding": null,
            "right": null,
            "top": null,
            "visibility": null,
            "width": null
          }
        },
        "aa0864b6db764398b553b13d383b20a6": {
          "model_module": "@jupyter-widgets/controls",
          "model_name": "DescriptionStyleModel",
          "model_module_version": "1.5.0",
          "state": {
            "_model_module": "@jupyter-widgets/controls",
            "_model_module_version": "1.5.0",
            "_model_name": "DescriptionStyleModel",
            "_view_count": null,
            "_view_module": "@jupyter-widgets/base",
            "_view_module_version": "1.2.0",
            "_view_name": "StyleView",
            "description_width": ""
          }
        },
        "c6d381e7cc9149ea8ef17a9ada0c0cb8": {
          "model_module": "@jupyter-widgets/base",
          "model_name": "LayoutModel",
          "model_module_version": "1.2.0",
          "state": {
            "_model_module": "@jupyter-widgets/base",
            "_model_module_version": "1.2.0",
            "_model_name": "LayoutModel",
            "_view_count": null,
            "_view_module": "@jupyter-widgets/base",
            "_view_module_version": "1.2.0",
            "_view_name": "LayoutView",
            "align_content": null,
            "align_items": null,
            "align_self": null,
            "border": null,
            "bottom": null,
            "display": null,
            "flex": null,
            "flex_flow": null,
            "grid_area": null,
            "grid_auto_columns": null,
            "grid_auto_flow": null,
            "grid_auto_rows": null,
            "grid_column": null,
            "grid_gap": null,
            "grid_row": null,
            "grid_template_areas": null,
            "grid_template_columns": null,
            "grid_template_rows": null,
            "height": null,
            "justify_content": null,
            "justify_items": null,
            "left": null,
            "margin": null,
            "max_height": null,
            "max_width": null,
            "min_height": null,
            "min_width": null,
            "object_fit": null,
            "object_position": null,
            "order": null,
            "overflow": null,
            "overflow_x": null,
            "overflow_y": null,
            "padding": null,
            "right": null,
            "top": null,
            "visibility": null,
            "width": null
          }
        },
        "f7f88750eab44f2a853c09ecfd2d3964": {
          "model_module": "@jupyter-widgets/controls",
          "model_name": "ProgressStyleModel",
          "model_module_version": "1.5.0",
          "state": {
            "_model_module": "@jupyter-widgets/controls",
            "_model_module_version": "1.5.0",
            "_model_name": "ProgressStyleModel",
            "_view_count": null,
            "_view_module": "@jupyter-widgets/base",
            "_view_module_version": "1.2.0",
            "_view_name": "StyleView",
            "bar_color": null,
            "description_width": ""
          }
        },
        "628212a740284ec0add97eaffecd22a6": {
          "model_module": "@jupyter-widgets/base",
          "model_name": "LayoutModel",
          "model_module_version": "1.2.0",
          "state": {
            "_model_module": "@jupyter-widgets/base",
            "_model_module_version": "1.2.0",
            "_model_name": "LayoutModel",
            "_view_count": null,
            "_view_module": "@jupyter-widgets/base",
            "_view_module_version": "1.2.0",
            "_view_name": "LayoutView",
            "align_content": null,
            "align_items": null,
            "align_self": null,
            "border": null,
            "bottom": null,
            "display": null,
            "flex": null,
            "flex_flow": null,
            "grid_area": null,
            "grid_auto_columns": null,
            "grid_auto_flow": null,
            "grid_auto_rows": null,
            "grid_column": null,
            "grid_gap": null,
            "grid_row": null,
            "grid_template_areas": null,
            "grid_template_columns": null,
            "grid_template_rows": null,
            "height": null,
            "justify_content": null,
            "justify_items": null,
            "left": null,
            "margin": null,
            "max_height": null,
            "max_width": null,
            "min_height": null,
            "min_width": null,
            "object_fit": null,
            "object_position": null,
            "order": null,
            "overflow": null,
            "overflow_x": null,
            "overflow_y": null,
            "padding": null,
            "right": null,
            "top": null,
            "visibility": null,
            "width": null
          }
        },
        "1984e89d59ee4fd182ac23bff90e7869": {
          "model_module": "@jupyter-widgets/controls",
          "model_name": "DescriptionStyleModel",
          "model_module_version": "1.5.0",
          "state": {
            "_model_module": "@jupyter-widgets/controls",
            "_model_module_version": "1.5.0",
            "_model_name": "DescriptionStyleModel",
            "_view_count": null,
            "_view_module": "@jupyter-widgets/base",
            "_view_module_version": "1.2.0",
            "_view_name": "StyleView",
            "description_width": ""
          }
        },
        "1b0c3731649a483290f96e7da135f4ba": {
          "model_module": "@jupyter-widgets/controls",
          "model_name": "HBoxModel",
          "model_module_version": "1.5.0",
          "state": {
            "_dom_classes": [],
            "_model_module": "@jupyter-widgets/controls",
            "_model_module_version": "1.5.0",
            "_model_name": "HBoxModel",
            "_view_count": null,
            "_view_module": "@jupyter-widgets/controls",
            "_view_module_version": "1.5.0",
            "_view_name": "HBoxView",
            "box_style": "",
            "children": [
              "IPY_MODEL_a3f85ddbc05943f396bb21d2072a5db1",
              "IPY_MODEL_c311ee3317894eef80c04a9b6a9f036b",
              "IPY_MODEL_e5dfc7f9668c464296cf9369746f1e0b"
            ],
            "layout": "IPY_MODEL_1a0e3b2262454ddc97cb820650100a49"
          }
        },
        "a3f85ddbc05943f396bb21d2072a5db1": {
          "model_module": "@jupyter-widgets/controls",
          "model_name": "HTMLModel",
          "model_module_version": "1.5.0",
          "state": {
            "_dom_classes": [],
            "_model_module": "@jupyter-widgets/controls",
            "_model_module_version": "1.5.0",
            "_model_name": "HTMLModel",
            "_view_count": null,
            "_view_module": "@jupyter-widgets/controls",
            "_view_module_version": "1.5.0",
            "_view_name": "HTMLView",
            "description": "",
            "description_tooltip": null,
            "layout": "IPY_MODEL_7d72f0fdd7c14107bb9e7c39092a6508",
            "placeholder": "​",
            "style": "IPY_MODEL_1bcd5cbff7ce46819d07ba7018f05963",
            "value": "tokenizer.json: 100%"
          }
        },
        "c311ee3317894eef80c04a9b6a9f036b": {
          "model_module": "@jupyter-widgets/controls",
          "model_name": "FloatProgressModel",
          "model_module_version": "1.5.0",
          "state": {
            "_dom_classes": [],
            "_model_module": "@jupyter-widgets/controls",
            "_model_module_version": "1.5.0",
            "_model_name": "FloatProgressModel",
            "_view_count": null,
            "_view_module": "@jupyter-widgets/controls",
            "_view_module_version": "1.5.0",
            "_view_name": "ProgressView",
            "bar_style": "success",
            "description": "",
            "description_tooltip": null,
            "layout": "IPY_MODEL_48245a4e2f84475680a6d69091162966",
            "max": 466247,
            "min": 0,
            "orientation": "horizontal",
            "style": "IPY_MODEL_df1d670bf51a418284de603060443fb5",
            "value": 466247
          }
        },
        "e5dfc7f9668c464296cf9369746f1e0b": {
          "model_module": "@jupyter-widgets/controls",
          "model_name": "HTMLModel",
          "model_module_version": "1.5.0",
          "state": {
            "_dom_classes": [],
            "_model_module": "@jupyter-widgets/controls",
            "_model_module_version": "1.5.0",
            "_model_name": "HTMLModel",
            "_view_count": null,
            "_view_module": "@jupyter-widgets/controls",
            "_view_module_version": "1.5.0",
            "_view_name": "HTMLView",
            "description": "",
            "description_tooltip": null,
            "layout": "IPY_MODEL_019f1d40ea694b698f014fe30478a907",
            "placeholder": "​",
            "style": "IPY_MODEL_96ff63b26bba4ed8ae7b7609e5e313ea",
            "value": " 466k/466k [00:00&lt;00:00, 1.26MB/s]"
          }
        },
        "1a0e3b2262454ddc97cb820650100a49": {
          "model_module": "@jupyter-widgets/base",
          "model_name": "LayoutModel",
          "model_module_version": "1.2.0",
          "state": {
            "_model_module": "@jupyter-widgets/base",
            "_model_module_version": "1.2.0",
            "_model_name": "LayoutModel",
            "_view_count": null,
            "_view_module": "@jupyter-widgets/base",
            "_view_module_version": "1.2.0",
            "_view_name": "LayoutView",
            "align_content": null,
            "align_items": null,
            "align_self": null,
            "border": null,
            "bottom": null,
            "display": null,
            "flex": null,
            "flex_flow": null,
            "grid_area": null,
            "grid_auto_columns": null,
            "grid_auto_flow": null,
            "grid_auto_rows": null,
            "grid_column": null,
            "grid_gap": null,
            "grid_row": null,
            "grid_template_areas": null,
            "grid_template_columns": null,
            "grid_template_rows": null,
            "height": null,
            "justify_content": null,
            "justify_items": null,
            "left": null,
            "margin": null,
            "max_height": null,
            "max_width": null,
            "min_height": null,
            "min_width": null,
            "object_fit": null,
            "object_position": null,
            "order": null,
            "overflow": null,
            "overflow_x": null,
            "overflow_y": null,
            "padding": null,
            "right": null,
            "top": null,
            "visibility": null,
            "width": null
          }
        },
        "7d72f0fdd7c14107bb9e7c39092a6508": {
          "model_module": "@jupyter-widgets/base",
          "model_name": "LayoutModel",
          "model_module_version": "1.2.0",
          "state": {
            "_model_module": "@jupyter-widgets/base",
            "_model_module_version": "1.2.0",
            "_model_name": "LayoutModel",
            "_view_count": null,
            "_view_module": "@jupyter-widgets/base",
            "_view_module_version": "1.2.0",
            "_view_name": "LayoutView",
            "align_content": null,
            "align_items": null,
            "align_self": null,
            "border": null,
            "bottom": null,
            "display": null,
            "flex": null,
            "flex_flow": null,
            "grid_area": null,
            "grid_auto_columns": null,
            "grid_auto_flow": null,
            "grid_auto_rows": null,
            "grid_column": null,
            "grid_gap": null,
            "grid_row": null,
            "grid_template_areas": null,
            "grid_template_columns": null,
            "grid_template_rows": null,
            "height": null,
            "justify_content": null,
            "justify_items": null,
            "left": null,
            "margin": null,
            "max_height": null,
            "max_width": null,
            "min_height": null,
            "min_width": null,
            "object_fit": null,
            "object_position": null,
            "order": null,
            "overflow": null,
            "overflow_x": null,
            "overflow_y": null,
            "padding": null,
            "right": null,
            "top": null,
            "visibility": null,
            "width": null
          }
        },
        "1bcd5cbff7ce46819d07ba7018f05963": {
          "model_module": "@jupyter-widgets/controls",
          "model_name": "DescriptionStyleModel",
          "model_module_version": "1.5.0",
          "state": {
            "_model_module": "@jupyter-widgets/controls",
            "_model_module_version": "1.5.0",
            "_model_name": "DescriptionStyleModel",
            "_view_count": null,
            "_view_module": "@jupyter-widgets/base",
            "_view_module_version": "1.2.0",
            "_view_name": "StyleView",
            "description_width": ""
          }
        },
        "48245a4e2f84475680a6d69091162966": {
          "model_module": "@jupyter-widgets/base",
          "model_name": "LayoutModel",
          "model_module_version": "1.2.0",
          "state": {
            "_model_module": "@jupyter-widgets/base",
            "_model_module_version": "1.2.0",
            "_model_name": "LayoutModel",
            "_view_count": null,
            "_view_module": "@jupyter-widgets/base",
            "_view_module_version": "1.2.0",
            "_view_name": "LayoutView",
            "align_content": null,
            "align_items": null,
            "align_self": null,
            "border": null,
            "bottom": null,
            "display": null,
            "flex": null,
            "flex_flow": null,
            "grid_area": null,
            "grid_auto_columns": null,
            "grid_auto_flow": null,
            "grid_auto_rows": null,
            "grid_column": null,
            "grid_gap": null,
            "grid_row": null,
            "grid_template_areas": null,
            "grid_template_columns": null,
            "grid_template_rows": null,
            "height": null,
            "justify_content": null,
            "justify_items": null,
            "left": null,
            "margin": null,
            "max_height": null,
            "max_width": null,
            "min_height": null,
            "min_width": null,
            "object_fit": null,
            "object_position": null,
            "order": null,
            "overflow": null,
            "overflow_x": null,
            "overflow_y": null,
            "padding": null,
            "right": null,
            "top": null,
            "visibility": null,
            "width": null
          }
        },
        "df1d670bf51a418284de603060443fb5": {
          "model_module": "@jupyter-widgets/controls",
          "model_name": "ProgressStyleModel",
          "model_module_version": "1.5.0",
          "state": {
            "_model_module": "@jupyter-widgets/controls",
            "_model_module_version": "1.5.0",
            "_model_name": "ProgressStyleModel",
            "_view_count": null,
            "_view_module": "@jupyter-widgets/base",
            "_view_module_version": "1.2.0",
            "_view_name": "StyleView",
            "bar_color": null,
            "description_width": ""
          }
        },
        "019f1d40ea694b698f014fe30478a907": {
          "model_module": "@jupyter-widgets/base",
          "model_name": "LayoutModel",
          "model_module_version": "1.2.0",
          "state": {
            "_model_module": "@jupyter-widgets/base",
            "_model_module_version": "1.2.0",
            "_model_name": "LayoutModel",
            "_view_count": null,
            "_view_module": "@jupyter-widgets/base",
            "_view_module_version": "1.2.0",
            "_view_name": "LayoutView",
            "align_content": null,
            "align_items": null,
            "align_self": null,
            "border": null,
            "bottom": null,
            "display": null,
            "flex": null,
            "flex_flow": null,
            "grid_area": null,
            "grid_auto_columns": null,
            "grid_auto_flow": null,
            "grid_auto_rows": null,
            "grid_column": null,
            "grid_gap": null,
            "grid_row": null,
            "grid_template_areas": null,
            "grid_template_columns": null,
            "grid_template_rows": null,
            "height": null,
            "justify_content": null,
            "justify_items": null,
            "left": null,
            "margin": null,
            "max_height": null,
            "max_width": null,
            "min_height": null,
            "min_width": null,
            "object_fit": null,
            "object_position": null,
            "order": null,
            "overflow": null,
            "overflow_x": null,
            "overflow_y": null,
            "padding": null,
            "right": null,
            "top": null,
            "visibility": null,
            "width": null
          }
        },
        "96ff63b26bba4ed8ae7b7609e5e313ea": {
          "model_module": "@jupyter-widgets/controls",
          "model_name": "DescriptionStyleModel",
          "model_module_version": "1.5.0",
          "state": {
            "_model_module": "@jupyter-widgets/controls",
            "_model_module_version": "1.5.0",
            "_model_name": "DescriptionStyleModel",
            "_view_count": null,
            "_view_module": "@jupyter-widgets/base",
            "_view_module_version": "1.2.0",
            "_view_name": "StyleView",
            "description_width": ""
          }
        },
        "4d08514f7bc3407586b056fd85e17868": {
          "model_module": "@jupyter-widgets/controls",
          "model_name": "HBoxModel",
          "model_module_version": "1.5.0",
          "state": {
            "_dom_classes": [],
            "_model_module": "@jupyter-widgets/controls",
            "_model_module_version": "1.5.0",
            "_model_name": "HBoxModel",
            "_view_count": null,
            "_view_module": "@jupyter-widgets/controls",
            "_view_module_version": "1.5.0",
            "_view_name": "HBoxView",
            "box_style": "",
            "children": [
              "IPY_MODEL_819d06a9edb441f9b1f423eaf1154e6f",
              "IPY_MODEL_e2444dd7398540ce86d226841a4edee7",
              "IPY_MODEL_b52fd0a613db4544a89fa54bbce01be8"
            ],
            "layout": "IPY_MODEL_58853b0a357142368143f50479ec48d1"
          }
        },
        "819d06a9edb441f9b1f423eaf1154e6f": {
          "model_module": "@jupyter-widgets/controls",
          "model_name": "HTMLModel",
          "model_module_version": "1.5.0",
          "state": {
            "_dom_classes": [],
            "_model_module": "@jupyter-widgets/controls",
            "_model_module_version": "1.5.0",
            "_model_name": "HTMLModel",
            "_view_count": null,
            "_view_module": "@jupyter-widgets/controls",
            "_view_module_version": "1.5.0",
            "_view_name": "HTMLView",
            "description": "",
            "description_tooltip": null,
            "layout": "IPY_MODEL_c768a0c9d11048f88ce3581cc50c52ae",
            "placeholder": "​",
            "style": "IPY_MODEL_158b6f86fb934d93a6e774822476303d",
            "value": "special_tokens_map.json: 100%"
          }
        },
        "e2444dd7398540ce86d226841a4edee7": {
          "model_module": "@jupyter-widgets/controls",
          "model_name": "FloatProgressModel",
          "model_module_version": "1.5.0",
          "state": {
            "_dom_classes": [],
            "_model_module": "@jupyter-widgets/controls",
            "_model_module_version": "1.5.0",
            "_model_name": "FloatProgressModel",
            "_view_count": null,
            "_view_module": "@jupyter-widgets/controls",
            "_view_module_version": "1.5.0",
            "_view_name": "ProgressView",
            "bar_style": "success",
            "description": "",
            "description_tooltip": null,
            "layout": "IPY_MODEL_0b65cfe287b448da8af68d02ce5fa4eb",
            "max": 112,
            "min": 0,
            "orientation": "horizontal",
            "style": "IPY_MODEL_76cd95ce0f3e4270996f307debf948cf",
            "value": 112
          }
        },
        "b52fd0a613db4544a89fa54bbce01be8": {
          "model_module": "@jupyter-widgets/controls",
          "model_name": "HTMLModel",
          "model_module_version": "1.5.0",
          "state": {
            "_dom_classes": [],
            "_model_module": "@jupyter-widgets/controls",
            "_model_module_version": "1.5.0",
            "_model_name": "HTMLModel",
            "_view_count": null,
            "_view_module": "@jupyter-widgets/controls",
            "_view_module_version": "1.5.0",
            "_view_name": "HTMLView",
            "description": "",
            "description_tooltip": null,
            "layout": "IPY_MODEL_3e62915a5ae8490fa43a9d297991cf3b",
            "placeholder": "​",
            "style": "IPY_MODEL_63328a405cb34247bcc894f117a92b3f",
            "value": " 112/112 [00:00&lt;00:00, 15.1kB/s]"
          }
        },
        "58853b0a357142368143f50479ec48d1": {
          "model_module": "@jupyter-widgets/base",
          "model_name": "LayoutModel",
          "model_module_version": "1.2.0",
          "state": {
            "_model_module": "@jupyter-widgets/base",
            "_model_module_version": "1.2.0",
            "_model_name": "LayoutModel",
            "_view_count": null,
            "_view_module": "@jupyter-widgets/base",
            "_view_module_version": "1.2.0",
            "_view_name": "LayoutView",
            "align_content": null,
            "align_items": null,
            "align_self": null,
            "border": null,
            "bottom": null,
            "display": null,
            "flex": null,
            "flex_flow": null,
            "grid_area": null,
            "grid_auto_columns": null,
            "grid_auto_flow": null,
            "grid_auto_rows": null,
            "grid_column": null,
            "grid_gap": null,
            "grid_row": null,
            "grid_template_areas": null,
            "grid_template_columns": null,
            "grid_template_rows": null,
            "height": null,
            "justify_content": null,
            "justify_items": null,
            "left": null,
            "margin": null,
            "max_height": null,
            "max_width": null,
            "min_height": null,
            "min_width": null,
            "object_fit": null,
            "object_position": null,
            "order": null,
            "overflow": null,
            "overflow_x": null,
            "overflow_y": null,
            "padding": null,
            "right": null,
            "top": null,
            "visibility": null,
            "width": null
          }
        },
        "c768a0c9d11048f88ce3581cc50c52ae": {
          "model_module": "@jupyter-widgets/base",
          "model_name": "LayoutModel",
          "model_module_version": "1.2.0",
          "state": {
            "_model_module": "@jupyter-widgets/base",
            "_model_module_version": "1.2.0",
            "_model_name": "LayoutModel",
            "_view_count": null,
            "_view_module": "@jupyter-widgets/base",
            "_view_module_version": "1.2.0",
            "_view_name": "LayoutView",
            "align_content": null,
            "align_items": null,
            "align_self": null,
            "border": null,
            "bottom": null,
            "display": null,
            "flex": null,
            "flex_flow": null,
            "grid_area": null,
            "grid_auto_columns": null,
            "grid_auto_flow": null,
            "grid_auto_rows": null,
            "grid_column": null,
            "grid_gap": null,
            "grid_row": null,
            "grid_template_areas": null,
            "grid_template_columns": null,
            "grid_template_rows": null,
            "height": null,
            "justify_content": null,
            "justify_items": null,
            "left": null,
            "margin": null,
            "max_height": null,
            "max_width": null,
            "min_height": null,
            "min_width": null,
            "object_fit": null,
            "object_position": null,
            "order": null,
            "overflow": null,
            "overflow_x": null,
            "overflow_y": null,
            "padding": null,
            "right": null,
            "top": null,
            "visibility": null,
            "width": null
          }
        },
        "158b6f86fb934d93a6e774822476303d": {
          "model_module": "@jupyter-widgets/controls",
          "model_name": "DescriptionStyleModel",
          "model_module_version": "1.5.0",
          "state": {
            "_model_module": "@jupyter-widgets/controls",
            "_model_module_version": "1.5.0",
            "_model_name": "DescriptionStyleModel",
            "_view_count": null,
            "_view_module": "@jupyter-widgets/base",
            "_view_module_version": "1.2.0",
            "_view_name": "StyleView",
            "description_width": ""
          }
        },
        "0b65cfe287b448da8af68d02ce5fa4eb": {
          "model_module": "@jupyter-widgets/base",
          "model_name": "LayoutModel",
          "model_module_version": "1.2.0",
          "state": {
            "_model_module": "@jupyter-widgets/base",
            "_model_module_version": "1.2.0",
            "_model_name": "LayoutModel",
            "_view_count": null,
            "_view_module": "@jupyter-widgets/base",
            "_view_module_version": "1.2.0",
            "_view_name": "LayoutView",
            "align_content": null,
            "align_items": null,
            "align_self": null,
            "border": null,
            "bottom": null,
            "display": null,
            "flex": null,
            "flex_flow": null,
            "grid_area": null,
            "grid_auto_columns": null,
            "grid_auto_flow": null,
            "grid_auto_rows": null,
            "grid_column": null,
            "grid_gap": null,
            "grid_row": null,
            "grid_template_areas": null,
            "grid_template_columns": null,
            "grid_template_rows": null,
            "height": null,
            "justify_content": null,
            "justify_items": null,
            "left": null,
            "margin": null,
            "max_height": null,
            "max_width": null,
            "min_height": null,
            "min_width": null,
            "object_fit": null,
            "object_position": null,
            "order": null,
            "overflow": null,
            "overflow_x": null,
            "overflow_y": null,
            "padding": null,
            "right": null,
            "top": null,
            "visibility": null,
            "width": null
          }
        },
        "76cd95ce0f3e4270996f307debf948cf": {
          "model_module": "@jupyter-widgets/controls",
          "model_name": "ProgressStyleModel",
          "model_module_version": "1.5.0",
          "state": {
            "_model_module": "@jupyter-widgets/controls",
            "_model_module_version": "1.5.0",
            "_model_name": "ProgressStyleModel",
            "_view_count": null,
            "_view_module": "@jupyter-widgets/base",
            "_view_module_version": "1.2.0",
            "_view_name": "StyleView",
            "bar_color": null,
            "description_width": ""
          }
        },
        "3e62915a5ae8490fa43a9d297991cf3b": {
          "model_module": "@jupyter-widgets/base",
          "model_name": "LayoutModel",
          "model_module_version": "1.2.0",
          "state": {
            "_model_module": "@jupyter-widgets/base",
            "_model_module_version": "1.2.0",
            "_model_name": "LayoutModel",
            "_view_count": null,
            "_view_module": "@jupyter-widgets/base",
            "_view_module_version": "1.2.0",
            "_view_name": "LayoutView",
            "align_content": null,
            "align_items": null,
            "align_self": null,
            "border": null,
            "bottom": null,
            "display": null,
            "flex": null,
            "flex_flow": null,
            "grid_area": null,
            "grid_auto_columns": null,
            "grid_auto_flow": null,
            "grid_auto_rows": null,
            "grid_column": null,
            "grid_gap": null,
            "grid_row": null,
            "grid_template_areas": null,
            "grid_template_columns": null,
            "grid_template_rows": null,
            "height": null,
            "justify_content": null,
            "justify_items": null,
            "left": null,
            "margin": null,
            "max_height": null,
            "max_width": null,
            "min_height": null,
            "min_width": null,
            "object_fit": null,
            "object_position": null,
            "order": null,
            "overflow": null,
            "overflow_x": null,
            "overflow_y": null,
            "padding": null,
            "right": null,
            "top": null,
            "visibility": null,
            "width": null
          }
        },
        "63328a405cb34247bcc894f117a92b3f": {
          "model_module": "@jupyter-widgets/controls",
          "model_name": "DescriptionStyleModel",
          "model_module_version": "1.5.0",
          "state": {
            "_model_module": "@jupyter-widgets/controls",
            "_model_module_version": "1.5.0",
            "_model_name": "DescriptionStyleModel",
            "_view_count": null,
            "_view_module": "@jupyter-widgets/base",
            "_view_module_version": "1.2.0",
            "_view_name": "StyleView",
            "description_width": ""
          }
        },
        "779113b41e824578a62c6e6d4d00439f": {
          "model_module": "@jupyter-widgets/controls",
          "model_name": "HBoxModel",
          "model_module_version": "1.5.0",
          "state": {
            "_dom_classes": [],
            "_model_module": "@jupyter-widgets/controls",
            "_model_module_version": "1.5.0",
            "_model_name": "HBoxModel",
            "_view_count": null,
            "_view_module": "@jupyter-widgets/controls",
            "_view_module_version": "1.5.0",
            "_view_name": "HBoxView",
            "box_style": "",
            "children": [
              "IPY_MODEL_0f08af88f731481a9b1a8960c836a166",
              "IPY_MODEL_8dc237840454404f80611f35949923cf",
              "IPY_MODEL_41d8b5dda93340d8952d2af40622c21e"
            ],
            "layout": "IPY_MODEL_d282599ddce34709b8fa9277ea4acb70"
          }
        },
        "0f08af88f731481a9b1a8960c836a166": {
          "model_module": "@jupyter-widgets/controls",
          "model_name": "HTMLModel",
          "model_module_version": "1.5.0",
          "state": {
            "_dom_classes": [],
            "_model_module": "@jupyter-widgets/controls",
            "_model_module_version": "1.5.0",
            "_model_name": "HTMLModel",
            "_view_count": null,
            "_view_module": "@jupyter-widgets/controls",
            "_view_module_version": "1.5.0",
            "_view_name": "HTMLView",
            "description": "",
            "description_tooltip": null,
            "layout": "IPY_MODEL_98c5e36c476f4be38f8095676e1eca30",
            "placeholder": "​",
            "style": "IPY_MODEL_85d552c260774ba89cf24a9771cd8172",
            "value": "config.json: 100%"
          }
        },
        "8dc237840454404f80611f35949923cf": {
          "model_module": "@jupyter-widgets/controls",
          "model_name": "FloatProgressModel",
          "model_module_version": "1.5.0",
          "state": {
            "_dom_classes": [],
            "_model_module": "@jupyter-widgets/controls",
            "_model_module_version": "1.5.0",
            "_model_name": "FloatProgressModel",
            "_view_count": null,
            "_view_module": "@jupyter-widgets/controls",
            "_view_module_version": "1.5.0",
            "_view_name": "ProgressView",
            "bar_style": "success",
            "description": "",
            "description_tooltip": null,
            "layout": "IPY_MODEL_908053a877d744e8b5627524147b410e",
            "max": 190,
            "min": 0,
            "orientation": "horizontal",
            "style": "IPY_MODEL_251fa26976fd405b9caea8e5a02c11ec",
            "value": 190
          }
        },
        "41d8b5dda93340d8952d2af40622c21e": {
          "model_module": "@jupyter-widgets/controls",
          "model_name": "HTMLModel",
          "model_module_version": "1.5.0",
          "state": {
            "_dom_classes": [],
            "_model_module": "@jupyter-widgets/controls",
            "_model_module_version": "1.5.0",
            "_model_name": "HTMLModel",
            "_view_count": null,
            "_view_module": "@jupyter-widgets/controls",
            "_view_module_version": "1.5.0",
            "_view_name": "HTMLView",
            "description": "",
            "description_tooltip": null,
            "layout": "IPY_MODEL_1773572cec1547baa8bc58275ad0eff4",
            "placeholder": "​",
            "style": "IPY_MODEL_121c6ee3115c4934bcbf15fcb2f7219c",
            "value": " 190/190 [00:00&lt;00:00, 21.8kB/s]"
          }
        },
        "d282599ddce34709b8fa9277ea4acb70": {
          "model_module": "@jupyter-widgets/base",
          "model_name": "LayoutModel",
          "model_module_version": "1.2.0",
          "state": {
            "_model_module": "@jupyter-widgets/base",
            "_model_module_version": "1.2.0",
            "_model_name": "LayoutModel",
            "_view_count": null,
            "_view_module": "@jupyter-widgets/base",
            "_view_module_version": "1.2.0",
            "_view_name": "LayoutView",
            "align_content": null,
            "align_items": null,
            "align_self": null,
            "border": null,
            "bottom": null,
            "display": null,
            "flex": null,
            "flex_flow": null,
            "grid_area": null,
            "grid_auto_columns": null,
            "grid_auto_flow": null,
            "grid_auto_rows": null,
            "grid_column": null,
            "grid_gap": null,
            "grid_row": null,
            "grid_template_areas": null,
            "grid_template_columns": null,
            "grid_template_rows": null,
            "height": null,
            "justify_content": null,
            "justify_items": null,
            "left": null,
            "margin": null,
            "max_height": null,
            "max_width": null,
            "min_height": null,
            "min_width": null,
            "object_fit": null,
            "object_position": null,
            "order": null,
            "overflow": null,
            "overflow_x": null,
            "overflow_y": null,
            "padding": null,
            "right": null,
            "top": null,
            "visibility": null,
            "width": null
          }
        },
        "98c5e36c476f4be38f8095676e1eca30": {
          "model_module": "@jupyter-widgets/base",
          "model_name": "LayoutModel",
          "model_module_version": "1.2.0",
          "state": {
            "_model_module": "@jupyter-widgets/base",
            "_model_module_version": "1.2.0",
            "_model_name": "LayoutModel",
            "_view_count": null,
            "_view_module": "@jupyter-widgets/base",
            "_view_module_version": "1.2.0",
            "_view_name": "LayoutView",
            "align_content": null,
            "align_items": null,
            "align_self": null,
            "border": null,
            "bottom": null,
            "display": null,
            "flex": null,
            "flex_flow": null,
            "grid_area": null,
            "grid_auto_columns": null,
            "grid_auto_flow": null,
            "grid_auto_rows": null,
            "grid_column": null,
            "grid_gap": null,
            "grid_row": null,
            "grid_template_areas": null,
            "grid_template_columns": null,
            "grid_template_rows": null,
            "height": null,
            "justify_content": null,
            "justify_items": null,
            "left": null,
            "margin": null,
            "max_height": null,
            "max_width": null,
            "min_height": null,
            "min_width": null,
            "object_fit": null,
            "object_position": null,
            "order": null,
            "overflow": null,
            "overflow_x": null,
            "overflow_y": null,
            "padding": null,
            "right": null,
            "top": null,
            "visibility": null,
            "width": null
          }
        },
        "85d552c260774ba89cf24a9771cd8172": {
          "model_module": "@jupyter-widgets/controls",
          "model_name": "DescriptionStyleModel",
          "model_module_version": "1.5.0",
          "state": {
            "_model_module": "@jupyter-widgets/controls",
            "_model_module_version": "1.5.0",
            "_model_name": "DescriptionStyleModel",
            "_view_count": null,
            "_view_module": "@jupyter-widgets/base",
            "_view_module_version": "1.2.0",
            "_view_name": "StyleView",
            "description_width": ""
          }
        },
        "908053a877d744e8b5627524147b410e": {
          "model_module": "@jupyter-widgets/base",
          "model_name": "LayoutModel",
          "model_module_version": "1.2.0",
          "state": {
            "_model_module": "@jupyter-widgets/base",
            "_model_module_version": "1.2.0",
            "_model_name": "LayoutModel",
            "_view_count": null,
            "_view_module": "@jupyter-widgets/base",
            "_view_module_version": "1.2.0",
            "_view_name": "LayoutView",
            "align_content": null,
            "align_items": null,
            "align_self": null,
            "border": null,
            "bottom": null,
            "display": null,
            "flex": null,
            "flex_flow": null,
            "grid_area": null,
            "grid_auto_columns": null,
            "grid_auto_flow": null,
            "grid_auto_rows": null,
            "grid_column": null,
            "grid_gap": null,
            "grid_row": null,
            "grid_template_areas": null,
            "grid_template_columns": null,
            "grid_template_rows": null,
            "height": null,
            "justify_content": null,
            "justify_items": null,
            "left": null,
            "margin": null,
            "max_height": null,
            "max_width": null,
            "min_height": null,
            "min_width": null,
            "object_fit": null,
            "object_position": null,
            "order": null,
            "overflow": null,
            "overflow_x": null,
            "overflow_y": null,
            "padding": null,
            "right": null,
            "top": null,
            "visibility": null,
            "width": null
          }
        },
        "251fa26976fd405b9caea8e5a02c11ec": {
          "model_module": "@jupyter-widgets/controls",
          "model_name": "ProgressStyleModel",
          "model_module_version": "1.5.0",
          "state": {
            "_model_module": "@jupyter-widgets/controls",
            "_model_module_version": "1.5.0",
            "_model_name": "ProgressStyleModel",
            "_view_count": null,
            "_view_module": "@jupyter-widgets/base",
            "_view_module_version": "1.2.0",
            "_view_name": "StyleView",
            "bar_color": null,
            "description_width": ""
          }
        },
        "1773572cec1547baa8bc58275ad0eff4": {
          "model_module": "@jupyter-widgets/base",
          "model_name": "LayoutModel",
          "model_module_version": "1.2.0",
          "state": {
            "_model_module": "@jupyter-widgets/base",
            "_model_module_version": "1.2.0",
            "_model_name": "LayoutModel",
            "_view_count": null,
            "_view_module": "@jupyter-widgets/base",
            "_view_module_version": "1.2.0",
            "_view_name": "LayoutView",
            "align_content": null,
            "align_items": null,
            "align_self": null,
            "border": null,
            "bottom": null,
            "display": null,
            "flex": null,
            "flex_flow": null,
            "grid_area": null,
            "grid_auto_columns": null,
            "grid_auto_flow": null,
            "grid_auto_rows": null,
            "grid_column": null,
            "grid_gap": null,
            "grid_row": null,
            "grid_template_areas": null,
            "grid_template_columns": null,
            "grid_template_rows": null,
            "height": null,
            "justify_content": null,
            "justify_items": null,
            "left": null,
            "margin": null,
            "max_height": null,
            "max_width": null,
            "min_height": null,
            "min_width": null,
            "object_fit": null,
            "object_position": null,
            "order": null,
            "overflow": null,
            "overflow_x": null,
            "overflow_y": null,
            "padding": null,
            "right": null,
            "top": null,
            "visibility": null,
            "width": null
          }
        },
        "121c6ee3115c4934bcbf15fcb2f7219c": {
          "model_module": "@jupyter-widgets/controls",
          "model_name": "DescriptionStyleModel",
          "model_module_version": "1.5.0",
          "state": {
            "_model_module": "@jupyter-widgets/controls",
            "_model_module_version": "1.5.0",
            "_model_name": "DescriptionStyleModel",
            "_view_count": null,
            "_view_module": "@jupyter-widgets/base",
            "_view_module_version": "1.2.0",
            "_view_name": "StyleView",
            "description_width": ""
          }
        }
      }
    }
  },
  "nbformat": 4,
  "nbformat_minor": 0
}